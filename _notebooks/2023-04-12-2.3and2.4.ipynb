{
 "cells": [
  {
   "cell_type": "markdown",
   "metadata": {},
   "source": [
    "# 2,3 and 2.4\n",
    "\n",
    "- toc: true\n",
    "- comments: true\n",
    "- layout: post "
   ]
  },
  {
   "cell_type": "markdown",
   "metadata": {},
   "source": [
    "# AP Prep\n",
    "<br>\n",
    "In the Blog add notes and observations on each code cell that request an answer.\n",
    "<br>\n",
    "\n",
    "### code block 2\n",
    "* A list of image dictionaries is produced by the image data() function after it has prepared a number of images.\n",
    "* scale image() resizes a PIL image to 320 pixels in width and returns the result.\n",
    "* image to base64() transforms a PIL image into its base64 equivalent.\n",
    "* Image management() sets an image's properties and scales and base64-encodes it.\n",
    "* The image management add html grey() function converts an image to grayscale and adds it as HTML.\n",
    "* If name equals \"main,\" it is determined whether the script is being imported or run directly.\n",
    "* each image in the images list's meta information, scaled view, and grayscale are shown.\n",
    "\n",
    "### code block 3\n",
    "* The program defines a class called Image Data that contains methods for manipulating images and image data.\n",
    "* The source, label, file, path, and baseWidth attributes are initialized on creation of the object by the Image Data constructor.\n",
    "* An image is scaled to the necessary width using the scale image() function.\n",
    "* A PIL picture is transformed into base64 HTML code using the image to html() method.\n",
    "* A PIL picture is turned into grayscale using the image to html grey() technique.\n",
    "* A series of photographs are prepared using the image data() method, which then returns the path and the images.\n",
    "* For each image, the image objects() function produces an object of Image Data and returns a list of those objects.\n",
    "* Each image object's information, scaled image, and grayscale image are printed in the if name == \"main\": section."
   ]
  },
  {
   "cell_type": "markdown",
   "metadata": {},
   "source": [
    "### In blog add College Board practice problems for 2.2\n",
    "\n",
    "<img width=\"1157\" alt=\"Screenshot 2023-03-12 at 11 33 55 PM\" src=\"https://user-images.githubusercontent.com/111464993/224625012-33d5e821-4626-4bfc-ba47-8b7a27ca12d4.png\">\n",
    "\n",
    "\n",
    "\n",
    "\n"
   ]
  },
  {
   "cell_type": "markdown",
   "metadata": {},
   "source": [
    "### Numpy, manipulating pixels.\n"
   ]
  },
  {
   "cell_type": "code",
   "execution_count": null,
   "metadata": {},
   "outputs": [],
   "source": [
    "import numpy as np\n",
    "from PIL import Image\n",
    "\n",
    "# load the image and convert to a Numpy array\n",
    "img = Image.open(\"image.png\")\n",
    "img_arr = np.array(img)\n",
    "\n",
    "# define a function to manipulate the image by a certain color channel\n",
    "def manipulate_color_channel(img_arr, color_channel, intensity):\n",
    "    # copy the original array to avoid modifying it directly\n",
    "    manipulated_arr = img_arr.copy()\n",
    "    # index the color channel and multiply by the desired intensity\n",
    "    manipulated_arr[:, :, color_channel] *= intensity\n",
    "    # make sure the pixel values are within the valid range of 0-255\n",
    "    manipulated_arr = np.clip(manipulated_arr, 0, 255)\n",
    "    # convert the array back to an image\n",
    "    manipulated_img = Image.fromarray(manipulated_arr.astype(np.uint8))\n",
    "    return manipulated_img\n",
    "\n",
    "# manipulate the image using the red color channel\n",
    "manipulated_img = manipulate_color_channel(img_arr, 0, 2)\n",
    "manipulated_img.show()\n",
    "\n",
    "# manipulate the image using the green color channel\n",
    "manipulated_img = manipulate_color_channel(img_arr, 1, 1.5)\n",
    "manipulated_img.show()\n",
    "\n",
    "# manipulate the image using the blue color channel\n",
    "manipulated_img = manipulate_color_channel(img_arr, 2, 0.5)\n",
    "manipulated_img.show()\n"
   ]
  },
  {
   "cell_type": "markdown",
   "metadata": {},
   "source": [
    "## Binary and Hexadecimal reports\n",
    "\n"
   ]
  },
  {
   "cell_type": "code",
   "execution_count": null,
   "metadata": {},
   "outputs": [],
   "source": [
    "import cv2\n",
    "import numpy as np\n",
    "\n",
    "# Read the image in grayscale\n",
    "img = cv2.imread('example.jpg', cv2.IMREAD_GRAYSCALE)\n",
    "\n",
    "# Convert to red scale\n",
    "red_img = np.zeros_like(img)\n",
    "red_img[:, :, 0] = img\n",
    "\n",
    "# Display pixel values in binary and hexadecimal formats\n",
    "for i in range(10):\n",
    "    for j in range(10):\n",
    "        pixel_value = red_img[i, j]\n",
    "        binary_value = '{0:b}'.format(pixel_value)\n",
    "        hex_value = '{0:x}'.format(pixel_value)\n",
    "        print(f\"Pixel value: {pixel_value}, Binary value: {binary_value}, Hex value: {hex_value}\")"
   ]
  },
  {
   "cell_type": "markdown",
   "metadata": {},
   "source": [
    "## Compression and Sizing of images.\n"
   ]
  },
  {
   "cell_type": "code",
   "execution_count": null,
   "metadata": {},
   "outputs": [],
   "source": [
    "from PIL import Image\n",
    "\n",
    "# Open the original image\n",
    "img = Image.open('original_image.jpg')\n",
    "\n",
    "# Save the image in PNG format with maximum compression\n",
    "img.save('compressed_image.png', optimize=True, compress_level=9)"
   ]
  },
  {
   "cell_type": "markdown",
   "metadata": {},
   "source": [
    "### Blur the image or write Meta Data on screen, aka Title, Author and Image size.\n"
   ]
  },
  {
   "cell_type": "code",
   "execution_count": null,
   "metadata": {},
   "outputs": [],
   "source": [
    "from PIL import Image, ImageDraw, ImageFont, ImageFilter\n",
    "\n",
    "class ImageEditor:\n",
    "    def __init__(self, file_path):\n",
    "        self.image = Image.open(file_path)\n",
    "        self.width, self.height = self.image.size\n",
    "\n",
    "    def blur(self, radius=10):\n",
    "        self.image = self.image.filter(ImageFilter.GaussianBlur(radius))\n",
    "\n",
    "    def add_meta_data(self, title, author):\n",
    "        font = ImageFont.truetype('arial.ttf', size=20)\n",
    "        draw = ImageDraw.Draw(self.image)\n",
    "        draw.text((10, 10), f'Title: {title}', font=font, fill='white')\n",
    "        draw.text((10, 40), f'Author: {author}', font=font, fill='white')\n",
    "        draw.text((10, self.height - 30), f'Image size: {self.width} x {self.height}', font=font, fill='white')\n",
    "\n",
    "    def save_image(self, file_path):\n",
    "        self.image.save(file_path)\n",
    "\n",
    "# Example usage\n",
    "editor = ImageEditor('example_image.jpg')\n",
    "editor.blur(radius=15)\n",
    "editor.add_meta_data('Beautiful Scenery', 'John Doe')\n",
    "editor.save_image('edited_image.jpg')"
   ]
  },
  {
   "cell_type": "markdown",
   "metadata": {},
   "source": [
    "# 2.3 Hacks\n",
    "\n",
    "### In blog add College Board practice problems for 2.3\n",
    "<img width=\"1141\" alt=\"Screenshot 2023-03-12 at 11 34 36 PM\" src=\"https://user-images.githubusercontent.com/111464993/224625137-17a17cd3-47ab-4c1a-a171-7689953454a0.png\">\n",
    "\n"
   ]
  },
  {
   "cell_type": "markdown",
   "metadata": {},
   "source": [
    "### Code Block 1:\n"
   ]
  },
  {
   "cell_type": "code",
   "execution_count": null,
   "metadata": {},
   "outputs": [],
   "source": [
    "print(df[['GPA']])\n",
    "\n",
    "print()\n",
    "\n",
    "print(df[['Student ID','GPA']].to_string(index=False))\n"
   ]
  },
  {
   "cell_type": "markdown",
   "metadata": {},
   "source": [
    "### Code Block 2:"
   ]
  },
  {
   "cell_type": "code",
   "execution_count": null,
   "metadata": {},
   "outputs": [],
   "source": [
    "print(df.sort_values(by=['GPA']))\n",
    "\n",
    "\n",
    "print()\n",
    "\n",
    "print(df.sort_values(by=['GPA'], ascending=False))"
   ]
  },
  {
   "cell_type": "markdown",
   "metadata": {},
   "source": [
    "### Code Block 3:\n",
    "\n"
   ]
  },
  {
   "cell_type": "code",
   "execution_count": null,
   "metadata": {},
   "outputs": [],
   "source": [
    "print(df[df.GPA > 3.00])"
   ]
  },
  {
   "cell_type": "markdown",
   "metadata": {},
   "source": [
    "This code filters the rows of the original DataFrame 'df' where the value of the 'GPA' column is greater than 3.00, \n",
    "and prints the resulting filtered DataFrame. In other words, it selects and displays all rows where the value in \n",
    "the 'GPA' column is greater than 3.00.\n",
    "\n",
    "<br>\n",
    "\n",
    "### Code Block 4:\n"
   ]
  },
  {
   "cell_type": "code",
   "execution_count": null,
   "metadata": {},
   "outputs": [],
   "source": [
    "print(df[df.GPA == df.GPA.max()])\n",
    "\n",
    "print()\n",
    "\n",
    "\n",
    "print(df[df.GPA == df.GPA.min()])"
   ]
  },
  {
   "cell_type": "markdown",
   "metadata": {},
   "source": [
    "### Code Block 5:"
   ]
  },
  {
   "cell_type": "code",
   "execution_count": null,
   "metadata": {},
   "outputs": [],
   "source": [
    "import pandas as pd\n",
    "\n",
    "dict = {\n",
    "  \"calories\": [420, 380, 390],\n",
    "  \"duration\": [50, 40, 45]\n",
    "}\n",
    "\n",
    "\n",
    "print(\"-------------Dict_to_DF------------------\")\n",
    "df = pd.DataFrame(dict)\n",
    "print(df)\n",
    "\n",
    "\n",
    "print(\"----------Dict_to_DF_labels--------------\")\n",
    "df = pd.DataFrame(dict, index = [\"day1\", \"day2\", \"day3\"])\n",
    "print(df)"
   ]
  },
  {
   "cell_type": "markdown",
   "metadata": {},
   "source": [
    "### Code Block 6"
   ]
  },
  {
   "cell_type": "code",
   "execution_count": null,
   "metadata": {},
   "outputs": [],
   "source": [
    "print(\"-------Examine Selected Rows---------\")\n",
    "\n",
    "\n",
    "print(df.loc[[\"day1\", \"day3\"]])\n",
    "\n",
    "\n",
    "print(\"--------Examine Single Row-----------\")\n",
    "print(df.loc[\"day1\"])"
   ]
  },
  {
   "cell_type": "markdown",
   "metadata": {},
   "source": [
    "### Code Block 7"
   ]
  },
  {
   "cell_type": "code",
   "execution_count": null,
   "metadata": {},
   "outputs": [],
   "source": [
    "import pandas as pd\n",
    "\n",
    "df = pd.read_csv('files/data.csv').sort_values(by=['Duration'], ascending=False)\n",
    "\n",
    "print(\"--Duration Top 10---------\")\n",
    "print(df.head(10))\n",
    "\n",
    "print(\"--Duration Bottom 10------\")\n",
    "print(df.tail(10))\n"
   ]
  },
  {
   "cell_type": "markdown",
   "metadata": {},
   "source": [
    "### Code Block 8:"
   ]
  },
  {
   "cell_type": "code",
   "execution_count": null,
   "metadata": {},
   "outputs": [],
   "source": [
    "import pandas as pd\n",
    "import requests\n",
    "\n",
    "def fetch():\n",
    "    '''Obtain data from an endpoint'''\n",
    "    url = \"https://flask.nighthawkcodingsociety.com/api/covid/\"\n",
    "    fetch = requests.get(url)\n",
    "    json = fetch.json()\n",
    "\n",
    "    # filter data for requirement\n",
    "    df = pd.DataFrame(json['countries_stat'])  # filter endpoint for country stats\n",
    "    print(df.loc[0:5, 'country_name':'deaths']) # show row 0 through 5 and columns country_name through deaths\n",
    "    \n",
    "fetch()"
   ]
  },
  {
   "cell_type": "markdown",
   "metadata": {},
   "source": [
    "## Create or Find your own dataset\n",
    "\n"
   ]
  },
  {
   "cell_type": "code",
   "execution_count": null,
   "metadata": {},
   "outputs": [],
   "source": [
    "import json\n",
    "\n",
    "json_str = '''\n",
    "{\n",
    "    \"houses\": [\n",
    "        {\n",
    "            \"id\": 1,\n",
    "            \"location\": \"Los Angeles\",\n",
    "            \"bedrooms\": 3,\n",
    "            \"bathrooms\": 2,\n",
    "            \"square_feet\": 1800,\n",
    "            \"price\": 950000\n",
    "        },\n",
    "        {\n",
    "            \"id\": 2,\n",
    "            \"location\": \"San Francisco\",\n",
    "            \"bedrooms\": 2,\n",
    "            \"bathrooms\": 1,\n",
    "            \"square_feet\": 1200,\n",
    "            \"price\": 1200000\n",
    "        },\n",
    "        {\n",
    "            \"id\": 3,\n",
    "            \"location\": \"New York City\",\n",
    "            \"bedrooms\": 4,\n",
    "            \"bathrooms\": 3,\n",
    "            \"square_feet\": 2500,\n",
    "            \"price\": 1800000\n",
    "        },\n",
    "        {\n",
    "            \"id\": 4,\n",
    "            \"location\": \"Chicago\",\n",
    "            \"bedrooms\": 3,\n",
    "            \"bathrooms\": 2,\n",
    "            \"square_feet\": 2000,\n",
    "            \"price\": 700000\n",
    "        },\n",
    "        {\n",
    "            \"id\": 5,\n",
    "            \"location\": \"Seattle\",\n",
    "            \"bedrooms\": 5,\n",
    "            \"bathrooms\": 3,\n",
    "            \"square_feet\": 3000,\n",
    "            \"price\": 2200000\n",
    "        },\n",
    "        {\n",
    "            \"id\": 6,\n",
    "            \"location\": \"Boston\",\n",
    "            \"bedrooms\": 2,\n",
    "            \"bathrooms\": 1,\n",
    "            \"square_feet\": 1000,\n",
    "            \"price\": 750000\n",
    "        },\n",
    "        {\n",
    "            \"id\": 7,\n",
    "            \"location\": \"Austin\",\n",
    "            \"bedrooms\": 4,\n",
    "            \"bathrooms\": 2,\n",
    "            \"square_feet\": 2200,\n",
    "            \"price\": 900000\n",
    "        },\n",
    "        {\n",
    "            \"id\": 8,\n",
    "            \"location\": \"Denver\",\n",
    "            \"bedrooms\": 3,\n",
    "            \"bathrooms\": 2,\n",
    "            \"square_feet\": 1900,\n",
    "            \"price\": 650000\n",
    "        },\n",
    "        {\n",
    "            \"id\": 9,\n",
    "            \"location\": \"Miami\",\n",
    "            \"bedrooms\": 2,\n",
    "            \"bathrooms\": 1,\n",
    "            \"square_feet\": 1100,\n",
    "            \"price\": 550000\n",
    "        },\n",
    "        {\n",
    "            \"id\": 10,\n",
    "            \"location\": \"Portland\",\n",
    "            \"bedrooms\": 4,\n",
    "            \"bathrooms\": 2,\n",
    "            \"square_feet\": 2400,\n",
    "            \"price\": 1100000\n",
    "        }\n",
    "    ]\n",
    "}\n",
    "'''\n",
    "\n",
    "data = json.loads(json_str)\n"
   ]
  }
 ],
 "metadata": {
  "kernelspec": {
   "display_name": "Python 3.9.12 ('base')",
   "language": "python",
   "name": "python3"
  },
  "language_info": {
   "codemirror_mode": {
    "name": "ipython",
    "version": 3
   },
   "file_extension": ".py",
   "mimetype": "text/x-python",
   "name": "python",
   "nbconvert_exporter": "python",
   "pygments_lexer": "ipython3",
   "version": "3.9.12"
  },
  "orig_nbformat": 4,
  "vscode": {
   "interpreter": {
    "hash": "b39cc0b7d7b7baa8a40a102196f269dabc963c0136c1c82ab9b0b53a6e35bbf2"
   }
  }
 },
 "nbformat": 4,
 "nbformat_minor": 2
}
