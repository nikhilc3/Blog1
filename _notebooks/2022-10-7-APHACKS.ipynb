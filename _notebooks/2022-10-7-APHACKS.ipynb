{
 "cells": [
  {
   "cell_type": "markdown",
   "metadata": {},
   "source": [
    "# APHACKS\n",
    "> API HACKs\n",
    "- title: PYTHON sports API\n",
    "- toc: true\n",
    "- comments: true\n",
    "- categories: [_notebooks]"
   ]
  },
  {
   "cell_type": "code",
   "execution_count": 17,
   "metadata": {},
   "outputs": [
    {
     "name": "stdout",
     "output_type": "stream",
     "text": [
      "Messi Lionel (Paris SG)\n",
      "\n",
      "Messias Junior (AC Milan)\n",
      "\n",
      "Messaoudi Billel (Kortrijk)\n",
      "\n",
      "TSG Messel\n",
      "\n",
      "El Messaoudi Ahmed (FC Emmen)\n",
      "\n",
      "Messi Ahmed Adel (Al Ittihad Alexandria)\n",
      "\n",
      "Messoussa Amine\n",
      "\n",
      "ACR Messina\n",
      "\n",
      "Toudji Messan\n",
      "\n",
      "Manoel (Fluminense)\n",
      "\n",
      "Messerer Christoph (St. Polten)\n",
      "\n",
      "Messias (Ceara)\n",
      "\n",
      "Messai Mahmoud (Ben Guerdane)\n",
      "\n",
      "Messadi Houssine (Stade Tunisien)\n",
      "\n",
      "Messi (Botev Vratsa)\n",
      "\n",
      "Messibah Zakaria (Constantine)\n",
      "\n",
      "Messens Hugo (Sete)\n",
      "\n",
      "Merbah Messala (USM Alger)\n",
      "\n",
      "Leandro Messias (Stal Mielec)\n",
      "\n",
      "Messiba Jeremy (Lucon)\n",
      "\n"
     ]
    }
   ],
   "source": [
    "import requests\n",
    "\n",
    "url = \"https://flashlive-sports.p.rapidapi.com/v1/search/multi-search\"\n",
    "\n",
    "querystring = {\"query\":\"mess\",\"locale\":\"en_INT\"}\n",
    "\n",
    "headers = {\n",
    "\t\"X-RapidAPI-Key\": \"6cf0c105b2mshabcf75f48cea6f9p14945ajsn30b6ebcd6ead\",\n",
    "\t\"X-RapidAPI-Host\": \"flashlive-sports.p.rapidapi.com\"\n",
    "}\n",
    "\n",
    "response = requests.request(\"GET\", url, headers=headers, params=querystring)\n",
    "\n",
    "# print(response.json())\n",
    "for team in response.json():\n",
    "\tprint(team['TITLE'])\n",
    "\tprint()"
   ]
  }
 ],
 "metadata": {
  "kernelspec": {
   "display_name": "Python 3.10.5 64-bit",
   "language": "python",
   "name": "python3"
  },
  "language_info": {
   "codemirror_mode": {
    "name": "ipython",
    "version": 3
   },
   "file_extension": ".py",
   "mimetype": "text/x-python",
   "name": "python",
   "nbconvert_exporter": "python",
   "pygments_lexer": "ipython3",
   "version": "3.10.5"
  },
  "orig_nbformat": 4,
  "vscode": {
   "interpreter": {
    "hash": "aee8b7b246df8f9039afb4144a1f6fd8d2ca17a180786b69acc140d282b71a49"
   }
  }
 },
 "nbformat": 4,
 "nbformat_minor": 2
}
