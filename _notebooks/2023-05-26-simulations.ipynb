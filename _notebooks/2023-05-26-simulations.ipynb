{
 "cells": [
  {
   "cell_type": "markdown",
   "metadata": {},
   "source": [
    "## Hacks:\n",
    "\n",
    "1. Create a simulation that uses iteration and some form of data collection (list, dictionary...), also use matplotlib"
   ]
  },
  {
   "cell_type": "code",
   "execution_count": 1,
   "metadata": {},
   "outputs": [
    {
     "data": {
      "image/png": "[encoded data removed]",
      "text/plain": [
       "<Figure size 432x288 with 1 Axes>"
      ]
     },
     "metadata": {
      "needs_background": "light"
     },
     "output_type": "display_data"
    }
   ],
   "source": [
    "import matplotlib.pyplot as plt\n",
    "import random\n",
    "\n",
    "# Initialize parameters\n",
    "population_size = 10000\n",
    "initial_infected = 10\n",
    "days = 60\n",
    "daily_interaction = 10\n",
    "transmission_probability = 0.05\n",
    "\n",
    "# Initialize population\n",
    "population = ['healthy' for i in range(population_size)]\n",
    "for i in range(initial_infected):\n",
    "    population[i] = 'infected'\n",
    "\n",
    "# Track infection counts over time\n",
    "infection_counts = []\n",
    "\n",
    "for day in range(days):\n",
    "    # Record current infection count\n",
    "    infection_counts.append(population.count('infected'))\n",
    "\n",
    "    # Update population status\n",
    "    for i in range(population_size):\n",
    "        if population[i] == 'infected':\n",
    "            for j in range(daily_interaction):\n",
    "                # Randomly select an individual\n",
    "                individual = random.randint(0, population_size-1)\n",
    "                # Possibly infect them\n",
    "                if (population[individual] == 'healthy' and \n",
    "                    random.random() < transmission_probability):\n",
    "                    population[individual] = 'infected'\n",
    "\n",
    "# Display infection counts over time\n",
    "plt.plot(range(days), infection_counts)\n",
    "plt.title('Virus spread in a population over time')\n",
    "plt.xlabel('Days')\n",
    "plt.ylabel('Number of infected individuals')\n",
    "plt.show()\n"
   ]
  },
  {
   "cell_type": "markdown",
   "metadata": {},
   "source": [
    "This simulation starts with a population where a small number of individuals are infected with a virus. Each day, each infected individual interacts with a set number of other individuals, each of whom has a certain probability of becoming infected. The number of infected individuals is recorded each day and then plotted.\n",
    "\n",
    "\n",
    "2.How does your simulation help solve/mimic a real-world problem?\n",
    "- This simulation helps to understand the spread of a virus in a population. By adjusting the parameters, we can model different scenarios and help in decision-making processes for controlling the spread.\n",
    "\n",
    "3.Is there any bias in your simulation? Meaning, are there any discrepancies between your program and the real event?\n",
    "- Yes, the simulation is quite simplified and has several limitations. It assumes that the population is completely mixed (everyone has an equal chance of interacting with everyone else), which is not true in real life. It also does not consider the recovery of infected individuals and their potential immunity. Finally, it assumes a constant rate of interaction and probability of transmission, which may change in reality due to various factors like public health interventions.\n",
    "\n",
    "### Bonus"
   ]
  },
  {
   "cell_type": "markdown",
   "metadata": {},
   "source": [
    "Initialize intersection with no cars\n",
    "\n",
    "FOR each time step:\n",
    "\n",
    "- IF a car arrives at the intersection:\n",
    "\n",
    "    Add car to queue in its direction\n",
    "\n",
    "  FOR each direction:\n",
    "\n",
    "  - IF there is a car waiting and it's this direction's turn:\n",
    "\n",
    "    - Let the car pass through the intersection\n",
    "\n",
    "    - Update the direction's turn\n",
    "\n",
    "Record the number of cars waiting at each time step\n",
    "\n",
    "Plot the number of cars waiting over time\n"
   ]
  },
  {
   "cell_type": "markdown",
   "metadata": {},
   "source": [
    "This simulation could help us understand how traffic flows at an intersection and how different rules or modifications (like adding a traffic light or changing the order of turns) might improve traffic flow. It may have bias as it doesn't consider various real-world factors like pedestrian crossings, different vehicle sizes, or human driving behaviors.\n",
    "\n",
    "\n",
    "\n",
    "\n"
   ]
  }
 ],
 "metadata": {
  "kernelspec": {
   "display_name": "Python 3.9.12 ('base')",
   "language": "python",
   "name": "python3"
  },
  "language_info": {
   "codemirror_mode": {
    "name": "ipython",
    "version": 3
   },
   "file_extension": ".py",
   "mimetype": "text/x-python",
   "name": "python",
   "nbconvert_exporter": "python",
   "pygments_lexer": "ipython3",
   "version": "3.9.12"
  },
  "orig_nbformat": 4,
  "vscode": {
   "interpreter": {
    "hash": "b39cc0b7d7b7baa8a40a102196f269dabc963c0136c1c82ab9b0b53a6e35bbf2"
   }
  }
 },
 "nbformat": 4,
 "nbformat_minor": 2
}
