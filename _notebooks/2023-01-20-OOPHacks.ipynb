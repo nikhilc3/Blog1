{
 "cells": [
  {
   "cell_type": "markdown",
   "metadata": {},
   "source": [
    "<html>\n",
    "<img width=\"977\" alt=\"Screenshot 2023-01-20 at 11 49 06 AM\" src=\"https://user-images.githubusercontent.com/111464993/213793378-00b75b76-32a5-4f6b-ba4e-4018bccbf5fe.png\">\n",
    "\n",
    "\n",
    "</html>"
   ]
  }
 ],
 "metadata": {
  "language_info": {
   "name": "python"
  },
  "orig_nbformat": 4
 },
 "nbformat": 4,
 "nbformat_minor": 2
}
