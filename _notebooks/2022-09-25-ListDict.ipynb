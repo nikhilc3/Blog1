{
 "cells": [
  {
   "cell_type": "markdown",
   "metadata": {},
   "source": [
    "# List, Dictionaries and Iteration\n",
    "> This is my list, dictionaries and iteration Hack\n",
    "- toc: true\n",
    "- badges: true\n",
    "- comments: true\n",
    "- permalink: /_notebooks/LDI\n",
    "- categories: [_notebooks]\n",
    "\n"
   ]
  },
  {
   "cell_type": "code",
   "execution_count": 3,
   "metadata": {},
   "outputs": [],
   "source": [
    "# This cell creates and adds to a Quiz Database list of dictionaries\n",
    "\n",
    "QuizDb = []\n",
    "\n",
    "# Dhruva's Info\n",
    "QuizDb.append({\n",
    "    \"Firstname\": \"Nikhil\",\n",
    "    \"Lastname\": \"Chakravarthula\",\n",
    "    \"Age\": \"15\",\n",
    "    \"Height\": \"74 inches\"\n",
    "})\n",
    "\n",
    "# Tejas Info\n",
    "QuizDb.append({\n",
    "    \"Firstname\": \"Tejas\",\n",
    "    \"Lastname\": \"Chakravarthula\",\n",
    "    \"Age\": \"11\",\n",
    "    \"Weight\": \"130 pounds\"\n",
    "})"
   ]
  },
  {
   "cell_type": "markdown",
   "metadata": {},
   "source": [
    "In this I created a function which asks questions like a test using dictionaries. This will take each dictionary and convert it into a list of questions."
   ]
  },
  {
   "cell_type": "code",
   "execution_count": 6,
   "metadata": {},
   "outputs": [
    {
     "name": "stdout",
     "output_type": "stream",
     "text": [
      "Your answer is correct\n",
      "Your answer is correct\n",
      "Your answer is incorrect\n",
      "Your answer is correct\n",
      "Your answer is correct\n",
      "Your answer is incorrect\n",
      "you answered:  4 / 6 Correct\n",
      "Here are your numbers!!!\n",
      "10\n",
      "11\n"
     ]
    }
   ],
   "source": [
    "\n",
    "\n",
    "# This cell defines a function that I will use to execute the quiz\n",
    "\n",
    "def ask_questions(QDb):\n",
    "    correct_cnt = 0\n",
    "    total_cnt = 0\n",
    "    for dict_item in QDb:\n",
    "        person_name = dict_item['Firstname']\n",
    "        for key in dict_item:\n",
    "            if key == 'Firstname':\n",
    "                continue\n",
    "            else:\n",
    "                question = \"what is \" + person_name + \"'s \" + key\n",
    "                correct_answer = dict_item[key]\n",
    "                user_answer = input(question)\n",
    "                if user_answer == \"exit\":\n",
    "                    break\n",
    "                total_cnt += 1\n",
    "                if correct_answer == user_answer:\n",
    "                    correct_cnt += 1\n",
    "                    print(\"Your answer is correct\")\n",
    "\n",
    "                else:\n",
    "                    print(\"Your answer is incorrect\")\n",
    "\n",
    "        if user_answer == \"exit\":\n",
    "            print(\"Bye!\")\n",
    "            break\n",
    "    print('you answered: ', correct_cnt, '/', total_cnt, \"Correct\")\n",
    "\n",
    "ask_questions(QuizDb)\n",
    "# This cell has a while loop\n",
    "\n",
    "def list_num_inclusive(x,y):\n",
    "\n",
    "    x = int(x)\n",
    "    y = int(y)\n",
    "\n",
    "    if x >= y:\n",
    "        print(\"ERROR!!! Starting value must be less than ending value. Please try again.\")\n",
    "    else:\n",
    "        print(\"Here are your numbers!!!\")\n",
    "    while x <= y:\n",
    "        print(x)\n",
    "        x += 1\n",
    "\n",
    "starting_value = input(\"What is the starting value? (Inclusive\")\n",
    "ending_value = input(\"What is the ending value? (Inclusive\")\n",
    "\n",
    "list_num_inclusive(starting_value, ending_value)"
   ]
  },
  {
   "cell_type": "markdown",
   "metadata": {},
   "source": [
    "This function below uses a recursive loop and this loop can repeat itself untill a specific condition is met and in this case takes the dictionary value and increments itself while adding to a sum. It is exactly like a factorial"
   ]
  },
  {
   "cell_type": "code",
   "execution_count": 5,
   "metadata": {},
   "outputs": [
    {
     "name": "stdout",
     "output_type": "stream",
     "text": [
      "2\n",
      "3\n",
      "4\n",
      "inside example_recursive_dict, val is:  0\n",
      "inside example_recursive_dict, val is:  1\n",
      "inside example_recursive_dict, val is:  2\n",
      "inside example_recursive_dict, val is:  3\n",
      "inside example_recursive_dict, val is:  4\n",
      "inside example_recursive_dict, val is:  5\n",
      "End of recursive loop\n",
      "summation is done, value is:  15\n"
     ]
    }
   ],
   "source": [
    "def example_recursive(x):\n",
    "    x = int(x)\n",
    "    if x < 10:\n",
    "        x += 1\n",
    "        x=example_recursive(x)\n",
    "    else:\n",
    "        print(\"End of recursive loop\")\n",
    "    return x\n",
    "\n",
    "def example_recursive_dict(dict_obj, NN):\n",
    "    #dict_obj['val'] = int(dict_obj['val'])\n",
    "    print('inside example_recursive_dict, val is: ',dict_obj['val'])\n",
    "    if dict_obj['val'] < NN:\n",
    "        dict_obj['val'] += 1\n",
    "        dict_obj['sum'] += dict_obj['val'] \n",
    "        #print('inside if')\n",
    "        example_recursive_dict(dict_obj, NN)\n",
    "    else:\n",
    "        print(\"End of recursive loop\")\n",
    "\n",
    "\n",
    "#recursive_var = input(\"What number should we start with?\")\n",
    "#recursive_var=example_recursive(recursive_var)\n",
    "#print(recursive_var)\n",
    "\n",
    "\n",
    "def example_by_reference(dict_obj):\n",
    "    dict_obj['val'] += 1\n",
    "\n",
    "dict_test = {'val': 2, 'sum': 0}\n",
    "print(dict_test['val'])\n",
    "example_by_reference(dict_test)\n",
    "print(dict_test['val'])\n",
    "example_by_reference(dict_test)\n",
    "print(dict_test['val'])\n",
    "dict_test['val'] = 0\n",
    "dict_test['sum'] = 0\n",
    "example_recursive_dict(dict_test, 5)\n",
    "print('summation is done, value is: ', dict_test['sum'])"
   ]
  }
 ],
 "metadata": {
  "kernelspec": {
   "display_name": "JavaScript (Node.js)",
   "language": "javascript",
   "name": "javascript"
  },
  "language_info": {
   "codemirror_mode": {
    "name": "ipython",
    "version": 3
   },
   "file_extension": ".py",
   "mimetype": "text/x-python",
   "name": "javascript",
   "nbconvert_exporter": "python",
   "pygments_lexer": "ipython3",
   "version": "3.10.5"
  },
  "orig_nbformat": 4,
  "vscode": {
   "interpreter": {
    "hash": "aee8b7b246df8f9039afb4144a1f6fd8d2ca17a180786b69acc140d282b71a49"
   }
  }
 },
 "nbformat": 4,
 "nbformat_minor": 2
}
