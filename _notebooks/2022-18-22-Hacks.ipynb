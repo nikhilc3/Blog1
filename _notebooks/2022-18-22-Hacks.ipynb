{
 "cells": [
  {
   "cell_type": "markdown",
   "metadata": {},
   "source": [
    "# \"Hacks\"\n",
    "\n",
    "- toc: true\n",
    "- comments: true\n",
    "- layout: post\n",
    "- author: Nikhil Chakravarthula"
   ]
  },
  {
   "cell_type": "markdown",
   "metadata": {},
   "source": [
    "# Lesson 1-2 Hacks"
   ]
  },
  {
   "cell_type": "markdown",
   "metadata": {},
   "source": [
    "Observations: - In a program, a variable is an abstraction that retains a value. Each variable is paired with data storage that can only hold one value at a time (However, if the value is a collection type such as a list, then the value can contain multiple values).\n",
    "Variables can be thought of as \"containers,\" and each one has a name that describes what it is meant to hold.\n",
    "- Depending on what is being represented, variables have a variety of data types that hold particular types of data."
   ]
  },
  {
   "cell_type": "markdown",
   "metadata": {},
   "source": [
    "## Hacks 1\n",
    "Questions (College Board's Essential Knowledge):\n",
    "1. What exactly IS a variable?\n",
    "- A variable is an abstraction that stores a value inside of a program, and each variable has a corresponding data storage that holds just one value at a time\n",
    "2. What is the best data type to represent someone's dog's name?\n",
    "   - The best data type is a string\n",
    "3. Why is it important to give variables specific names before containing values?\n",
    "   - In order for them to have a name that is appropriate for the value that will be contained.\n",
    "4. What is the best way to represent someone's phone number?\n",
    "   - The best way to ensure that the numbers don't obstruct the code is to use a string.\n",
    "\n",
    "Bonus (Not required but important to know): \n",
    "1. How can we update a variable's value\n",
    "   - To update a variable's value u can do it using + or - for incrementing or decrementing\n",
    "2. What function is used to receive a user's input?\n",
    "   - input()\n",
    "\n",
    "\n",
    "## Hacks 2\n",
    "Answer these:\n",
    "1. In your **own** words, briefly explain by writing down what an assignment operator is\n",
    "   - The equal sign (=) serves as the assignment operator and enables the assignment of code elements to values.\n",
    "2. In Collegeboard pseudocode, what symbol is used to assign values to variables?\n",
    "   - <--\n",
    "3. A variable, x, is initially given a value of 15. Later on, the value for x is changed to 22. If you print x, would the command display 15 or 22?\n",
    "   - It would display 22.\n",
    "\n",
    "## Hacks 3\n",
    "1. What is a list?\n",
    "   - a series of elements, each of which is a variable.\n",
    "2. What is an element\n",
    "   - An element are the items inside of a list.\n",
    "3. What is an easy way to reference the elements in a list or string?\n",
    "   - using print()\n",
    "4. What is an example of a string?\n",
    "   - Hello World\n",
    "\n",
    "* Create a list with indices \n",
    "* Index a part of the list that you created.\n",
    "* Try to index from the end"
   ]
  },
  {
   "cell_type": "code",
   "execution_count": 5,
   "metadata": {},
   "outputs": [
    {
     "name": "stdout",
     "output_type": "stream",
     "text": [
      "Lunda\n",
      "Ethan\n"
     ]
    }
   ],
   "source": [
    "NamesList = [\"Nikhil\", \"Taiyo\", \"Lunda\", \"Parav\", \"Ethan\"]\n",
    "print(NamesList[2])\n",
    "print(NamesList[4])"
   ]
  },
  {
   "cell_type": "code",
   "execution_count": 2,
   "metadata": {},
   "outputs": [
    {
     "name": "stdout",
     "output_type": "stream",
     "text": [
      "User submitted numbers [1, 2, 3]\n",
      "Plus 4\n",
      "Result:  [5, 6, 7]\n"
     ]
    }
   ],
   "source": [
    "num1=input(\"Input a number. \")\n",
    "num2=input(\"Input a number. \")\n",
    "num3=input(\"Input a number. \")\n",
    "add=input(\"How much would you like to add? \")\n",
    "\n",
    "# Add code in the space below\n",
    "\n",
    "numlist = [int(num1), int(num2), int(num3)]\n",
    "print(\"User submitted numbers\", numlist)\n",
    "print(\"Plus \" + add)\n",
    "\n",
    "# The following is the code that adds the inputted addend to the other numbers. It is hidden from the user.\n",
    "\n",
    "for i in range (len(numlist)):\n",
    "    numlist[i-1] += int(add)\n",
    "\n",
    "print(\"Result: \", numlist)"
   ]
  },
  {
   "cell_type": "code",
   "execution_count": 6,
   "metadata": {},
   "outputs": [
    {
     "name": "stdout",
     "output_type": "stream",
     "text": [
      "['eggs', 'bread', 'chicken', 'rice', 'pizza']\n"
     ]
    }
   ],
   "source": [
    "foodlist = [\"eggs\", \"bread\", \"chicken\", \"rice\", \"pizza\"]\n",
    "print(foodlist)\n"
   ]
  },
  {
   "cell_type": "code",
   "execution_count": 4,
   "metadata": {},
   "outputs": [
    {
     "name": "stdout",
     "output_type": "stream",
     "text": [
      "Hello, nikhilchakravarthula running /Users/nikhilchakravarthula/opt/anaconda3/bin/python\n",
      "You will be asked 3 questions.\n",
      "Question: Are you ready to take a test?\n",
      "Question: The purpose of lists and dictionaries are to manage the ____ of a program\n",
      "complexity is correct!\n",
      "Question: Lists are a form of data ______\n",
      "abstraction is correct!\n",
      "Question: Which brackets are used to assign values to a variable to make a list?\n",
      "[] is correct!\n",
      "nikhilchakravarthula you scored 3/3\n"
     ]
    }
   ],
   "source": [
    "import getpass, sys\n",
    "\n",
    "def question_with_response(prompt):\n",
    "    print(\"Question: \" + prompt)\n",
    "    msg = input()\n",
    "    return msg\n",
    "\n",
    "questions = 3\n",
    "correct = 0\n",
    "\n",
    "print('Hello, ' + getpass.getuser() + \" running \" + sys.executable)\n",
    "print(\"You will be asked \" + str(questions) + \" questions.\")\n",
    "question_with_response(\"Are you ready to take a test?\")\n",
    "\n",
    "rsp = question_with_response(\"The purpose of lists and dictionaries are to manage the ____ of a program\")\n",
    "if rsp == \"complexity\":\n",
    "    print(rsp + \" is correct!\")\n",
    "    correct += 1\n",
    "else:\n",
    "    print(rsp + \" is incorrect!\")\n",
    "\n",
    "rsp = question_with_response(\"Lists are a form of data ______\")\n",
    "if rsp == \"abstraction\":\n",
    "    print(rsp + \" is correct!\")\n",
    "    correct += 1\n",
    "else:\n",
    "    print(rsp + \" is incorrect!\")\n",
    "\n",
    "rsp = question_with_response(\"Which brackets are used to assign values to a variable to make a list?\")\n",
    "if rsp == \"[]\":\n",
    "    print(rsp + \" is correct!\")\n",
    "    correct += 1\n",
    "else:\n",
    "    print(rsp + \" is incorrect!\") \n",
    "\n",
    "print(getpass.getuser() + \" you scored \" + str(correct) +\"/\" + str(questions))"
   ]
  },
  {
   "cell_type": "markdown",
   "metadata": {},
   "source": [
    "# Lesson 3 & 4 Hacks"
   ]
  },
  {
   "cell_type": "markdown",
   "metadata": {},
   "source": [
    "Notes:\n",
    "    An algorithm is a sequential process that describes a set of instructions that must be followed in a specific order in order to produce the intended result.\n",
    "    An algorithm provides the computer with a set of instructions that it can follow to complete any task.\n",
    "    There are three components to an algorithm: sequencing, selection, and iteration.\n",
    "    Similar to how you would follow a teacher's instructions, a sequence is the order in which something should be done in order to accomplish a goal.\n",
    "    A loop, or iteration, occurs when something is repeated until a condition is met, such when you turn off your computer after finishing a task.\n",
    "    Languages that utilize arithmetic operators include those that use addition, subtraction, multiplication, division, and modulus.\n",
    "\n",
    "## Hacks 1\n",
    "Sequencing: 1,2,5 Selection: 3 Iteration: 4\n",
    "\n",
    "## Hacks 2\n",
    "\n"
   ]
  },
  {
   "cell_type": "code",
   "execution_count": 1,
   "metadata": {},
   "outputs": [
    {
     "name": "stdout",
     "output_type": "stream",
     "text": [
      "3.0\n"
     ]
    }
   ],
   "source": [
    "num1 = 5\n",
    "num2 = num1 * 3\n",
    "num3 = num2 / num1 * (9 % 2) * 4\n",
    "result = (num3 % num1 + num2) % num3 * 3 / 5\n",
    "\n",
    "print(result)\n"
   ]
  },
  {
   "cell_type": "markdown",
   "metadata": {},
   "source": [
    "### Crossword Puzzle\n",
    "\n",
    "Down: 1) iteration 2) selection\n",
    "\n",
    "Across: 3) sequence\n",
    "\n"
   ]
  },
  {
   "cell_type": "markdown",
   "metadata": {},
   "source": [
    "# Lesson 5-6 Hacks\n",
    "\n",
    "Explain in your own words what each logical operator does.\n",
    "\n",
    "- Not: This displays the opposite of the data inputed.\n",
    "- And: This helps determine if the conditions are met\n",
    "- Or: This may help determine if one of the conditions is met.\n",
    "\n",
    "\n",
    "Code your own scenario that makes sense for each logical operator"
   ]
  },
  {
   "cell_type": "code",
   "execution_count": 1,
   "metadata": {},
   "outputs": [
    {
     "name": "stdout",
     "output_type": "stream",
     "text": [
      "False\n"
     ]
    }
   ],
   "source": [
    "walking = True\n",
    "result = not(walking)\n",
    "print(result)"
   ]
  },
  {
   "cell_type": "code",
   "execution_count": 1,
   "metadata": {},
   "outputs": [
    {
     "name": "stdout",
     "output_type": "stream",
     "text": [
      "You have a lot of money\n"
     ]
    }
   ],
   "source": [
    "USD = 10\n",
    "Coins = 100\n",
    "if USD >= 9 and Coins >= 100:\n",
    "    print(\"You have a lot of money\")\n",
    "else:\n",
    "    print(\"you have less money\")"
   ]
  },
  {
   "cell_type": "code",
   "execution_count": 4,
   "metadata": {},
   "outputs": [
    {
     "name": "stdout",
     "output_type": "stream",
     "text": [
      "you have good cars\n"
     ]
    }
   ],
   "source": [
    "Cars = 100\n",
    "Ferrari = 2\n",
    "if Ferrari >= 1 or Cars >= 101:\n",
    "    print(\"you have good cars\")\n"
   ]
  },
  {
   "cell_type": "markdown",
   "metadata": {},
   "source": [
    "1 point for defining all the key terms in your own words. 0.5 points if you use examples that show you truly understand it.\n",
    "\n",
    "- Selection: This is a piece of code that is determined if the ouput is true or false.\n",
    "- Algorithm: An algorithm is a process and a set of rules that should be followed when doing calculations.\n",
    "- Conditional statements: These are a set of rules to see if a condition is met.\n",
    "\n",
    "1 point for writing a program that uses binary conditional logic. 0.5 points if it is original and shows complexity"
   ]
  },
  {
   "cell_type": "code",
   "execution_count": 7,
   "metadata": {},
   "outputs": [
    {
     "name": "stdout",
     "output_type": "stream",
     "text": [
      "12 is even\n"
     ]
    }
   ],
   "source": [
    "x = int(input(\"choose a number\"))\n",
    "if x % 2 == 0:\n",
    "    print(x, \"is even\")\n",
    "else:\n",
    "    print(x, \"is odd\")"
   ]
  },
  {
   "cell_type": "markdown",
   "metadata": {},
   "source": [
    "# Lesson 9 and 11 Hacks\n",
    "## Notes\n",
    "\n",
    "First, create algorithms.\n",
    "\n",
    "Outlining an algorithm's procedure before coding is a smart idea. This guarantees that it is correctly sequenced. You should use a flowchart or simple language to represent the algorithm. You can use visualization to more clearly observe how the entire algorithm works. This might make the coding process more productive and efficient.\n",
    "\n",
    "2) Evaluation of Iteration and Selection\n",
    "\n",
    "Iterative algorithms repeat a function until a target is reached. We can use iteration to more simply represent an algorithm without illustrating all the repeated steps. Algorithms with selection only execute specific functions in the case of certain conditions being true or false.\n",
    "\n",
    "3) Why are algorithms used?\n",
    "\n",
    "It is simple to think that two algorithms that look quite similar do the same task. That is not the case, though, because we have learned to detect minute variations in code and essentially debug."
   ]
  },
  {
   "cell_type": "code",
   "execution_count": 1,
   "metadata": {},
   "outputs": [
    {
     "name": "stdout",
     "output_type": "stream",
     "text": [
      " Jacket necessary!\n"
     ]
    }
   ],
   "source": [
    "isCold = True\n",
    "isHot = False\n",
    "\n",
    "if isCold == True:\n",
    "    print(\" Jacket necessary!\")\n",
    "\n",
    "elif isHot == True:\n",
    "    print(\"No Jacket necessary!\")\n"
   ]
  },
  {
   "cell_type": "code",
   "execution_count": 3,
   "metadata": {},
   "outputs": [],
   "source": [
    "isCold = False\n",
    "isHot = True\n",
    "\n",
    "puddles = not(isCold) and isHot\n",
    "if isHot == False:\n",
    "    print(\"No Jacket!\")\n",
    "elif isCold == True:\n",
    "    print(\"Jacket!\")"
   ]
  },
  {
   "cell_type": "markdown",
   "metadata": {},
   "source": [
    "\n",
    "1) When the code first runs, there are 5 coins available.\n",
    "\n",
    "2) The AmountMoney variable is set to True.\n",
    "\n",
    "3) $1 is subtracted from the coins variable but AmountMoney stays true.\n",
    "\n",
    "4) The string \"Broke!\" is printed when the variable coins reaches a value of 0. At that point, AmountMoney is set to False.\n",
    "\n",
    "5) End!"
   ]
  },
  {
   "cell_type": "code",
   "execution_count": 14,
   "metadata": {},
   "outputs": [
    {
     "name": "stdout",
     "output_type": "stream",
     "text": [
      "Broke\n"
     ]
    }
   ],
   "source": [
    "Coins = 10\n",
    "AmountMoney = True\n",
    "while(AmountMoney == True):\n",
    "    Coins -= 1\n",
    "    if Coins == 0:\n",
    "        AmountMoney == False\n",
    "        print(\"Broke\")\n",
    "        break\n",
    "    "
   ]
  },
  {
   "cell_type": "code",
   "execution_count": 10,
   "metadata": {},
   "outputs": [
    {
     "name": "stdout",
     "output_type": "stream",
     "text": [
      "I'm thinking of a number between 0 and 100.\n",
      "You guessed 30.\n",
      "Too low, try again!!!!\n",
      "Guess a number between 30 and 100.\n",
      "You guessed 72.\n",
      "Too low, try again!!!!\n",
      "Guess a number between 72 and 100.\n",
      "You guessed 91.\n",
      "Too high, try again!!!!! \n",
      "Guess a number between 72 and 91.\n",
      "You guessed 83.\n",
      "Too high, try again!!!!! \n",
      "Guess a number between 72 and 83.\n",
      "You guessed 75.\n",
      "Too high, try again!!!!! \n",
      "Guess a number between 72 and 75.\n",
      "You guessed 73.\n",
      "Too low, try again!!!!\n",
      "Guess a number between 73 and 75.\n",
      "You guessed 74.\n",
      "You guessed the number in 7 guesses!\n"
     ]
    }
   ],
   "source": [
    "import random\n",
    "\n",
    "num_guesses = 0\n",
    "user_guess = -1\n",
    "upper_bound = 100\n",
    "lower_bound = 0\n",
    "\n",
    "number = random.randint(0,100)\n",
    "\n",
    "\n",
    "print(f\"I'm thinking of a number between 0 and 100.\")\n",
    "\n",
    "def guess():\n",
    "    num = input(\"Input your guess\")\n",
    "    return num \n",
    "\n",
    "def search(number, guess):\n",
    "    global lower_bound, upper_bound\n",
    "    if int(guess) < int(number):\n",
    "        print(\"Too low, try again!!!!\") \n",
    "        lower_bound = guess\n",
    "        return lower_bound, upper_bound\n",
    "    elif int(guess) > int(number):\n",
    "        print(\"Too high, try again!!!!! \") \n",
    "        upper_bound = guess\n",
    "        return lower_bound, upper_bound\n",
    "    else:\n",
    "        upper_bound, lower_bound = guess, guess\n",
    "        return lower_bound, upper_bound \n",
    "\n",
    "while user_guess != number:\n",
    "    user_guess = guess()\n",
    "    num_guesses += 1\n",
    "    print(f\"You guessed {user_guess}.\")\n",
    "    lower_bound, upper_bound = search(number, user_guess)\n",
    "    if int(upper_bound) == int(number):\n",
    "        break\n",
    "    else:\n",
    "        print(f\"Guess a number between {lower_bound} and {upper_bound}.\")\n",
    "\n",
    "\n",
    "print(f\"You guessed the number in {num_guesses} guesses!\")"
   ]
  },
  {
   "cell_type": "markdown",
   "metadata": {},
   "source": [
    "Answer is in image below"
   ]
  },
  {
   "cell_type": "markdown",
   "metadata": {},
   "source": []
  },
  {
   "cell_type": "markdown",
   "metadata": {},
   "source": [
    "Answer: Set 1: 80, Set 2: 74, Set 3: 96"
   ]
  },
  {
   "cell_type": "markdown",
   "metadata": {},
   "source": []
  },
  {
   "cell_type": "markdown",
   "metadata": {},
   "source": [
    "Answer is C"
   ]
  },
  {
   "cell_type": "markdown",
   "metadata": {},
   "source": []
  },
  {
   "cell_type": "code",
   "execution_count": 11,
   "metadata": {},
   "outputs": [
    {
     "name": "stdout",
     "output_type": "stream",
     "text": [
      "Middle Index of List # 1 is 57\n",
      "Middle Index of List # 2 is 43\n",
      "Middle Index of List # 3 is 60\n"
     ]
    }
   ],
   "source": [
    "numListOne = [12,14,44,57,79,80,99]\n",
    "numListTwo = [92,43,74,66,30,12,1]\n",
    "numListThree = [7,13,96,111,33,84,60]\n",
    "numLists = [numListOne, numListTwo, numListThree]\n",
    "for x in range(len(numLists)):\n",
    "    numLists[x].sort()\n",
    "    middle = int(len(numLists[x])/2)\n",
    "    print(\"Middle Index of List #\",x+1,\"is\",numLists[x][middle])"
   ]
  },
  {
   "cell_type": "markdown",
   "metadata": {},
   "source": [
    "# Lesson 12-13 hacks"
   ]
  },
  {
   "cell_type": "markdown",
   "metadata": {},
   "source": [
    "a) Procedure: A block of code that is created to perform a given task - essentially a function.\n",
    "\n",
    "b) Parameter: A variable that is utilized in a function that enables data to be imported into said function.\n",
    "\n",
    "\n",
    "\n",
    "\n",
    "\n",
    "a) A return value is a value that a function or method returns to the caller code once it has completed executing. Once the function or method has completed its task, the value is returned to the caller code.\n",
    "\n",
    "b) Output parameters, which are variables supplied by reference to a function or method and used to return a value to the caller code, are another type of parameter. They are frequently used to have a single function or method return a number of values.\n"
   ]
  },
  {
   "cell_type": "code",
   "execution_count": 4,
   "metadata": {},
   "outputs": [
    {
     "name": "stdout",
     "output_type": "stream",
     "text": [
      "Square root of 10.0 : 3.1622776601683795\n"
     ]
    }
   ],
   "source": [
    "import math\n",
    "\n",
    "userNum = float(input())\n",
    "\n",
    "def sqrt(userNum):\n",
    "    return userNum\n",
    "\n",
    "sqrt = math.sqrt(userNum)\n",
    "print(\"Square root of\", userNum , \":\", float(sqrt))  "
   ]
  },
  {
   "cell_type": "markdown",
   "metadata": {},
   "source": [
    "## Hacks 2"
   ]
  },
  {
   "cell_type": "code",
   "execution_count": 6,
   "metadata": {},
   "outputs": [
    {
     "name": "stdout",
     "output_type": "stream",
     "text": [
      "120\n"
     ]
    }
   ],
   "source": [
    "x = 20\n",
    "y = 100\n",
    "\n",
    "# Set function\n",
    "def addition(x,y):\n",
    "    sum = x + y\n",
    "    return(sum)\n",
    "\n",
    "#Print the result\n",
    "print(addition(x,y))"
   ]
  },
  {
   "cell_type": "code",
   "execution_count": 10,
   "metadata": {},
   "outputs": [
    {
     "name": "stdout",
     "output_type": "stream",
     "text": [
      "Words starting with a: 1\n",
      "Words starting with d: 1\n"
     ]
    }
   ],
   "source": [
    "def split_string(s):\n",
    "    # use the split() method to split the string into a list of words\n",
    "    words = s.split(\" \")\n",
    "\n",
    "\t# initialize a new list to hold all non-empty strings\n",
    "    new_words = []\n",
    "    for word in words:\n",
    "        if word != \"\":\n",
    "            # add all non-empty substrings of `words` to `new_words`\n",
    "            new_words.append(word)\n",
    "    \n",
    "    return words\n",
    "\n",
    "# this function takes a list of words as input and returns the number of words\n",
    "# that start with the given letter (case-insensitive)\n",
    "def count_words_starting_with_letter(words, letter):\n",
    "    count = 0\n",
    "    \n",
    "    # loop through the list of words and check if each word starts with the given letter\n",
    "    for word in words:\n",
    "        # use the lower() method to make the comparison case-insensitive\n",
    "        if word.lower().startswith(letter):\n",
    "            count += 1\n",
    "    \n",
    "    return count\n",
    "\n",
    "# this function takes a string as input and returns the number of words that start with 'a'\n",
    "def count_words_starting_with_a_in_string(s):\n",
    "    # use the split_string() function to split the input string into a list of words\n",
    "    words = split_string(s)\n",
    "    \n",
    "    # use the count_words_starting_with_letter() function to count the number of words\n",
    "    # that start with 'a' in the list of words\n",
    "    count = count_words_starting_with_letter(words, \"a\")\n",
    "    \n",
    "    return count\n",
    "\n",
    "# see above\n",
    "def count_words_starting_with_d_in_string(s):\n",
    "    words = split_string(s)\n",
    "    count = count_words_starting_with_letter(words, \"d\")\n",
    "    return count\n",
    "\n",
    "# example usage:\n",
    "s = \"   This is  a  test  string! Don't you think this is cool? \"\n",
    "a_count = count_words_starting_with_a_in_string(s)\n",
    "d_count = count_words_starting_with_d_in_string(s)\n",
    "print(\"Words starting with a:\", a_count)\n",
    "print(\"Words starting with d:\", d_count)"
   ]
  },
  {
   "cell_type": "markdown",
   "metadata": {},
   "source": [
    "## Hacks 3"
   ]
  },
  {
   "cell_type": "markdown",
   "metadata": {},
   "source": [
    "<p>x = 1 y = 2</p>\n",
    "<button id= “add” type=“button” onclick=“addition(x,y)“>addition</button>\n",
    "<p id = “output”></p>\n",
    "<button id= “subtract” type=“button” onclick=“subtraction(x,y)“>subtraction</button>\n",
    "<p id = “output2”></p>\n",
    "<button id= “divide” type=“button” onclick=“divide(x,y)“>divide</button>\n",
    "<p id = “output3”></p>\n",
    "<button id= “multiply” type=“button” onclick=“multiply(x,y)“>multiply</button>\n",
    "<p id = “output4”></p>\n",
    "<script>\n",
    "  var x = 1\n",
    "  var y = 2\n",
    "  function addition(x,y) {\n",
    "    document.getElementById(“output”).innerHTML = x + y\n",
    "    }\n",
    "  function subtraction(x,y) {\n",
    "    document.getElementById(“output2”).innerHTML = x - y\n",
    "    }\n",
    "  function divide(x,y) {\n",
    "    document.getElementById(“output3\").innerHTML = x/y \n",
    "    }\n",
    "  function multiply(x,y) {\n",
    "    document.getElementById(“output4”).innerHTML = x * y\n",
    "    }\n",
    "</script>"
   ]
  },
  {
   "cell_type": "markdown",
   "metadata": {},
   "source": [
    "<p id=\"input\">Enter First Number: <input id=\"one\">\n",
    "<br/><br/>\n",
    "Enter Second Number: <input id=\"two\"></p>\n",
    "<p><button onclick=\"fun()\">Add, Subtract, Multiply, Divide</button></p>\n",
    "<p id=\"res\" style=\"display:none;\">\n",
    "Addition Result = <input id=\"add\"><br/><br/>\n",
    "Subtraction Result = <input id=\"subtract\"><br/><br/>\n",
    "Multiplication Result = <input id=\"multiply\"><br/><br/>\n",
    "Division Result = <input id=\"divide\"></p>\n",
    "<script>\n",
    "var numOne, numTwo, res, temp;\n",
    "function fun()\n",
    "{\n",
    "  numOne = parseInt(document.getElementById(\"one\").value);\n",
    "  numTwo = parseInt(document.getElementById(\"two\").value);\n",
    "  if(numOne && numTwo)\n",
    "  {\n",
    "    temp = document.getElementById(\"res\");\n",
    "    temp.style.display = \"block\";\n",
    "    res = numOne + numTwo;\n",
    "    document.getElementById(\"add\").value = res;\n",
    "    res = numOne - numTwo;\n",
    "    document.getElementById(\"subtract\").value = res;\n",
    "    res = numOne * numTwo;\n",
    "    document.getElementById(\"multiply\").value = res;\n",
    "    res = numOne / numTwo;\n",
    "    document.getElementById(\"divide\").value = res;\n",
    "  }\n",
    "}\n",
    "</script>\n",
    "\n",
    "\n",
    "\n"
   ]
  },
  {
   "cell_type": "markdown",
   "metadata": {},
   "source": [
    "# Lesson 16 Hacks"
   ]
  },
  {
   "cell_type": "markdown",
   "metadata": {},
   "source": [
    "## Hacks 1\n",
    "\n",
    "What makes it a simulation?\n",
    "- Instead of having to endure the discomfort of visiting stores and trying on clothing to determine whether it fits, individuals can just click online, enter their measurements, and the simulation will determine whether you will fit the item of clothing.\n",
    "\n",
    "What are its advantages?\n",
    "- One advantage is that it is fast and has random results\n",
    "\n",
    "Because you cannot presume that real coins are impartial like those in the simulation, an experiment would be preferable."
   ]
  },
  {
   "cell_type": "markdown",
   "metadata": {},
   "source": [
    "## Hacks 2"
   ]
  },
  {
   "cell_type": "code",
   "execution_count": 1,
   "metadata": {},
   "outputs": [
    {
     "name": "stdout",
     "output_type": "stream",
     "text": [
      "Welcome to the Simulations Quiz!\n",
      "\n",
      " True or False: Simulations will always have the same result. \n",
      " A: True, \n",
      " B: False\n",
      "You said:  B\n",
      "Correct!\n",
      "\n",
      " True or False: A simulation has results that are more accurate than an experiment \n",
      " A: True, \n",
      " B: False\n",
      "You said:  B\n",
      "Correct!\n",
      "\n",
      " True or False: A simulation can model real world events that are not practical for experiments \n",
      " A: True, \n",
      " B: False\n",
      "You said:  A\n",
      "Correct!\n",
      "\n",
      " Which one of these is FALSE regarding simulations \n",
      " A: Reduces Costs, \n",
      " B: Is safer than real life experiments, \n",
      " C: More Efficient, \n",
      " D: More accurate than real life experiments\n",
      "You said:  D\n",
      "Correct!\n",
      "\n",
      " Which of the following scenarios would be the LEAST beneficial to have as a simulation \n",
      " A: A retail company wants to identify the item which sold the most on their website, \n",
      " B: A restaurant wants to determine if the use of robots will increase efficiency, \n",
      " C: An insurance company wants to study the impact of rain on car accidents, \n",
      " D: A sports car company wants to study design changes to their new bike design \n",
      "You said:  A\n",
      "Correct!\n",
      "\n",
      " Which of the following is better to do as a simulation than as a calculation \n",
      " A: Keeping score at a basketball game, \n",
      " B: Keeping track of how many games a person has won, \n",
      " C: Determining the average grade for a group of tests, \n",
      " D: Studying the impact of carbon emissions on the environment\n",
      "You said:  D\n",
      "Correct!\n",
      "You scored:  6 /6\n"
     ]
    }
   ],
   "source": [
    "questions_number = 6\n",
    "answers_correct = 0\n",
    "questions = [\n",
    "    \"True or False: Simulations will always have the same result. \\n A: True, \\n B: False\",\n",
    "    \"True or False: A simulation has results that are more accurate than an experiment \\n A: True, \\n B: False\",\n",
    "    \"True or False: A simulation can model real world events that are not practical for experiments \\n A: True, \\n B: False\",\n",
    "    \"Which one of these is FALSE regarding simulations \\n A: Reduces Costs, \\n B: Is safer than real life experiments, \\n C: More Efficient, \\n D: More accurate than real life experiments\",\n",
    "    \"Which of the following scenarios would be the LEAST beneficial to have as a simulation \\n A: A retail company wants to identify the item which sold the most on their website, \\n B: A restaurant wants to determine if the use of robots will increase efficiency, \\n C: An insurance company wants to study the impact of rain on car accidents, \\n D: A sports car company wants to study design changes to their new bike design \",\n",
    "    \"Which of the following is better to do as a simulation than as a calculation \\n A: Keeping score at a basketball game, \\n B: Keeping track of how many games a person has won, \\n C: Determining the average grade for a group of tests, \\n D: Studying the impact of carbon emissions on the environment\"\n",
    "]\n",
    "question_answers = [\n",
    "    \"B\",\n",
    "    \"B\",\n",
    "    \"A\",\n",
    "    \"D\",\n",
    "    \"A\",\n",
    "    \"D\"\n",
    "]\n",
    "\n",
    "print(\"Welcome to the Simulations Quiz!\")\n",
    "\n",
    "def ask_question (question, answer):\n",
    "    print(\"\\n\", question)\n",
    "    user_answer = input(question)\n",
    "    print(\"You said: \", user_answer)\n",
    "\n",
    "    if user_answer == answer:\n",
    "        print(\"Correct!\")\n",
    "        global answers_correct\n",
    "        answers_correct = answers_correct + 1\n",
    "    else:\n",
    "        print(\"You are incorrect\")\n",
    "    \n",
    "for num in range(questions_number):\n",
    "    ask_question(questions[num], question_answers[num])\n",
    "\n",
    "print(\"You scored: \", answers_correct, \"/6\")"
   ]
  },
  {
   "cell_type": "markdown",
   "metadata": {},
   "source": [
    "## Hacks 3"
   ]
  },
  {
   "cell_type": "code",
   "execution_count": 2,
   "metadata": {},
   "outputs": [
    {
     "name": "stdout",
     "output_type": "stream",
     "text": [
      "you rolled: [12, 8, 8]\n"
     ]
    }
   ],
   "source": [
    "def parse_input(input_string):\n",
    "    if input_string.strip() in {\"1\", \"2\", \"3\",\"4\", \"5\", \"6\"}:\n",
    "        return int(input_string)\n",
    "    else:\n",
    "        print(\"Please enter a number from 1 to 6.\")\n",
    "        raise SystemExit(1)\n",
    "\n",
    "import random\n",
    "\n",
    "def roll_dice(num_dice):\n",
    "    roll_results = []\n",
    "    for _ in range(num_dice):\n",
    "        roll = random.randint(1, 14)\n",
    "        roll_results.append(roll)\n",
    "    return roll_results\n",
    "\n",
    "\n",
    "num_dice_input = input(\"How many dice do you want to roll? [1-6] \")\n",
    "num_dice = parse_input(num_dice_input)\n",
    "roll_results = roll_dice(num_dice)\n",
    "\n",
    "print(\"you rolled:\", roll_results) "
   ]
  },
  {
   "cell_type": "markdown",
   "metadata": {},
   "source": [
    "## Extra Credit"
   ]
  },
  {
   "cell_type": "code",
   "execution_count": 4,
   "metadata": {},
   "outputs": [
    {
     "name": "stdout",
     "output_type": "stream",
     "text": [
      "Heads!\n",
      "\n",
      "Tails!\n",
      "\n",
      "Heads!\n",
      "\n",
      "Heads!\n",
      "\n",
      "Heads!\n",
      "\n",
      "Heads!\n",
      "\n",
      "Tails!\n",
      "\n",
      "Tails!\n",
      "\n",
      "Tails!\n",
      "\n",
      "Tails!\n",
      "\n",
      "Heads!\n",
      "\n",
      "Tails!\n",
      "\n",
      "Tails!\n",
      "\n",
      "Heads!\n",
      "\n",
      "Tails!\n",
      "\n",
      "Tails!\n",
      "\n",
      "Tails!\n",
      "\n",
      "Tails!\n",
      "\n",
      "Tails!\n",
      "\n",
      "Heads!\n",
      "\n",
      "Tails!\n",
      "\n",
      "Heads!\n",
      "\n",
      "Heads!\n",
      "\n",
      "Tails!\n",
      "\n",
      "Heads!\n",
      "\n",
      "Tails!\n",
      "\n",
      "Heads!\n",
      "\n",
      "Heads!\n",
      "\n",
      "Heads!\n",
      "\n",
      "Heads!\n",
      "\n",
      "Heads!\n",
      "\n",
      "Tails!\n",
      "\n",
      "Tails!\n",
      "\n",
      "Heads!\n",
      "\n",
      "Tails!\n",
      "\n",
      "Tails!\n",
      "\n",
      "Heads!\n",
      "\n",
      "Tails!\n",
      "\n",
      "Tails!\n",
      "\n",
      "Tails!\n",
      "\n",
      "Tails!\n",
      "\n",
      "Tails!\n",
      "\n",
      "Tails!\n",
      "\n",
      "Tails!\n",
      "\n",
      "Tails!\n",
      "\n",
      "Heads!\n",
      "\n",
      "Tails!\n",
      "\n",
      "Tails!\n",
      "\n",
      "Tails!\n",
      "\n",
      "Heads!\n",
      "\n",
      "Tails!\n",
      "\n",
      "Heads!\n",
      "\n",
      "Tails!\n",
      "\n",
      "Tails!\n",
      "\n",
      "Tails!\n",
      "\n",
      "Heads!\n",
      "\n",
      "Heads!\n",
      "\n",
      "Heads!\n",
      "\n",
      "Tails!\n",
      "\n",
      "Tails!\n",
      "\n",
      "Heads!\n",
      "\n",
      "Heads!\n",
      "\n",
      "Tails!\n",
      "\n",
      "Tails!\n",
      "\n",
      "Tails!\n",
      "\n",
      "Tails!\n",
      "\n",
      "Tails!\n",
      "\n",
      "Tails!\n",
      "\n",
      "Heads!\n",
      "\n",
      "Heads!\n",
      "\n",
      "Tails!\n",
      "\n",
      "Heads!\n",
      "\n",
      "Tails!\n",
      "\n",
      "Tails!\n",
      "\n",
      "Tails!\n",
      "\n",
      "Tails!\n",
      "\n",
      "Tails!\n",
      "\n",
      "Tails!\n",
      "\n",
      "Heads!\n",
      "\n",
      "Tails!\n",
      "\n",
      "Tails!\n",
      "\n",
      "Tails!\n",
      "\n",
      "Tails!\n",
      "\n",
      "Tails!\n",
      "\n",
      "Tails!\n",
      "\n",
      "Heads!\n",
      "\n",
      "Tails!\n",
      "\n",
      "Tails!\n",
      "\n",
      "Heads!\n",
      "\n",
      "Heads!\n",
      "\n",
      "Heads!\n",
      "\n",
      "Tails!\n",
      "\n",
      "Heads!\n",
      "\n",
      "Heads!\n",
      "\n",
      "Heads!\n",
      "\n",
      "Tails!\n",
      "\n",
      "Heads!\n",
      "\n",
      "Heads!\n",
      "\n",
      "Tails!\n",
      "\n",
      "Heads!\n",
      "\n",
      "\n",
      "Okay, you flipped heads 40 times \n",
      "\n",
      "and you flipped tails 60 times \n"
     ]
    }
   ],
   "source": [
    "import random\n",
    "\n",
    "total_heads = 0\n",
    "total_tails = 0\n",
    "count = 0\n",
    "\n",
    "\n",
    "while count < 100:\n",
    "\n",
    "    coin = random.randint(1, 2)\n",
    "\n",
    "    if coin == 1:\n",
    "        print(\"Heads!\\n\")\n",
    "        total_heads += 1\n",
    "        count += 1\n",
    "\n",
    "    elif coin == 2:\n",
    "        print(\"Tails!\\n\")\n",
    "        total_tails += 1\n",
    "        count += 1\n",
    "\n",
    "print(\"\\nOkay, you flipped heads\", total_heads, \"times \")\n",
    "print(\"\\nand you flipped tails\", total_tails, \"times \")"
   ]
  },
  {
   "cell_type": "markdown",
   "metadata": {},
   "source": [
    "# Lesson 17-18"
   ]
  },
  {
   "cell_type": "markdown",
   "metadata": {},
   "source": [
    "Collatz\n",
    "One of the most well-known unsolved mathematical puzzles is the Collatz conjecture. The conjecture asks if every positive integer will eventually become 1 if two basic arithmetic processes are repeated.\n",
    "\n",
    "Hailstone digits\n",
    "Hailstone Numbers are the series of integers produced by the Collatz conjecture. Examples: N = 7 as an input Output: Hailstone 7, 22, 11, 34, 17, 52, 26, 13, 40, 20, 5, 16, 8, 4, and 1 are the numbers. ### Iteration The act or process of iterating or repeating: for example, a process where the repetition of a series of actions produces outcomes that get progressively closer to the desired outcome.\n",
    "\n",
    "Unsolvable issues\n",
    "An undecidable problem is one that should have a \"yes\" or \"no\" response, but for which there is no method that can provide an accurate response for all inputs.\n",
    "\n",
    "Intractable issues\n",
    "A issue is considered intractable if there is no known algorithm that can be created to solve it."
   ]
  },
  {
   "cell_type": "markdown",
   "metadata": {},
   "source": [
    "## Hacks 1"
   ]
  },
  {
   "cell_type": "code",
   "execution_count": 5,
   "metadata": {},
   "outputs": [
    {
     "name": "stdout",
     "output_type": "stream",
     "text": [
      "Input: 3\n",
      "[10, 5.0, 16.0, 8.0, 4.0, 2.0, 1.0]\n",
      "Iteration count: 7\n"
     ]
    }
   ],
   "source": [
    "i = int(input(\"Please input a number: \"))\n",
    "list = []\n",
    "\n",
    "def collatz_seq(n):\n",
    "    list = []\n",
    "    while n != 1:\n",
    "        if (n % 2):\n",
    "            n = 3*n + 1\n",
    "        else:\n",
    "            n = n/2\n",
    "        list.append(n)\n",
    "    return list\n",
    "\n",
    "result = collatz_seq(i)\n",
    "print(\"Input:\" , i)\n",
    "print(result)\n",
    "print(\"Iteration count:\", len(result))"
   ]
  },
  {
   "cell_type": "markdown",
   "metadata": {},
   "source": [
    "## Hacks 2"
   ]
  },
  {
   "cell_type": "code",
   "execution_count": 6,
   "metadata": {},
   "outputs": [
    {
     "name": "stdout",
     "output_type": "stream",
     "text": [
      "{'Make': 'BMW', 'Model': 'M4 CSL', 'Year': '2023'}\n"
     ]
    }
   ],
   "source": [
    "car = []\n",
    "\n",
    "car.append({\n",
    "    \"Make\": \"BMW\",\n",
    "    \"Model\": \"M4 CSL\",\n",
    "    \"Year\": \"2023\",\n",
    "})\n",
    "def loop():\n",
    "    for data in car:\n",
    "        print(data)\n",
    "\n",
    "loop()"
   ]
  },
  {
   "cell_type": "code",
   "execution_count": 7,
   "metadata": {},
   "outputs": [
    {
     "name": "stdout",
     "output_type": "stream",
     "text": [
      "('Make: BMW', 'Model: M4 CSL', 'Year: 2023')\n"
     ]
    }
   ],
   "source": [
    "car = \"Make: BMW\", \"Model: M4 CSL\", \"Year: 2023\"\n",
    "print(car)"
   ]
  },
  {
   "cell_type": "markdown",
   "metadata": {},
   "source": [
    "Efficiency is properly demonstrated by Algorithm 1, which appends the list and makes use of a for loop to present the data for the specified car in a logical sequence. Because the data is only displayed in the input order, Algorithm 2 is inefficient. Algorithm efficiency in computer science is the measure of how well a particular algorithm performs when compared to other algorithms. It is typically calculated by measuring the amount of time and space it takes to complete a task."
   ]
  },
  {
   "cell_type": "code",
   "execution_count": 8,
   "metadata": {},
   "outputs": [
    {
     "name": "stdout",
     "output_type": "stream",
     "text": [
      "Current Time: 11:08 AM\n",
      "Task Wake Up has been completed\n",
      "Task Breakfast has been completed\n",
      "Task Go to Work has been completed\n",
      "Task Lunch has been completed\n",
      "Task Work has been completed\n",
      "Task Gym has been completed\n",
      "Task Dinner has been completed\n",
      "Task Sleep has been completed\n"
     ]
    }
   ],
   "source": [
    "import datetime \n",
    "  \n",
    "#Creating a dictionary that stores tasks and their respective times \n",
    "daily_tasks = { \n",
    "    \"Wake Up\" : \"6:00 am\", \n",
    "    \"Breakfast\" : \"7:00 am\", \n",
    "    \"Go to Work\" : \"8:00 am\", \n",
    "    \"Lunch\" : \"12:00 pm\", \n",
    "    \"Work\" : \"1:00 pm\", \n",
    "    \"Gym\" : \"4:00 pm\", \n",
    "    \"Dinner\" : \"7:00 pm\", \n",
    "    \"Sleep\" : \"10:00 pm\"\n",
    "} \n",
    "  \n",
    "#Getting the current time \n",
    "current_time = datetime.datetime.now() \n",
    "  \n",
    "#Printing the current time \n",
    "print(\"Current Time:\", current_time.strftime(\"%H:%M %p\")) \n",
    "  \n",
    "#Looping through the dictionary \n",
    "for task, time in daily_tasks.items(): \n",
    "      \n",
    "    #Getting the time in datetime object \n",
    "    task_time = datetime.datetime.strptime(time, \"%H:%M %p\") \n",
    "      \n",
    "    #Checking if the task has been completed \n",
    "    if task_time < current_time: \n",
    "        print(\"Task\", task, \"has been completed\") \n",
    "    else: \n",
    "        print(\"Task\", task, \"is yet to be completed\")"
   ]
  }
 ],
 "metadata": {
  "kernelspec": {
   "display_name": "Python 3.9.12 ('base')",
   "language": "python",
   "name": "python3"
  },
  "language_info": {
   "codemirror_mode": {
    "name": "ipython",
    "version": 3
   },
   "file_extension": ".py",
   "mimetype": "text/x-python",
   "name": "python",
   "nbconvert_exporter": "python",
   "pygments_lexer": "ipython3",
   "version": "3.9.12"
  },
  "orig_nbformat": 4,
  "vscode": {
   "interpreter": {
    "hash": "b39cc0b7d7b7baa8a40a102196f269dabc963c0136c1c82ab9b0b53a6e35bbf2"
   }
  }
 },
 "nbformat": 4,
 "nbformat_minor": 2
}
