{
 "cells": [
  {
   "cell_type": "code",
   "execution_count": null,
   "metadata": {},
   "outputs": [],
   "source": [
    "// Clock Control\n",
    "// clockElement global element set for conveniencea\n",
    "let clockElement = document.getElementById('clock')\n",
    "// Execute clock function on load\n",
    "clock();\n",
    "// Clock update executes on each interval set by timer\n",
    "function clock() {\n",
    "    let date = new Date();\n",
    "    clockElement.textContent = date.toLocaleString();\n",
    "}\n",
    "// Clock refresh timer, a reoccurring event\n",
    "setInterval(clock, 1000);"
   ]
  }
 ],
 "metadata": {
  "kernelspec": {
   "display_name": "JavaScript (Node.js)",
   "language": "javascript",
   "name": "javascript"
  },
  "language_info": {
   "name": "javascript"
  },
  "orig_nbformat": 4
 },
 "nbformat": 4,
 "nbformat_minor": 2
}
