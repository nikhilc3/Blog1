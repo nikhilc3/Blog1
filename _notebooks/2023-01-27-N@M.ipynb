{
 "cells": [
  {
   "cell_type": "markdown",
   "metadata": {},
   "source": [
    "## N@TM Blog\n",
    "- toc: true\n",
    "- badges: true\n",
    "- comments: true\n",
    "\n",
    "title: N@TM Blog\n",
    "I went to the museum in the evening and started by looking at the creations of other computer science teams. One particular team developed a multiplayer chess game that was highly intriguing since it allowed players to sync up their computers and view real-time changes. It was rather amazing how similar the game was to the chess game you can play online given the level of complexity required to make anything like that off.\n",
    "<br>\n",
    "<img width=\"667\" alt=\"Screenshot 2023-02-27 at 11 51 15 PM\" src=\"https://user-images.githubusercontent.com/111464993/221788230-de86d90a-0d05-4274-a401-8ab0e3c5db07.png\">\n",
    "\n",
    "\n",
    "\n",
    "Another project from a computer science group was a battleship game where you had to estimate where the battleships were placed on a board and attempt to sink every single one of them. For their code, I believe they made a grid and mapped each location before using the random function in Python to position it on the board in a random location. Due to the way the board must be mapped and the necessity to ensure that the longer ships completely occupy the board, this is particularly challenging to accomplish. They also did an excellent job making it such that hitting a ship would have a speedy response, allowing you to play the game without any issues.\n",
    "<br>\n",
    "<img width=\"330\" alt=\"Screenshot 2023-02-27 at 11 50 45 PM\" src=\"https://user-images.githubusercontent.com/111464993/221788132-9997328e-3f3c-4198-8d31-64431eaa648c.png\">\n",
    "\n",
    "\n",
    "\n",
    "I then moved on to the projects created by the other courses after viewing the projects created by the other groups. One such course was computer animation, which produced a three-dimensional image centered around donuts. The way they positioned the doughnut in a locker room for football players made one project I saw seem very logical. The floor had checkers, precisely like the team logo, which was a clever touch. The image also had the Tennessee logo, which helped to fully immerse you in the situation.\n",
    "<br>\n",
    "<img width=\"337\" alt=\"Screenshot 2023-02-27 at 11 50 51 PM\" src=\"https://user-images.githubusercontent.com/111464993/221788155-749fd9af-5dc6-4685-b039-3fe2a00414af.png\">\n",
    "\n",
    "\n",
    "My final destination was the digital media production space, where I observed the student-created paintings. I was amazed by what I saw when I peered across the wall because of how imaginative they had been and how well the images complemented the theme. The photographs do a good job of making excellent thumbnails and there is a film that goes with them.\n",
    "<br>\n",
    "<img width=\"376\" alt=\"Screenshot 2023-02-27 at 11 50 57 PM\" src=\"https://user-images.githubusercontent.com/111464993/221788176-54e9015e-620e-4803-90b2-3ca4fe7c22d9.png\">\n"
   ]
  }
 ],
 "metadata": {
  "kernelspec": {
   "display_name": "Python 3.9.12 ('base')",
   "language": "python",
   "name": "python3"
  },
  "language_info": {
   "name": "python",
   "version": "3.9.12"
  },
  "orig_nbformat": 4,
  "vscode": {
   "interpreter": {
    "hash": "b39cc0b7d7b7baa8a40a102196f269dabc963c0136c1c82ab9b0b53a6e35bbf2"
   }
  }
 },
 "nbformat": 4,
 "nbformat_minor": 2
}
