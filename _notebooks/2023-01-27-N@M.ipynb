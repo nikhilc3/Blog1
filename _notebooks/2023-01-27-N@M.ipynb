{
 "cells": [
  {
   "cell_type": "markdown",
   "metadata": {},
   "source": [
    "## N@TM Blog\n",
    "- toc: true\n",
    "- badges: true\n",
    "- comments: true\n",
    "\n",
    "title: N@TM Blog\n",
    "The first thing I did in night at the museum was see the works of other computer science groups. Namely one group created a multiplayer chess game which was very interesting because of how they were able to sync up both computers to see the live changes. The game was very similiar to the online chess game you can play which was quite astonishing, because of the level difficulty it must take to pull something like that off.\n",
    "<br>\n",
    "<img width=\"667\" alt=\"Screenshot 2023-02-27 at 11 51 15 PM\" src=\"https://user-images.githubusercontent.com/111464993/221788230-de86d90a-0d05-4274-a401-8ab0e3c5db07.png\">\n",
    "\n",
    "\n",
    "\n",
    "Another project from a computer science group was a battleship game, where the battleships are randomly placed on a board and you have to guess where they are and try and sink all of them. I think for there coding they created a grid and mapped each location then they used the python random function to place it on the board at a random position. This is very difficult to do because of how you must map the board and how you need to make sure the longer ships fully stay on the board. They also did a good job of having the response to hitting a ship be quick so you would be able to play the game smoothly.\n",
    "<br>\n",
    "<img width=\"330\" alt=\"Screenshot 2023-02-27 at 11 50 45 PM\" src=\"https://user-images.githubusercontent.com/111464993/221788132-9997328e-3f3c-4198-8d31-64431eaa648c.png\">\n",
    "\n",
    "\n",
    "\n",
    "Now after seeing the projects that were made by other groups, I moved on to the projects made by the other classes. Once such class was the computer animation class which created a 3d picture using something revolving around donuts. One project I saw was quite intuitive because of how they placed the donut in a football locker room. The creative part was the floor had checkers, just like the team logo. The picture also had the tennesse logo on it, making it immerse you in the moment\n",
    "<br>\n",
    "<img width=\"337\" alt=\"Screenshot 2023-02-27 at 11 50 51 PM\" src=\"https://user-images.githubusercontent.com/111464993/221788155-749fd9af-5dc6-4685-b039-3fe2a00414af.png\">\n",
    "\n",
    "Now my last stop was the digital media production room where I saw the paintings made by the students. As I looked across the wall, what I saw was magnficent because of how they were able to be so creative and how the pictures were great fits for the theme. There is also a video to go with the photo, and the photos were doing a good job of being great thumbnails\n",
    "<br>\n",
    "<img width=\"376\" alt=\"Screenshot 2023-02-27 at 11 50 57 PM\" src=\"https://user-images.githubusercontent.com/111464993/221788176-54e9015e-620e-4803-90b2-3ca4fe7c22d9.png\">\n"
   ]
  }
 ],
 "metadata": {
  "language_info": {
   "name": "python"
  },
  "orig_nbformat": 4
 },
 "nbformat": 4,
 "nbformat_minor": 2
}
