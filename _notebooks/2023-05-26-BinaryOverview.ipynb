{
 "cells": [
  {
   "cell_type": "markdown",
   "metadata": {},
   "source": [
    "### DAT-1.A: Representing Data with Bits\n",
    "\n",
    "1.How many bits are in 3 bytes?\n",
    "\n",
    "* There are 24 bits in 3 bytes. Each byte is composed of 8 bits.\n",
    "\n",
    "2.What digital information can be represented by bits?\n",
    "\n",
    "* Almost all types of digital information can be represented by bits. This includes, but is not limited to, numeric data, textual data, audio, video, images, instructions for computer processors, and more.\n",
    "\n",
    "3.Are bits an analog or digital form of storing data? What is the difference between the two?\n",
    "\n",
    "Bits are a digital form of storing data. The key difference between analog and digital data storage lies in the format of the information. Analog data is continuous, with information represented by physical measurements or signals that can take on any value. Digital data, on the other hand, is discrete and is represented by binary numbers - 0s and 1s (i.e., bits).\n",
    "\n",
    "### DAT-1.B: The Consequences of Using Bits to Represent Data\n",
    "\n",
    "1.What is the largest number can be represented by 5 bits?\n",
    "\n",
    "* The largest number that can be represented by 5 bits is 31 (11111 in binary).\n",
    "\n",
    "2.One programming language can only use 16 bits to represent non-negative numbers, while a second language uses 56 bits to represent numbers. How many times as many unique numbers can be represented by the second language?\n",
    "\n",
    "* The number of unique numbers that can be represented by n bits is 2^n. So the ratio is 2^56 / 2^16 = 2^(56-16) = 2^40 times as many unique numbers can be represented by the second language.\n",
    "\n",
    "3.Five bits are used to represent both positive and negative numbers, what is the largest number that can be represented by these bits?\n",
    "\n",
    "* When 5 bits are used to represent both positive and negative numbers using two's complement, the largest number that can be represented is 15 (01111 in binary).\n",
    "### DAT-1.C: Binary Math\n",
    "\n",
    "1.What values can each digit of a Base 5 system represent?\n",
    "\n",
    "* Each digit of a Base 5 system can represent values from 0 to 4.\n",
    "\n",
    "2.What base is Hexadecimal? What range of values can each digit of Hexadecimal represent?\n",
    "\n",
    "* Hexadecimal is base 16. Each digit of hexadecimal can represent values from 0 to 15. This is typically represented as 0-9 and A-F, where A-F represent the values 10-15 respectively.\n",
    "\n",
    "3.When using a base above 10, letters can be used to represent numbers past 9. These letters start from A and continue onwards. For example, the decimal number 10 is represented by the letter A in Hexadecimal. What letter would be used to represent the Base 10 number 23 in a Base 30 system? What about in a Base 50 system?\n",
    "\n",
    "* In a Base 30 or higher system, the Base 10 number 23 would be represented by the letter N. In a Base 50 or higher system, it would still be represented by the letter N."
   ]
  },
  {
   "cell_type": "markdown",
   "metadata": {},
   "source": [
    "## Program \n",
    "to conduct basic mathematical operations with binary sequences"
   ]
  },
  {
   "cell_type": "code",
   "execution_count": 1,
   "metadata": {},
   "outputs": [
    {
     "name": "stdout",
     "output_type": "stream",
     "text": [
      "10110\n"
     ]
    }
   ],
   "source": [
    "def binary_operations(num1, num2, operation):\n",
    "    dec_num1 = int(num1, 2)\n",
    "    dec_num2 = int(num2, 2)\n",
    "    \n",
    "    if operation == \"add\":\n",
    "        result = bin(dec_num1 + dec_num2)[2:]\n",
    "    elif operation == \"subtract\":\n",
    "        result = bin(dec_num1 - dec_num2)[2:]\n",
    "    elif operation == \"multiply\":\n",
    "        result = bin(dec_num1 * dec_num2)[2:]\n",
    "    elif operation == \"divide\":\n",
    "        result = bin(dec_num1 // dec_num2)[2:]  # Integer division\n",
    "    else:\n",
    "        print(\"Invalid operation.\")\n",
    "        return None\n",
    "\n",
    "    return result\n",
    "\n",
    "\n",
    "# Example Usage:\n",
    "num1 = \"1010\"\n",
    "num2 = \"1100\"\n",
    "operation = \"add\"  # replace with \"subtract\", \"multiply\", or \"divide\" as needed\n",
    "\n",
    "print(binary_operations(num1, num2, operation))\n"
   ]
  }
 ],
 "metadata": {
  "kernelspec": {
   "display_name": "Python 3.9.12 ('base')",
   "language": "python",
   "name": "python3"
  },
  "language_info": {
   "codemirror_mode": {
    "name": "ipython",
    "version": 3
   },
   "file_extension": ".py",
   "mimetype": "text/x-python",
   "name": "python",
   "nbconvert_exporter": "python",
   "pygments_lexer": "ipython3",
   "version": "3.9.12"
  },
  "orig_nbformat": 4,
  "vscode": {
   "interpreter": {
    "hash": "b39cc0b7d7b7baa8a40a102196f269dabc963c0136c1c82ab9b0b53a6e35bbf2"
   }
  }
 },
 "nbformat": 4,
 "nbformat_minor": 2
}
