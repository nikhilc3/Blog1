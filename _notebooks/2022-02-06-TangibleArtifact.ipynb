{
 "cells": [
  {
   "cell_type": "markdown",
   "metadata": {},
   "source": [
    "\n",
    "<img width=\"1028\" alt=\"Screenshot 2023-02-06 at 10 46 09 AM\" src=\"https://user-images.githubusercontent.com/111464993/217058313-decf80e6-9377-4a25-b474-187098292dee.png\">\n",
    "\n",
    "<br>\n",
    "<br>\n",
    "<br>\n",
    "\n",
    "<img width=\"879\" alt=\"Screenshot 2023-02-06 at 10 46 18 AM\" src=\"https://user-images.githubusercontent.com/111464993/217058330-eee7e1af-e4e2-42dd-abf3-d7872091fb2f.png\">\n"
   ]
  }
 ],
 "metadata": {
  "language_info": {
   "name": "python"
  },
  "orig_nbformat": 4
 },
 "nbformat": 4,
 "nbformat_minor": 2
}
