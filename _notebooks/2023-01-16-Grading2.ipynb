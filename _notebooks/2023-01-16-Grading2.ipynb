{
 "cells": [
  {
   "cell_type": "markdown",
   "metadata": {},
   "source": [
    "# First\n",
    "| Reporting Category | Student Score | College Board Score | Comments |\n",
    "| - | - | - | - |\n",
    "|  Program Purpose and Function | 0 | 0 | The program's function is described in the program's inputs and outputs but not in the program's purpose, which is also poorly described.|\n",
    "|   Data Abstraction | 0 | 0 | The list includes two distinct code segments, but it doesn't state what they are used for.|\n",
    "|   Managing Complexity | 0 | 0 | There is absolutely nothing here..|\n",
    "|   Procedural Abstraction | 1 | 0 | demonstrates that the action is being called.|\n",
    "|   Algorithm Implementation | 0 | 0 | There is a loop with iteration and sequencing, however it is not well explained..|\n",
    "|   Testing | 1 | 1 | He demonstrates that he was competent to meet all the demands made of him. |\n",
    "\n",
    "# Second\n",
    "| Reporting Category | Student Score | College Board Score | Comments |\n",
    "| - | - | - | - |\n",
    "|   Program Purpose and Function | 1 | 1 | It demonstrates how well the software was executed.. |\n",
    "|   Data Abstraction | 1 | 1 | There are two code segments that demonstrate how to store a list and call it from a procedure.. |\n",
    "|   Managing Complexity | 1 | 1 | He does a great job of illustrating the complexity of the problem.. |\n",
    "|   Procedural Abstraction | 1 | 1 | employs procedures and does so successfully. |\n",
    "|   Algorithm Implementation | 1 | 1 | The algorithm integrates seamlessly with the rest of the program.|\n",
    "|   Testing | 1 | 1 | Analogrithm demonstrating that it addresses all of the various aspects and displaying a respectable level of complexity. |\n",
    "\n",
    "# Third\n",
    "| Reporting Category | Student Score | College Board Score | Comments |\n",
    "| - | - | - | - |\n",
    "|   Program Purpose and Function | 1 | 0 | It demonstrates how well the program was managed. With inputs and outputs, programming runs smoothly. |\n",
    "|   Data Abstraction | 1 | 1 | demonstrates two pieces of code and explains the significance of the list's meaning. |\n",
    "|   Managing Complexity | 1 | 1 | By managing multiple, difficult alternatives in lists, he effectively illustrates the issue's complexity. |\n",
    "|   Procedural Abstraction | 1 | 1 | displays a function with input parameters. Shows that it was also called inside the framework of the program. |\n",
    "|   Algorithm Implementation | 1 | 1 | The algorithm integrates seamlessly with the rest of the program.|\n",
    "|   Testing | 1 | 1 | explains two calls, the conditions they each test, and the outcomes of each.|\n",
    "\n",
    "# Fourth\n",
    "| Reporting Category | Student Score | College Board Score | Comments |\n",
    "| - | - | - | - |\n",
    "|  Program Purpose and Function | 1 | 1 | It demonstrates how well the program was managed. |\n",
    "|  Data Abstraction | 0 | 0 | There is a list here, but it doesn't say what it's for, which is a concern. |\n",
    "|  Managing Complexity | 0 | 0 | includes a list, but the complexity is not managed by the list.|\n",
    "|  Procedural Abstraction | 1 | 1 | employs procedures and does so successfully. |\n",
    "|  Algorithm Implementation | 1 | 1 | The algorithm integrates seamlessly with the rest of the program. |\n",
    "|  Testing | 1 | 0 | describes both calls and the circumstances |\n",
    "\n"
   ]
  }
 ],
 "metadata": {
  "language_info": {
   "name": "python"
  },
  "orig_nbformat": 4
 },
 "nbformat": 4,
 "nbformat_minor": 2
}
