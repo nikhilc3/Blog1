{
 "cells": [
  {
   "cell_type": "markdown",
   "metadata": {},
   "source": [
    "# Kathyleen Beveridge:\n",
    "Background:\n",
    "- Shortly resided in Spain - Resided in San Jose till 2004\n",
    "Career/Jobs:\n",
    "- Mission statement: \"To thrive with passion, compassion, humor, and style, not just to exist.\"\n",
    "- Acquired surfing skills from ocean waves\n",
    "- The objective of HP is to develop technology that improves the quality of life for everyone, everywhere.\n",
    "- One thing her businesses had in common was that they were all committed to assisting people and meeting their needs.\n",
    "Stage Gates for NPI\n",
    "- Is the market a good fit for this product?\n",
    "- Does the product benefit the intended market?\n",
    "# Kris Porter:\n",
    "- SRE, DevOps, and Infrastructure Jobs\n",
    "- Background: Received a master's degree in electrical engineering from Cal State LA after attending UCLA for electrical engineering.\n",
    "- In 2008, I developed useful skills through studying about research (Marketable skill)\n",
    "- Career: - In 2010, he began working for a startup, which began his DevOps career; - Geo fences can be used to notify users when you are near their stores; - \"Continuous learning\" - Always learning new skills to apply to new challenges and jobs; - DevOps is important to prevent DDOS and to prevent hackers from accessing your site.\n",
    "- Projects: - Infrastructure for streaming media - Infrastructure for analytics - Twitter Projects\n",
    "\n"
   ]
  }
 ],
 "metadata": {
  "kernelspec": {
   "display_name": "Python 3.9.12 ('base')",
   "language": "python",
   "name": "python3"
  },
  "language_info": {
   "name": "python",
   "version": "3.9.12"
  },
  "orig_nbformat": 4,
  "vscode": {
   "interpreter": {
    "hash": "b39cc0b7d7b7baa8a40a102196f269dabc963c0136c1c82ab9b0b53a6e35bbf2"
   }
  }
 },
 "nbformat": 4,
 "nbformat_minor": 2
}
