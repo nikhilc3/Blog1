{
 "cells": [
  {
   "cell_type": "markdown",
   "metadata": {},
   "source": [
    "# Extra Credit\n",
    "> Extra Credit"
   ]
  },
  {
   "cell_type": "markdown",
   "metadata": {},
   "source": [
    "# notes \n",
    "- Presenters: John, Ashley\n",
    "- Ahsley: Failed numberous classes. San marcos has a great supposert system as a college. \n",
    "- John: Transferred into San Marcos, and works at San Marcos now. \n",
    "\n",
    "\n",
    "## About the school\n",
    "- Different pathways fro computer science, such as cybersecurity, Computer Engineering.\n",
    "- School is very flexible and has many different options even if what you initially isn't the perfect fir for you.\n",
    "- Hands on for applied physics with many labs.\n",
    "- Get internships at San Marcos\n",
    "- Many different clubs such as robotics, 3d printing, CyberSecurity.\n",
    "- Ahsley's advice is to avoid unpaid internships because of how you deserve more, apply regardless of how good you are, because getting a no isn't terrible. \n",
    "\n",
    "\n",
    "## Programs\n",
    "- Summer program where you can work with a professor, so you can pursue interestes and research oppurtunities in the field of study.\n",
    "- 4 week program where you get paid 1500.\n",
    "\n",
    "## Research\n",
    "- Cancer Cell, Quantum, Meotorites \n",
    "\n",
    "\n",
    "## Paying for College\n",
    "- There are ways to manipulate the finances so you can be applicable for more scholarship oppurtinities.\n",
    "- Unsibsidized vs subsized laons, both have negatives, overall don't take out loans and be smart with financial advice.\n",
    "\n",
    "## Scholarships/Grants\n",
    "- Check student emails\n",
    "- Financial Aid office/Website\n",
    "\n",
    "## Life After College\n",
    "- School known for teaching creditials, many computer science majors end up working for governemnt organizations such as northrop Gruman. "
   ]
  }
 ],
 "metadata": {
  "kernelspec": {
   "display_name": "Python 3.9.12 ('base')",
   "language": "python",
   "name": "python3"
  },
  "language_info": {
   "name": "python",
   "version": "3.9.12"
  },
  "orig_nbformat": 4,
  "vscode": {
   "interpreter": {
    "hash": "b39cc0b7d7b7baa8a40a102196f269dabc963c0136c1c82ab9b0b53a6e35bbf2"
   }
  }
 },
 "nbformat": 4,
 "nbformat_minor": 2
}
