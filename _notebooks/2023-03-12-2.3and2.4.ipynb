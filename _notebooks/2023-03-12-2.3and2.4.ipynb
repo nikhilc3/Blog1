{
 "cells": [
  {
   "cell_type": "markdown",
   "metadata": {},
   "source": [
    "# 2,3 and 2.4\n",
    "\n",
    "- toc: true\n",
    "- comments: true\n",
    "- layout: post "
   ]
  },
  {
   "cell_type": "markdown",
   "metadata": {},
   "source": [
    "# AP Prep\n",
    "<br>\n",
    "In the Blog add notes and observations on each code cell that request an answer.\n",
    "<br>\n",
    "\n",
    "### code block 2\n",
    "* A list of image dictionaries is produced by the image data() function after it has prepared a number of images.\n",
    "* scale image() resizes a PIL image to 320 pixels in width and returns the result.\n",
    "* image to base64() transforms a PIL image into its base64 equivalent.\n",
    "* Image management() sets an image's properties and scales and base64-encodes it.\n",
    "* The image management add html grey() function converts an image to grayscale and adds it as HTML.\n",
    "* If name equals \"main,\" it is determined whether the script is being imported or run directly.\n",
    "* each image in the images list's meta information, scaled view, and grayscale are shown.\n",
    "\n",
    "### code block 3\n",
    "* The program defines a class called Image Data that contains methods for manipulating images and image data.\n",
    "* The source, label, file, path, and baseWidth attributes are initialized on creation of the object by the Image Data constructor.\n",
    "* An image is scaled to the necessary width using the scale image() function.\n",
    "* A PIL picture is transformed into base64 HTML code using the image to html() method.\n",
    "* A PIL picture is turned into grayscale using the image to html grey() technique.\n",
    "* A series of photographs are prepared using the image data() method, which then returns the path and the images.\n",
    "* For each image, the image objects() function produces an object of Image Data and returns a list of those objects.\n",
    "* Each image object's information, scaled image, and grayscale image are printed in the if name == \"main\": section."
   ]
  },
  {
   "cell_type": "markdown",
   "metadata": {},
   "source": [
    "### In blog add College Board practice problems for 2.2\n",
    "\n",
    "<img width=\"1157\" alt=\"Screenshot 2023-03-12 at 11 33 55 PM\" src=\"https://user-images.githubusercontent.com/111464993/224625012-33d5e821-4626-4bfc-ba47-8b7a27ca12d4.png\">\n",
    "\n",
    "\n",
    "\n",
    "\n"
   ]
  },
  {
   "cell_type": "markdown",
   "metadata": {},
   "source": [
    "### Numpy\n"
   ]
  },
  {
   "cell_type": "code",
   "execution_count": 13,
   "metadata": {},
   "outputs": [],
   "source": [
    "import numpy as np\n",
    "from PIL import Image\n",
    "\n",
    "img = Image.open(\"image.png\")\n",
    "img_arr = np.array(img)\n",
    "\n",
    "def manipulate_color_channel(img_arr, color_channel, intensity):\n",
    "    manipulated_arr = img_arr.copy().astype(np.float64)\n",
    "    intensity = float(intensity)\n",
    "    manipulated_arr[:, :, color_channel] *= intensity\n",
    "    manipulated_arr = np.clip(manipulated_arr, 0, 255)\n",
    "    manipulated_img = Image.fromarray(manipulated_arr.astype(np.uint8))\n",
    "    return manipulated_img\n",
    "\n",
    "manipulated_img = manipulate_color_channel(img_arr, 0, 2)\n",
    "manipulated_img.show()\n",
    "\n",
    "manipulated_img = manipulate_color_channel(img_arr, 1, 1.5)\n",
    "manipulated_img.show()\n",
    "\n",
    "# manipulate the image using the color channel\n",
    "manipulated_img = manipulate_color_channel(img_arr, 2, 0.5)\n",
    "manipulated_img.show()\n"
   ]
  },
  {
   "cell_type": "markdown",
   "metadata": {},
   "source": [
    "## Binary and Hexadecimal \n",
    "\n"
   ]
  },
  {
   "cell_type": "code",
   "execution_count": 18,
   "metadata": {},
   "outputs": [
    {
     "name": "stdout",
     "output_type": "stream",
     "text": [
      "Pixel value: 182, Binary value: 10110110, Hex value: b6\n",
      "Pixel value: 78, Binary value: 1001110, Hex value: 4e\n",
      "Pixel value: 54, Binary value: 110110, Hex value: 36\n",
      "Pixel value: 82, Binary value: 1010010, Hex value: 52\n",
      "Pixel value: 72, Binary value: 1001000, Hex value: 48\n",
      "Pixel value: 64, Binary value: 1000000, Hex value: 40\n",
      "Pixel value: 64, Binary value: 1000000, Hex value: 40\n",
      "Pixel value: 85, Binary value: 1010101, Hex value: 55\n",
      "Pixel value: 77, Binary value: 1001101, Hex value: 4d\n",
      "Pixel value: 79, Binary value: 1001111, Hex value: 4f\n",
      "Pixel value: 53, Binary value: 110101, Hex value: 35\n",
      "Pixel value: 16, Binary value: 10000, Hex value: 10\n",
      "Pixel value: 16, Binary value: 10000, Hex value: 10\n",
      "Pixel value: 4, Binary value: 100, Hex value: 4\n",
      "Pixel value: 0, Binary value: 0, Hex value: 0\n",
      "Pixel value: 16, Binary value: 10000, Hex value: 10\n",
      "Pixel value: 19, Binary value: 10011, Hex value: 13\n",
      "Pixel value: 3, Binary value: 11, Hex value: 3\n",
      "Pixel value: 6, Binary value: 110, Hex value: 6\n",
      "Pixel value: 17, Binary value: 10001, Hex value: 11\n",
      "Pixel value: 67, Binary value: 1000011, Hex value: 43\n",
      "Pixel value: 89, Binary value: 1011001, Hex value: 59\n",
      "Pixel value: 134, Binary value: 10000110, Hex value: 86\n",
      "Pixel value: 118, Binary value: 1110110, Hex value: 76\n",
      "Pixel value: 108, Binary value: 1101100, Hex value: 6c\n",
      "Pixel value: 129, Binary value: 10000001, Hex value: 81\n",
      "Pixel value: 114, Binary value: 1110010, Hex value: 72\n",
      "Pixel value: 69, Binary value: 1000101, Hex value: 45\n",
      "Pixel value: 58, Binary value: 111010, Hex value: 3a\n",
      "Pixel value: 104, Binary value: 1101000, Hex value: 68\n",
      "Pixel value: 72, Binary value: 1001000, Hex value: 48\n",
      "Pixel value: 59, Binary value: 111011, Hex value: 3b\n",
      "Pixel value: 85, Binary value: 1010101, Hex value: 55\n",
      "Pixel value: 74, Binary value: 1001010, Hex value: 4a\n",
      "Pixel value: 75, Binary value: 1001011, Hex value: 4b\n",
      "Pixel value: 79, Binary value: 1001111, Hex value: 4f\n",
      "Pixel value: 79, Binary value: 1001111, Hex value: 4f\n",
      "Pixel value: 69, Binary value: 1000101, Hex value: 45\n",
      "Pixel value: 30, Binary value: 11110, Hex value: 1e\n",
      "Pixel value: 63, Binary value: 111111, Hex value: 3f\n",
      "Pixel value: 74, Binary value: 1001010, Hex value: 4a\n",
      "Pixel value: 18, Binary value: 10010, Hex value: 12\n",
      "Pixel value: 21, Binary value: 10101, Hex value: 15\n",
      "Pixel value: 21, Binary value: 10101, Hex value: 15\n",
      "Pixel value: 47, Binary value: 101111, Hex value: 2f\n",
      "Pixel value: 34, Binary value: 100010, Hex value: 22\n",
      "Pixel value: 37, Binary value: 100101, Hex value: 25\n",
      "Pixel value: 47, Binary value: 101111, Hex value: 2f\n",
      "Pixel value: 33, Binary value: 100001, Hex value: 21\n",
      "Pixel value: 34, Binary value: 100010, Hex value: 22\n",
      "Pixel value: 78, Binary value: 1001110, Hex value: 4e\n",
      "Pixel value: 26, Binary value: 11010, Hex value: 1a\n",
      "Pixel value: 33, Binary value: 100001, Hex value: 21\n",
      "Pixel value: 40, Binary value: 101000, Hex value: 28\n",
      "Pixel value: 101, Binary value: 1100101, Hex value: 65\n",
      "Pixel value: 96, Binary value: 1100000, Hex value: 60\n",
      "Pixel value: 89, Binary value: 1011001, Hex value: 59\n",
      "Pixel value: 82, Binary value: 1010010, Hex value: 52\n",
      "Pixel value: 92, Binary value: 1011100, Hex value: 5c\n",
      "Pixel value: 86, Binary value: 1010110, Hex value: 56\n",
      "Pixel value: 77, Binary value: 1001101, Hex value: 4d\n",
      "Pixel value: 26, Binary value: 11010, Hex value: 1a\n",
      "Pixel value: 23, Binary value: 10111, Hex value: 17\n",
      "Pixel value: 14, Binary value: 1110, Hex value: e\n",
      "Pixel value: 95, Binary value: 1011111, Hex value: 5f\n",
      "Pixel value: 113, Binary value: 1110001, Hex value: 71\n",
      "Pixel value: 122, Binary value: 1111010, Hex value: 7a\n",
      "Pixel value: 114, Binary value: 1110010, Hex value: 72\n",
      "Pixel value: 108, Binary value: 1101100, Hex value: 6c\n",
      "Pixel value: 103, Binary value: 1100111, Hex value: 67\n",
      "Pixel value: 72, Binary value: 1001000, Hex value: 48\n",
      "Pixel value: 28, Binary value: 11100, Hex value: 1c\n",
      "Pixel value: 36, Binary value: 100100, Hex value: 24\n",
      "Pixel value: 31, Binary value: 11111, Hex value: 1f\n",
      "Pixel value: 110, Binary value: 1101110, Hex value: 6e\n",
      "Pixel value: 111, Binary value: 1101111, Hex value: 6f\n",
      "Pixel value: 106, Binary value: 1101010, Hex value: 6a\n",
      "Pixel value: 92, Binary value: 1011100, Hex value: 5c\n",
      "Pixel value: 93, Binary value: 1011101, Hex value: 5d\n",
      "Pixel value: 105, Binary value: 1101001, Hex value: 69\n",
      "Pixel value: 70, Binary value: 1000110, Hex value: 46\n",
      "Pixel value: 26, Binary value: 11010, Hex value: 1a\n",
      "Pixel value: 30, Binary value: 11110, Hex value: 1e\n",
      "Pixel value: 30, Binary value: 11110, Hex value: 1e\n",
      "Pixel value: 106, Binary value: 1101010, Hex value: 6a\n",
      "Pixel value: 110, Binary value: 1101110, Hex value: 6e\n",
      "Pixel value: 112, Binary value: 1110000, Hex value: 70\n",
      "Pixel value: 112, Binary value: 1110000, Hex value: 70\n",
      "Pixel value: 103, Binary value: 1100111, Hex value: 67\n",
      "Pixel value: 112, Binary value: 1110000, Hex value: 70\n",
      "Pixel value: 65, Binary value: 1000001, Hex value: 41\n",
      "Pixel value: 27, Binary value: 11011, Hex value: 1b\n",
      "Pixel value: 31, Binary value: 11111, Hex value: 1f\n",
      "Pixel value: 32, Binary value: 100000, Hex value: 20\n",
      "Pixel value: 117, Binary value: 1110101, Hex value: 75\n",
      "Pixel value: 119, Binary value: 1110111, Hex value: 77\n",
      "Pixel value: 113, Binary value: 1110001, Hex value: 71\n",
      "Pixel value: 114, Binary value: 1110010, Hex value: 72\n",
      "Pixel value: 111, Binary value: 1101111, Hex value: 6f\n",
      "Pixel value: 113, Binary value: 1110001, Hex value: 71\n"
     ]
    }
   ],
   "source": [
    "import cv2\n",
    "import numpy as np\n",
    "\n",
    "img = cv2.imread('images.jpeg', cv2.IMREAD_GRAYSCALE)\n",
    "\n",
    "red_img = np.zeros((*img.shape, 3), dtype=np.uint8)\n",
    "\n",
    "red_img[:, :, 0] = img\n",
    "\n",
    "for i in range(10):\n",
    "    for j in range(10):\n",
    "        pixel_value = red_img[i, j, 0]  # Access the red channel\n",
    "        binary_value = '{0:b}'.format(pixel_value)\n",
    "        hex_value = '{0:x}'.format(pixel_value)\n",
    "        print(f\"Pixel value: {pixel_value}, Binary value: {binary_value}, Hex value: {hex_value}\")\n"
   ]
  },
  {
   "cell_type": "markdown",
   "metadata": {},
   "source": [
    "## Compression and Sizing of images.\n"
   ]
  },
  {
   "cell_type": "code",
   "execution_count": 23,
   "metadata": {},
   "outputs": [],
   "source": [
    "from PIL import Image\n",
    "\n",
    "# Open the original image\n",
    "img = Image.open('images.jpeg')\n",
    "\n",
    "# Save the image in PNG format with maximum compression\n",
    "img.save('image.png', optimize=True, compress_level=9)"
   ]
  },
  {
   "cell_type": "markdown",
   "metadata": {},
   "source": [
    "### Blur the image or write Meta Data on screen, aka Title, Author and Image size.\n"
   ]
  },
  {
   "cell_type": "code",
   "execution_count": null,
   "metadata": {},
   "outputs": [],
   "source": [
    "from PIL import Image, ImageDraw, ImageFont, ImageFilter\n",
    "\n",
    "class ImageEditor:\n",
    "    def __init__(self, file_path):\n",
    "        self.image = Image.open(file_path)\n",
    "        self.width, self.height = self.image.size\n",
    "\n",
    "    def blur(self, radius=10):\n",
    "        self.image = self.image.filter(ImageFilter.GaussianBlur(radius))\n",
    "\n",
    "    def add_meta_data(self, title, author):\n",
    "        font = ImageFont.truetype('arial.ttf', size=20)\n",
    "        draw = ImageDraw.Draw(self.image)\n",
    "        draw.text((10, 10), f'Title: {title}', font=font, fill='white')\n",
    "        draw.text((10, 40), f'Author: {author}', font=font, fill='white')\n",
    "        draw.text((10, self.height - 30), f'Image size: {self.width} x {self.height}', font=font, fill='white')\n",
    "\n",
    "    def save_image(self, file_path):\n",
    "        self.image.save(file_path)\n",
    "\n",
    "# Example usage\n",
    "editor = ImageEditor('images.png')\n",
    "editor.blur(radius=15)\n",
    "editor.add_meta_data('Beautiful Scenery', 'John Doe')\n",
    "editor.save_image('images.jpeg')"
   ]
  },
  {
   "cell_type": "markdown",
   "metadata": {},
   "source": [
    "# 2.3 Hacks\n",
    "\n",
    "### In blog add College Board practice problems for 2.3\n",
    "<img width=\"1141\" alt=\"Screenshot 2023-03-12 at 11 34 36 PM\" src=\"https://user-images.githubusercontent.com/111464993/224625137-17a17cd3-47ab-4c1a-a171-7689953454a0.png\">\n",
    "\n"
   ]
  },
  {
   "cell_type": "markdown",
   "metadata": {},
   "source": [
    "### Code Block 1:\n"
   ]
  },
  {
   "cell_type": "code",
   "execution_count": 27,
   "metadata": {},
   "outputs": [
    {
     "name": "stdout",
     "output_type": "stream",
     "text": [
      "\n",
      " product  price\n",
      "computer    850\n",
      "  tablet    200\n",
      " printer    150\n",
      "  laptop   1300\n"
     ]
    }
   ],
   "source": [
    "import pandas as pd\n",
    "\n",
    "data = {'product': ['computer', 'tablet', 'printer', 'laptop'],\n",
    "        'price': [850, 200, 150, 1300]\n",
    "        }\n",
    "\n",
    "\n",
    "df = pd.DataFrame(data)\n",
    "\n",
    "\n",
    "print()\n",
    "\n",
    "print(df[['product','price']].to_string(index=False))\n"
   ]
  },
  {
   "cell_type": "markdown",
   "metadata": {},
   "source": [
    "### Code Block 2:"
   ]
  },
  {
   "cell_type": "code",
   "execution_count": 29,
   "metadata": {},
   "outputs": [
    {
     "name": "stdout",
     "output_type": "stream",
     "text": [
      "    product  price\n",
      "2   printer    150\n",
      "1    tablet    200\n",
      "0  computer    850\n",
      "3    laptop   1300\n",
      "\n",
      "    product  price\n",
      "3    laptop   1300\n",
      "0  computer    850\n",
      "1    tablet    200\n",
      "2   printer    150\n"
     ]
    }
   ],
   "source": [
    "print(df.sort_values(by=['price']))\n",
    "\n",
    "\n",
    "print()\n",
    "\n",
    "print(df.sort_values(by=['price'], ascending=False))"
   ]
  },
  {
   "cell_type": "markdown",
   "metadata": {},
   "source": [
    "### Code Block 3:\n",
    "\n"
   ]
  },
  {
   "cell_type": "code",
   "execution_count": 30,
   "metadata": {},
   "outputs": [
    {
     "name": "stdout",
     "output_type": "stream",
     "text": [
      "    product  price\n",
      "0  computer    850\n",
      "1    tablet    200\n",
      "2   printer    150\n",
      "3    laptop   1300\n"
     ]
    }
   ],
   "source": [
    "print(df[df.price > 3.00])"
   ]
  },
  {
   "cell_type": "markdown",
   "metadata": {},
   "source": [
    "This code filters the rows of the original DataFrame 'df' where the value of the 'GPA' column is greater than 3.00, \n",
    "and prints the resulting filtered DataFrame. In other words, it selects and displays all rows where the value in \n",
    "the 'GPA' column is greater than 3.00.\n",
    "\n",
    "<br>\n",
    "\n",
    "### Code Block 4:\n"
   ]
  },
  {
   "cell_type": "code",
   "execution_count": 31,
   "metadata": {},
   "outputs": [
    {
     "name": "stdout",
     "output_type": "stream",
     "text": [
      "  product  price\n",
      "3  laptop   1300\n",
      "\n",
      "   product  price\n",
      "2  printer    150\n"
     ]
    }
   ],
   "source": [
    "print(df[df.price == df.price.max()])\n",
    "\n",
    "print()\n",
    "\n",
    "\n",
    "print(df[df.price == df.price.min()])"
   ]
  },
  {
   "cell_type": "markdown",
   "metadata": {},
   "source": [
    "### Code Block 5:"
   ]
  },
  {
   "cell_type": "code",
   "execution_count": 32,
   "metadata": {},
   "outputs": [
    {
     "name": "stdout",
     "output_type": "stream",
     "text": [
      "-------------Dict_to_DF------------------\n",
      "   calories  duration\n",
      "0       420        50\n",
      "1       380        40\n",
      "2       390        45\n",
      "----------Dict_to_DF_labels--------------\n",
      "      calories  duration\n",
      "day1       420        50\n",
      "day2       380        40\n",
      "day3       390        45\n"
     ]
    }
   ],
   "source": [
    "import pandas as pd\n",
    "\n",
    "dict = {\n",
    "  \"calories\": [420, 380, 390],\n",
    "  \"duration\": [50, 40, 45]\n",
    "}\n",
    "\n",
    "\n",
    "print(\"-------------Dict_to_DF------------------\")\n",
    "df = pd.DataFrame(dict)\n",
    "print(df)\n",
    "\n",
    "\n",
    "print(\"----------Dict_to_DF_labels--------------\")\n",
    "df = pd.DataFrame(dict, index = [\"day1\", \"day2\", \"day3\"])\n",
    "print(df)"
   ]
  },
  {
   "cell_type": "markdown",
   "metadata": {},
   "source": [
    "### Code Block 6"
   ]
  },
  {
   "cell_type": "code",
   "execution_count": 33,
   "metadata": {},
   "outputs": [
    {
     "name": "stdout",
     "output_type": "stream",
     "text": [
      "-------Examine Selected Rows---------\n",
      "      calories  duration\n",
      "day1       420        50\n",
      "day3       390        45\n",
      "--------Examine Single Row-----------\n",
      "calories    420\n",
      "duration     50\n",
      "Name: day1, dtype: int64\n"
     ]
    }
   ],
   "source": [
    "print(\"-------Examine Selected Rows---------\")\n",
    "\n",
    "\n",
    "print(df.loc[[\"day1\", \"day3\"]])\n",
    "\n",
    "\n",
    "print(\"--------Examine Single Row-----------\")\n",
    "print(df.loc[\"day1\"])"
   ]
  },
  {
   "cell_type": "markdown",
   "metadata": {},
   "source": [
    "### Code Block 7"
   ]
  },
  {
   "cell_type": "code",
   "execution_count": 34,
   "metadata": {},
   "outputs": [
    {
     "name": "stdout",
     "output_type": "stream",
     "text": [
      "--Duration Top 10---------\n",
      "     Duration  Pulse  Maxpulse  Calories\n",
      "69        300    108       143    1500.2\n",
      "79        270    100       131    1729.0\n",
      "109       210    137       184    1860.4\n",
      "60        210    108       160    1376.0\n",
      "106       180     90       120     800.3\n",
      "90        180    101       127     600.1\n",
      "65        180     90       130     800.4\n",
      "61        160    110       137    1034.4\n",
      "62        160    109       135     853.0\n",
      "67        150    107       130     816.0\n",
      "--Duration Bottom 10------\n",
      "     Duration  Pulse  Maxpulse  Calories\n",
      "68         20    106       136     110.4\n",
      "100        20     95       112      77.7\n",
      "89         20     83       107      50.3\n",
      "135        20    136       156     189.0\n",
      "94         20    150       171     127.4\n",
      "95         20    151       168     229.4\n",
      "139        20    141       162     222.4\n",
      "64         20    110       130     131.4\n",
      "112        15    124       139     124.2\n",
      "93         15     80       100      50.5\n"
     ]
    }
   ],
   "source": [
    "import pandas as pd\n",
    "\n",
    "df = pd.read_csv('files/data.csv').sort_values(by=['Duration'], ascending=False)\n",
    "\n",
    "print(\"--Duration Top 10---------\")\n",
    "print(df.head(10))\n",
    "\n",
    "print(\"--Duration Bottom 10------\")\n",
    "print(df.tail(10))\n"
   ]
  },
  {
   "cell_type": "markdown",
   "metadata": {},
   "source": [
    "### Code Block 8:"
   ]
  },
  {
   "cell_type": "code",
   "execution_count": 35,
   "metadata": {},
   "outputs": [
    {
     "name": "stdout",
     "output_type": "stream",
     "text": [
      "  country_name       cases     deaths\n",
      "0          USA  82,649,779  1,018,316\n",
      "1        India  43,057,545    522,193\n",
      "2       Brazil  30,345,654    662,663\n",
      "3       France  28,244,977    145,020\n",
      "4      Germany  24,109,433    134,624\n",
      "5           UK  21,933,206    173,352\n"
     ]
    }
   ],
   "source": [
    "import pandas as pd\n",
    "import requests\n",
    "\n",
    "def fetch():\n",
    "    '''Obtain data from an endpoint'''\n",
    "    url = \"https://flask.nighthawkcodingsociety.com/api/covid/\"\n",
    "    fetch = requests.get(url)\n",
    "    json = fetch.json()\n",
    "\n",
    "    # filter data for requirement\n",
    "    df = pd.DataFrame(json['countries_stat'])  # filter endpoint for country stats\n",
    "    print(df.loc[0:5, 'country_name':'deaths']) # show row 0 through 5 and columns country_name through deaths\n",
    "    \n",
    "fetch()"
   ]
  },
  {
   "cell_type": "markdown",
   "metadata": {},
   "source": [
    "## Create or Find your own dataset\n",
    "\n"
   ]
  },
  {
   "cell_type": "code",
   "execution_count": 36,
   "metadata": {},
   "outputs": [],
   "source": [
    "import json\n",
    "\n",
    "json_str = '''\n",
    "{\n",
    "    \"houses\": [\n",
    "        {\n",
    "            \"id\": 1,\n",
    "            \"location\": \"Los Angeles\",\n",
    "            \"bedrooms\": 3,\n",
    "            \"bathrooms\": 2,\n",
    "            \"square_feet\": 1800,\n",
    "            \"price\": 950000\n",
    "        },\n",
    "        {\n",
    "            \"id\": 2,\n",
    "            \"location\": \"San Francisco\",\n",
    "            \"bedrooms\": 2,\n",
    "            \"bathrooms\": 1,\n",
    "            \"square_feet\": 1200,\n",
    "            \"price\": 1200000\n",
    "        },\n",
    "        {\n",
    "            \"id\": 3,\n",
    "            \"location\": \"New York City\",\n",
    "            \"bedrooms\": 4,\n",
    "            \"bathrooms\": 3,\n",
    "            \"square_feet\": 2500,\n",
    "            \"price\": 1800000\n",
    "        },\n",
    "        {\n",
    "            \"id\": 4,\n",
    "            \"location\": \"Chicago\",\n",
    "            \"bedrooms\": 3,\n",
    "            \"bathrooms\": 2,\n",
    "            \"square_feet\": 2000,\n",
    "            \"price\": 700000\n",
    "        },\n",
    "        {\n",
    "            \"id\": 5,\n",
    "            \"location\": \"Seattle\",\n",
    "            \"bedrooms\": 5,\n",
    "            \"bathrooms\": 3,\n",
    "            \"square_feet\": 3000,\n",
    "            \"price\": 2200000\n",
    "        },\n",
    "        {\n",
    "            \"id\": 6,\n",
    "            \"location\": \"Boston\",\n",
    "            \"bedrooms\": 2,\n",
    "            \"bathrooms\": 1,\n",
    "            \"square_feet\": 1000,\n",
    "            \"price\": 750000\n",
    "        },\n",
    "        {\n",
    "            \"id\": 7,\n",
    "            \"location\": \"Austin\",\n",
    "            \"bedrooms\": 4,\n",
    "            \"bathrooms\": 2,\n",
    "            \"square_feet\": 2200,\n",
    "            \"price\": 900000\n",
    "        },\n",
    "        {\n",
    "            \"id\": 8,\n",
    "            \"location\": \"Denver\",\n",
    "            \"bedrooms\": 3,\n",
    "            \"bathrooms\": 2,\n",
    "            \"square_feet\": 1900,\n",
    "            \"price\": 650000\n",
    "        },\n",
    "        {\n",
    "            \"id\": 9,\n",
    "            \"location\": \"Miami\",\n",
    "            \"bedrooms\": 2,\n",
    "            \"bathrooms\": 1,\n",
    "            \"square_feet\": 1100,\n",
    "            \"price\": 550000\n",
    "        },\n",
    "        {\n",
    "            \"id\": 10,\n",
    "            \"location\": \"Portland\",\n",
    "            \"bedrooms\": 4,\n",
    "            \"bathrooms\": 2,\n",
    "            \"square_feet\": 2400,\n",
    "            \"price\": 1100000\n",
    "        }\n",
    "    ]\n",
    "}\n",
    "'''\n",
    "\n",
    "data = json.loads(json_str)\n"
   ]
  }
 ],
 "metadata": {
  "kernelspec": {
   "display_name": "Python 3.9.12 ('base')",
   "language": "python",
   "name": "python3"
  },
  "language_info": {
   "codemirror_mode": {
    "name": "ipython",
    "version": 3
   },
   "file_extension": ".py",
   "mimetype": "text/x-python",
   "name": "python",
   "nbconvert_exporter": "python",
   "pygments_lexer": "ipython3",
   "version": "3.9.12"
  },
  "orig_nbformat": 4,
  "vscode": {
   "interpreter": {
    "hash": "b39cc0b7d7b7baa8a40a102196f269dabc963c0136c1c82ab9b0b53a6e35bbf2"
   }
  }
 },
 "nbformat": 4,
 "nbformat_minor": 2
}
