{
 "cells": [
  {
   "cell_type": "markdown",
   "metadata": {},
   "source": [
    "# \"Notes\"\n",
    "\n",
    "- toc: true\n",
    "- comments: true\n",
    "- layout: post"
   ]
  },
  {
   "cell_type": "markdown",
   "metadata": {},
   "source": [
    "# Lesson Notes\n",
    "## Google vs ChatGPT\n",
    "- Google = A lot of opinions from different people so maybe more better and detailed information\n",
    "- ChatGPT = It is a point of view of one thing and not multiple so you may not get the full idea of the concept. \n",
    "\n",
    "## computer bias:\n",
    "One opinion for everyone not multiple, and maybe we are applying bias to answers.\n",
    "\n",
    "## Are games/social media bad for our health?\n",
    "Advantages:\n",
    "\n",
    "- Staying connected with friends and family who live at a distance.\n",
    "- Increased opportunities for connection.\n",
    "- Ability to communicate from far away.\n",
    "- Ability to assist other students with homework.\n",
    "\n",
    "Disadvantages:\n",
    "\n",
    "- Negative impact on body image and self-confidence.\n",
    "- Comparison leading to feelings of unhappiness and ingratitude.\n",
    "- Reduced time spent outside and sleeping.\n",
    "- Decreased face-to-face communication.\n",
    "- Possibility of developing social anxiety.\n",
    "## The Digital Divide:\n",
    "1. In some regions, access to technology is limited or nonexistent.\n",
    "2. The divide in access is often influenced by socio-economic, geographic, and demographic factors such as ethnicity, education, religion, etc.\n",
    "3. The use of technology in education\n",
    "4. Technology has proven to be a useful tool in education.\n",
    "5. Many schools have implemented filters to block websites and tools.\n",
    "\n",
    "## Blog Post Reflections\n",
    "## 5.1\n",
    "Beneficial:\n",
    "\n",
    "- Better ability to analyze information.\n",
    "- Better way to acces information.\n",
    "- more efficieny in different industries.\n",
    "\n",
    "Harmful:\n",
    "\n",
    "- A harmful thing is that it can be addictive\n",
    "- Another one is Job loss\n",
    "- And increased cybercrimes\n",
    "\n",
    "\n",
    "\n",
    "\n",
    "The impact of social media on the world is significant. Many teenagers become unhappy and ungrateful as they compare their lives to those portrayed on social media. However, this is often a false comparison as influencers only post the positive aspects of their lives. I have personally experienced this sense of sadness and jealousy. This does not really impact my person study and success in High School because I am able to control myself for time limits on social media.\n",
    "\n",
    "## 5.2\n",
    "How does someone empower themself in a digital world?\n",
    "Education is a means of empowering oneself. With a deep understanding of the digital world, one can leverage it to their advantage.\n",
    "\n",
    "How does someone that is empowered help someone that is not empowered. Describe something you could do at Del Norte HS.\n",
    "\n",
    "I will help to empower someone at del norte by teaching the knowledege I have just like the teachers, about technology. That way they can get so much access to different oppuritunities like checking their homework and can help them be connected with their teachers. some barriers is that the school blocks really big lerning tools like youtube, and youtube can be used to learn a lot of things for free. \n",
    "\n",
    "\n",
    "## Canvas Blog Questions:\n",
    "three beneficial effects of my project:\n",
    "- Keeps users active throughout their lives leading for them to be healrhty\n",
    "- If people want to work out it will give them tips and what workouts are needed for the type of exercise they want to do. \n",
    "- It also gives motivation to workout which leads to being healthy\n",
    "\n",
    "### potential harmful effect of my project:\n",
    "* May get too disctracted from school and only prioritize working out and not the other things in life. \n",
    "* What are pros/cons on internet blockers at router and lack of admin password on lab machines at school?\n",
    "- Pros: Protecting students from harmful information, filtering inappropriate online content, and maintaining a focus on educational pursuits are important goals.\n",
    "- Cons: A con is that it limits opportunities because there may be some links or websites that we can access that may be crucial for the learning.\n",
    "* What concerns do you have personally about the digital divide? For yourself or for others.\n",
    "- I am lucky to have had early access to technology and to have learned its use. However, I worry about those who have limited or recently obtained access, as they may struggle with its use and efficiency. "
   ]
  }
 ],
 "metadata": {
  "kernelspec": {
   "display_name": "Python 3.9.12 ('base')",
   "language": "python",
   "name": "python3"
  },
  "language_info": {
   "name": "python",
   "version": "3.9.12"
  },
  "orig_nbformat": 4,
  "vscode": {
   "interpreter": {
    "hash": "b39cc0b7d7b7baa8a40a102196f269dabc963c0136c1c82ab9b0b53a6e35bbf2"
   }
  }
 },
 "nbformat": 4,
 "nbformat_minor": 2
}
