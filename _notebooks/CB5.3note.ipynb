{
 "cells": [
  {
   "cell_type": "markdown",
   "metadata": {},
   "source": [
    "# \"CB 5.3\"\n",
    "\n",
    "- toc: true\n",
    "- comments: true\n",
    "- layout: post"
   ]
  },
  {
   "cell_type": "markdown",
   "metadata": {},
   "source": [
    "## College Board 5.3\n",
    "\n",
    "There is no intentional exclusion because everyone has access to the apps, but owing to the generational divide, not everyone chooses to use them. Facebook is for people ages 25 to 34 and TikTok is mostly for people ages 13 to 17. It is not dangerous because their businesses can profit from certain age groups using it, but it also doesn't damage people who don't use it or those who do. Correcting it would be counterproductive because targeting certain age groups helps these businesses do well, and banning it would only hurt business. Humans prefer the sound of female voices above those of men. According to research, they find it more calming and simpler to listen to. This is probably how products like ALexa and others work to increase customer satisfaction and repeat usage. Because they are altering the voices to make them sound more calming, it is not detrimental."
   ]
  },
  {
   "cell_type": "markdown",
   "metadata": {},
   "source": [
    "## Racist HP Lapotp \n",
    "\n",
    "Because he kept bringing up how the computers were racist towards him but not white people, he does believe that they were.\n",
    "They obviously did not conduct enough testing, and the study they did conduct was primarily on individuals with lighter skin tones.\n",
    "Because it explicitly excludes persons with darker skin tones, it is damaging. This is the 1900s in the digital age. It should be corrected because then it does not allow for people to use the feature and it creates harm to people. "
   ]
  },
  {
   "cell_type": "markdown",
   "metadata": {},
   "source": [
    "## 5.4 CrowdSourcing\n",
    "\n",
    "The Slack internet chat that we use is an example of a crowdsourcing concept that might be applied in CompSci. On this website, anyone can post their issues for others to respond to and offer assistance with.\n",
    "\n",
    "Del Norte crowdsourcing can be introduced to our project by including a place where visitors can submit comments on a particular page. We or other users will be able to respond as a result. Additionally, it will enable others to view the experiences that individuals are having.\n",
    "\n",
    "Users might post their symptoms, treatments that worked for them, and comments about the motive on N@TM. Additionally, we can observe the remarks that they are having with one another."
   ]
  }
 ],
 "metadata": {
  "kernelspec": {
   "display_name": "Python 3.9.12 ('base')",
   "language": "python",
   "name": "python3"
  },
  "language_info": {
   "name": "python",
   "version": "3.9.12"
  },
  "orig_nbformat": 4,
  "vscode": {
   "interpreter": {
    "hash": "b39cc0b7d7b7baa8a40a102196f269dabc963c0136c1c82ab9b0b53a6e35bbf2"
   }
  }
 },
 "nbformat": 4,
 "nbformat_minor": 2
}
