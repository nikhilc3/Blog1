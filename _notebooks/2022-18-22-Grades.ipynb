{
 "cells": [
  {
   "cell_type": "markdown",
   "metadata": {},
   "source": [
    "## Grades\n",
    "\n",
    "* Unit 3 section 1-2: 0.9/1\n",
    "* Unit 3 Section 3-4: 1/1\n",
    "* Unit 3 Sectoin 5-7: 0.6/1"
   ]
  },
  {
   "cell_type": "markdown",
   "metadata": {},
   "source": [
    "\n",
    "* Unit 3 section 8 and 10: My lesson\n",
    "* Unit 3 section 9 and 11: 0.9/1\n",
    "* Unit 3 section 12-13: 0.9/1\n",
    "\n",
    " "
   ]
  },
  {
   "cell_type": "markdown",
   "metadata": {},
   "source": [
    "* Unit 3 section 14-15: my lesson\n",
    "* Unit 3 section 16: 0.8/1\n",
    "* Unit 3 section 17-18: Yet to grade"
   ]
  }
 ],
 "metadata": {
  "kernelspec": {
   "display_name": "Python 3.9.12 ('base')",
   "language": "python",
   "name": "python3"
  },
  "language_info": {
   "name": "python",
   "version": "3.9.12"
  },
  "orig_nbformat": 4,
  "vscode": {
   "interpreter": {
    "hash": "b39cc0b7d7b7baa8a40a102196f269dabc963c0136c1c82ab9b0b53a6e35bbf2"
   }
  }
 },
 "nbformat": 4,
 "nbformat_minor": 2
}
