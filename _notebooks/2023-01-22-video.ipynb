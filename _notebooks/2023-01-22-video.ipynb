{
 "cells": [
  {
   "cell_type": "markdown",
   "metadata": {},
   "source": [
    "# \"FrontEnd Video\"\n",
    "\n",
    "- toc: true\n",
    "- comments: true\n",
    "- layout: post"
   ]
  },
  {
   "cell_type": "markdown",
   "metadata": {},
   "source": [
    "<!DOCTYPE html> \n",
    "<html> \n",
    "<body> \n",
    "<h1> This is the Frontend That I Have Been Working On</h1>\n",
    "<video width=\"400\" controls>\n",
    "  <source src=\"https://user-images.githubusercontent.com/111464993/213947346-1b1213cb-e6a5-45d9-968a-66a285ea1961.mp4\">\n",
    "\n",
    "  \n",
    "\n",
    "</video>\n",
    "\n",
    "<video width = \"400\" controls>\n",
    "  <source src=\"https://user-images.githubusercontent.com/111464993/213947781-0e964c19-3cea-4c26-9f0f-dc0039acc0f6.mp4\">\n",
    "</video>\n",
    "\n",
    "</body> \n",
    "</html>\n",
    "\n"
   ]
  }
 ],
 "metadata": {
  "kernelspec": {
   "display_name": "Python 3.9.12 ('base')",
   "language": "python",
   "name": "python3"
  },
  "language_info": {
   "name": "python",
   "version": "3.9.12"
  },
  "orig_nbformat": 4,
  "vscode": {
   "interpreter": {
    "hash": "b39cc0b7d7b7baa8a40a102196f269dabc963c0136c1c82ab9b0b53a6e35bbf2"
   }
  }
 },
 "nbformat": 4,
 "nbformat_minor": 2
}
