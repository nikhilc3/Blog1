{
 "cells": [
  {
   "cell_type": "markdown",
   "metadata": {},
   "source": [
    "# \"Grading College Board\"\n",
    "\n",
    "- toc: true\n",
    "- comments: true\n",
    "- layout: post"
   ]
  },
  {
   "cell_type": "markdown",
   "metadata": {},
   "source": [
    "# First\n",
    "| Reporting Category | Student Score | College Board Score | Comments |\n",
    "| - | - | - | - |\n",
    "|  Program Purpose and Function | 0 | 0 | They explain the main goal of the program and functionality but no input no program functionality no output and input and out are not explained in the video |\n",
    "|   Data Abstraction | 0 | 0 | Does not include two program code segments but shows how data is stored in the list.  It does not  show the data in this same list is used as part of fulfilling the program’s purpose.|\n",
    "|   Managing Complexity | 0 | 0 | There is literally nothing here.|\n",
    "|   Procedural Abstraction | 1 | 0 | demonstrates that the action is being called. Does not have two program code segments and does not describe what the identified procedure does and how it contributes to the overall function.|\n",
    "|   Algorithm Implementation | 0 | 0 | No sequencing and does not explain in detail steps on how the identified algorithm works. Although it does show selection and iteration. |\n",
    "|   Testing | 1 | 1 | He demonstrates that he was competent to meet all the demands made of him. |\n",
    "\n",
    "\n",
    "# Second\n",
    "| Reporting Category | Student Score | College Board Score | Comments |\n",
    "| - | - | - | - |\n",
    "|   Program Purpose and Function | 1 | 1 | There is input program functionality, output, it explains the main goal of the program, functionality of program is demonstrated in video, input and outputs are explained in video. |\n",
    "|   Data Abstraction | 1 | 1 | includes two program code segments, one shows how data has been stored in this list (or other collection type). other shows the data in this same list is used as part of fulfilling the program’s purpose. identifies name of variable representing list being used, describes what the data contained in this list is representing in the program.. |\n",
    "|   Managing Complexity | 1 | 1 |  includes a program code segment that shows a list being used to manage complexity in the program explains how the named selected list manages complexity in the program code by explaining why the program code could not be written, or how it would be written differently, without using this list.. |\n",
    "|   Procedural Abstraction | 1 | 1 |  has two program code segments: one showing a student-developed procedure with at least one parameter that has an effect on the functionality of the procedure. other showing where the student-developed procedure is being called. |\n",
    "|   Algorithm Implementation | 1 | 1 | includes a program code segment of a student-developed algorithm that includes also explains in detailed steps how the identified algorithm works in enough detail that someone else could recreate it.|\n",
    "|   Testing | 1 | 1 | Analogrithm demonstrating that it addresses all of the various aspects and displaying a respectable level of complexity. |\n",
    "\n",
    "# Third\n",
    "| Reporting Category | Student Score | College Board Score | Comments |\n",
    "| - | - | - | - |\n",
    "|   Program Purpose and Function | 1 | 0 | output, explains the main goal of the program , functionality of program is demonstrated in video, input and outputs are explained in video. Basically has everything|\n",
    "|   Data Abstraction | 1 | 1 | demonstrates two pieces of code and explains the significance of the list's meaning. |\n",
    "|   Managing Complexity | 1 | 1 | By managing multiple, difficult alternatives in lists, he effectively illustrates the issue's complexity. |\n",
    "|   Procedural Abstraction | 1 | 1 |  has two program code segments, one showing a student-developed procedure with at least one parameter that has an effect on the functionality of the procedure. Other showing where the student-developed procedure is being called. |\n",
    "|   Algorithm Implementation | 1 | 1 | The algorithm integrates seamlessly with the rest of the program.|\n",
    "|   Testing | 1 | 1 | describes two calls to the selected procedure identified in written response 3c. Each call must pass a different argument(s) that causes a different segment of code in the algorithm to execute.|\n",
    "\n",
    "# Fourth\n",
    "| Reporting Category | Student Score | College Board Score | Comments |\n",
    "| - | - | - | - |\n",
    "|  Program Purpose and Function | 1 | 1 |  explains the main goal of the program, functionality of program is demonstrated in video input and outputs are explained in video |\n",
    "|  Data Abstraction | 0 | 0 | one shows how data has been stored in this list (or other collection type). Other shows the data in this same list is used as part of fulfilling the program’s purpose.. |\n",
    "|  Managing Complexity | 0 | 0 |  explains how the named selected list manages complexity in the program code by explaining why the program code could not be written, or how it would be written differently, without using this list.|\n",
    "|  Procedural Abstraction | 1 | 1 | employs procedures and does so successfully. |\n",
    "|  Algorithm Implementation | 1 | 1 | explains in detailed steps how the identified algorithm works in enough detail that someone else could recreate it. Includes a program code segment of a student-developed algorithm that includes |\n",
    "|  Testing | 1 | 0 | describes two calls to the selected procedure identified in written response 3c. Each call must pass a different argument(s) that causes a different segment of code in the algorithm to execute.describes the condition(s) being tested by each call to the procedure. Has everything. |\n",
    "\n"
   ]
  },
  {
   "cell_type": "markdown",
   "metadata": {},
   "source": [
    "I believe that my grades are comparable to those that the College Board assigned to the model projects. I am aware of the requirements and what my project needs to succeed. My project needs to be comprehensive, with a wide range of features and layers of abstraction, in order to ensure that it satisfies all the requirements. Additionally, I learned how crucial it is to maintain organization when working on it. When a project doesn't match the requirements in one area, it may be because the creator wasn't very clear in explaining how it functions. I'll make sure to clearly explain how my proposal complies with the requirements."
   ]
  }
 ],
 "metadata": {
  "kernelspec": {
   "display_name": "Python 3.9.12 ('base')",
   "language": "python",
   "name": "python3"
  },
  "language_info": {
   "name": "python",
   "version": "3.9.12"
  },
  "orig_nbformat": 4,
  "vscode": {
   "interpreter": {
    "hash": "b39cc0b7d7b7baa8a40a102196f269dabc963c0136c1c82ab9b0b53a6e35bbf2"
   }
  }
 },
 "nbformat": 4,
 "nbformat_minor": 2
}
