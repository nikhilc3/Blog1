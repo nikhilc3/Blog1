{
 "cells": [
  {
   "cell_type": "markdown",
   "metadata": {},
   "source": [
    "# Bash python\n",
    "\n",
    "\n",
    "- toc: true\n",
    "- comments: true\n",
    "- permalink: /_notebooks/firstbash\n",
    "- categories: [_notebooks]\n",
    "- title: Bash Tutorial"
   ]
  },
  {
   "cell_type": "code",
   "execution_count": 19,
   "metadata": {
    "vscode": {
     "languageId": "shellscript"
    }
   },
   "outputs": [
    {
     "name": "stdout",
     "output_type": "stream",
     "text": [
      "Using conditional statement to create a project directory and project\n",
      "Directory /Users/nikhilchakravarthula/vscode exists.\n",
      "Directory /Users/nikhilchakravarthula/vscode/Blog1 exists.\n"
     ]
    }
   ],
   "source": [
    "echo \"Using conditional statement to create a project directory and project\"\n",
    "\n",
    "# Variable section\n",
    "export project_dir=$HOME/vscode  # change vscode to different name to test git clone\n",
    "export project=$project_dir/Blog1  \n",
    "export project_repo=\"https://github.com/nikhilc3/Blog1.git\"  # change to project of choice\n",
    "\n",
    "cd ~    # start in home directory\n",
    "\n",
    "# Conditional block to make a project directory\n",
    "if [ ! -d $project_dir ]\n",
    "then \n",
    "    echo \"Directory $project_dir does not exists... makinng directory $project_dir\"\n",
    "    mkdir -p $project_dir\n",
    "fi\n",
    "echo \"Directory $project_dir exists.\" \n",
    "\n",
    "# Conditional block to git clone a project from project_repo\n",
    "if [ ! -d $project ]\n",
    "then\n",
    "    echo \"Directory $project does not exists... cloning $project_repo\"\n",
    "    cd $project_dir\n",
    "    git clone $project_repo\n",
    "    cd ~\n",
    "fi\n",
    "echo \"Directory $project exists.\" "
   ]
  },
  {
   "cell_type": "markdown",
   "metadata": {},
   "source": [
    "### Look inside Fastpages/Github page project\n",
    "> All computers contain files and directories.  The clone brought more files from cloud to your machine.  Using the bash shell you will see some commands that show and interact with files and directories.\n",
    "\n",
    "- \"ls\" lists computer files in Unix and Unix-like operating systems\n",
    "- \"cd\" offers way to navigate and change working directory\n",
    "- \"pwd\" print working directory\n",
    "- \"echo\" used to display line of text/string that are passed as an argument"
   ]
  },
  {
   "cell_type": "code",
   "execution_count": 20,
   "metadata": {
    "vscode": {
     "languageId": "shellscript"
    }
   },
   "outputs": [
    {
     "name": "stdout",
     "output_type": "stream",
     "text": [
      "Navigate to project, then navigate to area wwhere files were cloned\n",
      "/Users/nikhilchakravarthula/vscode/Blog1\n",
      "\n",
      "list top level or root of files with project pulled from github\n",
      "2022-05-15-07-21-16.png\t_config.yml\t\t_sass\n",
      "2022-05-15-07-24-25.png\t_fastpages_docs\t\t_word\n",
      "2022-05-15-07-25-15.png\t_includes\t\tassets\n",
      "Gemfile\t\t\t_layouts\t\tdocker-compose.yml\n",
      "LICENSE\t\t\t_notebooks\t\timages\n",
      "Makefile\t\t_pages\t\t\tindex.html\n",
      "README.md\t\t_plugins\n",
      "_action_files\t\t_posts\n",
      "\n",
      "list again with hidden files pulled from github\n",
      ".\t\t\t2022-05-15-07-25-15.png\t_notebooks\n",
      "..\t\t\tGemfile\t\t\t_pages\n",
      ".DS_Store\t\tLICENSE\t\t\t_plugins\n",
      ".devcontainer.json\tMakefile\t\t_posts\n",
      ".git\t\t\tREADME.md\t\t_sass\n",
      ".gitattributes\t\t_action_files\t\t_word\n",
      ".github\t\t\t_config.yml\t\tassets\n",
      ".gitignore\t\t_fastpages_docs\t\tdocker-compose.yml\n",
      "2022-05-15-07-21-16.png\t_includes\t\timages\n",
      "2022-05-15-07-24-25.png\t_layouts\t\tindex.html\n",
      "\n",
      "list all files in long format\n",
      "total 872\n",
      "drwxr-xr-x  30 nikhilchakravarthula  staff     960 Aug 30 14:00 .\n",
      "drwxr-xr-x   6 nikhilchakravarthula  staff     192 Aug 30 14:00 ..\n",
      "-rw-r--r--   1 nikhilchakravarthula  staff   10244 Aug 30 14:00 .DS_Store\n",
      "-rw-r--r--   1 nikhilchakravarthula  staff     420 Aug 30 14:00 .devcontainer.json\n",
      "drwxr-xr-x  12 nikhilchakravarthula  staff     384 Aug 30 14:00 .git\n",
      "-rw-r--r--   1 nikhilchakravarthula  staff      84 Aug 30 14:00 .gitattributes\n",
      "drwxr-xr-x   4 nikhilchakravarthula  staff     128 Aug 30 14:00 .github\n",
      "-rw-r--r--   1 nikhilchakravarthula  staff     161 Aug 30 14:00 .gitignore\n",
      "-rw-r--r--   1 nikhilchakravarthula  staff  207007 Aug 30 14:00 2022-05-15-07-21-16.png\n",
      "-rw-r--r--   1 nikhilchakravarthula  staff   90979 Aug 30 14:00 2022-05-15-07-24-25.png\n",
      "-rw-r--r--   1 nikhilchakravarthula  staff   81691 Aug 30 14:00 2022-05-15-07-25-15.png\n",
      "-rwxr-xr-x   1 nikhilchakravarthula  staff    1304 Aug 30 14:00 Gemfile\n",
      "-rw-r--r--   1 nikhilchakravarthula  staff   11351 Aug 30 14:00 LICENSE\n",
      "-rwxr-xr-x   1 nikhilchakravarthula  staff    1422 Aug 30 14:00 Makefile\n",
      "-rwxr-xr-x   1 nikhilchakravarthula  staff    3593 Aug 30 14:00 README.md\n",
      "drwxr-xr-x  18 nikhilchakravarthula  staff     576 Aug 30 14:00 _action_files\n",
      "-rw-r--r--   1 nikhilchakravarthula  staff    3667 Aug 30 14:00 _config.yml\n",
      "drwxr-xr-x  24 nikhilchakravarthula  staff     768 Aug 30 14:00 _fastpages_docs\n",
      "drwxr-xr-x  27 nikhilchakravarthula  staff     864 Aug 30 14:00 _includes\n",
      "drwxr-xr-x   6 nikhilchakravarthula  staff     192 Aug 30 14:00 _layouts\n",
      "drwxr-xr-x  10 nikhilchakravarthula  staff     320 Aug 30 14:00 _notebooks\n",
      "drwxr-xr-x   6 nikhilchakravarthula  staff     192 Aug 30 14:00 _pages\n",
      "drwxr-xr-x   4 nikhilchakravarthula  staff     128 Aug 30 14:00 _plugins\n",
      "drwxr-xr-x   7 nikhilchakravarthula  staff     224 Aug 30 14:00 _posts\n",
      "drwxr-xr-x   3 nikhilchakravarthula  staff      96 Aug 30 14:00 _sass\n",
      "drwxr-xr-x   3 nikhilchakravarthula  staff      96 Aug 30 14:00 _word\n",
      "drwxr-xr-x   5 nikhilchakravarthula  staff     160 Aug 30 14:00 assets\n",
      "-rwxr-xr-x   1 nikhilchakravarthula  staff    1136 Aug 30 14:00 docker-compose.yml\n",
      "drwxr-xr-x   9 nikhilchakravarthula  staff     288 Aug 30 14:00 images\n",
      "-rw-r--r--   1 nikhilchakravarthula  staff     387 Aug 30 14:00 index.html\n"
     ]
    }
   ],
   "source": [
    "# You must run cells above to define variable and project\n",
    "\n",
    "echo \"Navigate to project, then navigate to area wwhere files were cloned\"\n",
    "cd $project\n",
    "pwd\n",
    "\n",
    "echo \"\"\n",
    "echo \"list top level or root of files with project pulled from github\"\n",
    "ls\n",
    "\n",
    "echo \"\"\n",
    "echo \"list again with hidden files pulled from github\"\n",
    "ls -a   # hidden files flag, many shell commands have flags\n",
    "\n",
    "echo \"\"\n",
    "echo \"list all files in long format\"\n",
    "ls -al   # all files and long listing"
   ]
  },
  {
   "cell_type": "code",
   "execution_count": 21,
   "metadata": {
    "vscode": {
     "languageId": "shellscript"
    }
   },
   "outputs": [
    {
     "name": "stdout",
     "output_type": "stream",
     "text": [
      "Look for posts\n",
      "/Users/nikhilchakravarthula/vscode/Blog1/_posts\n",
      "total 24\n",
      "-rwxr-xr-x  1 nikhilchakravarthula  staff  1966 Aug 30 14:00 2020-01-14-test-markdown-post.md\n",
      "-rw-r--r--  1 nikhilchakravarthula  staff    21 Aug 30 14:00 2022-08-24-CodE.md\n",
      "-rw-r--r--  1 nikhilchakravarthula  staff   720 Aug 30 14:00 README.md\n"
     ]
    }
   ],
   "source": [
    "# You must run cells above to define variable and project\n",
    "\n",
    "echo \"Look for posts\"\n",
    "export posts=$project/_posts  # _posts inside project\n",
    "cd $posts  # this should exist per fastpages\n",
    "pwd  # present working directory\n",
    "ls -l  # list posts"
   ]
  },
  {
   "cell_type": "code",
   "execution_count": 22,
   "metadata": {
    "vscode": {
     "languageId": "shellscript"
    }
   },
   "outputs": [
    {
     "name": "stdout",
     "output_type": "stream",
     "text": [
      "Look for notebooks\n",
      "/Users/nikhilchakravarthula/vscode/Blog1/_notebooks\n",
      "total 6216\n",
      "-rw-r--r--  1 nikhilchakravarthula  staff  3162384 Aug 30 14:00 2020-02-20-test.ipynb\n",
      "-rw-r--r--  1 nikhilchakravarthula  staff     1163 Aug 30 14:00 2022-08-25-jupter.ipynb\n",
      "-rw-r--r--  1 nikhilchakravarthula  staff     2366 Aug 30 14:00 2022-08-29-quiz.ipynb\n",
      "-rw-r--r--  1 nikhilchakravarthula  staff      771 Aug 30 14:00 README.md\n",
      "-rw-r--r--  1 nikhilchakravarthula  staff      838 Aug 30 14:00 bash.ipynb\n",
      "drwxr-xr-x  4 nikhilchakravarthula  staff      128 Aug 30 14:00 ghtop_images\n",
      "drwxr-xr-x  3 nikhilchakravarthula  staff       96 Aug 30 14:00 my_icons\n"
     ]
    }
   ],
   "source": [
    "# You must run cells above to define variable and project\n",
    "\n",
    "echo \"Look for notebooks\"\n",
    "export notebooks=$project/_notebooks  # _notebooks is inside project\n",
    "cd $notebooks   # this should exist per fastpages\n",
    "pwd  # present working directory\n",
    "ls -l  # list notebooks"
   ]
  },
  {
   "cell_type": "code",
   "execution_count": 23,
   "metadata": {
    "vscode": {
     "languageId": "shellscript"
    }
   },
   "outputs": [
    {
     "name": "stdout",
     "output_type": "stream",
     "text": [
      "Look for images in notebooks, print working directory, list files\n",
      "bash: cd: /Users/nikhilchakravarthula/vscode/Blog1/_notebooks/images: No such file or directory\n",
      "/Users/nikhilchakravarthula/vscode/Blog1/_notebooks\n",
      "total 6216\n",
      "-rw-r--r--  1 nikhilchakravarthula  staff  3162384 Aug 30 14:00 2020-02-20-test.ipynb\n",
      "-rw-r--r--  1 nikhilchakravarthula  staff     1163 Aug 30 14:00 2022-08-25-jupter.ipynb\n",
      "-rw-r--r--  1 nikhilchakravarthula  staff     2366 Aug 30 14:00 2022-08-29-quiz.ipynb\n",
      "-rw-r--r--  1 nikhilchakravarthula  staff      771 Aug 30 14:00 README.md\n",
      "-rw-r--r--  1 nikhilchakravarthula  staff      838 Aug 30 14:00 bash.ipynb\n",
      "drwxr-xr-x  4 nikhilchakravarthula  staff      128 Aug 30 14:00 ghtop_images\n",
      "drwxr-xr-x  3 nikhilchakravarthula  staff       96 Aug 30 14:00 my_icons\n"
     ]
    }
   ],
   "source": [
    "# You must run cells above to define notebooks location\n",
    "\n",
    "echo \"Look for images in notebooks, print working directory, list files\"\n",
    "cd $notebooks/images  # this should exist per fastpages\n",
    "pwd\n",
    "ls -l"
   ]
  },
  {
   "cell_type": "markdown",
   "metadata": {},
   "source": [
    "### Look inside a Markdown File\n",
    "> \"cat\" reads data from the file and gives its content as output"
   ]
  },
  {
   "cell_type": "code",
   "execution_count": 24,
   "metadata": {
    "vscode": {
     "languageId": "shellscript"
    }
   },
   "outputs": [
    {
     "name": "stdout",
     "output_type": "stream",
     "text": [
      "Navigate to project, then navigate to area wwhere files were cloned\n",
      "show the contents of README.md\n",
      "\n",
      "[//]: # (This template replaces README.md when someone creates a new repo with the fastpages template.)\n",
      "\n",
      "![](https://github.com/nikhilc3/Blog1/workflows/CI/badge.svg) \n",
      "![](https://github.com/nikhilc3/Blog1/workflows/GH-Pages%20Status/badge.svg) \n",
      "[![](https://img.shields.io/static/v1?label=fastai&message=fastpages&color=57aeac&labelColor=black&style=flat&logo=data:image/png;base64,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)](https://github.com/fastai/fastpages)\n",
      "\n",
      "https://nikhilc3.github.io/Blog1/\n",
      "\n",
      "# My Blog\n",
      "\n",
      "\n",
      "_powered by [fastpages](https://github.com/fastai/fastpages)_\n",
      "\n",
      "\n",
      "## What To Do Next?\n",
      "\n",
      "Great!  You have setup your repo.  Now its time to start writing content.  Some helpful links:\n",
      "\n",
      "- [Writing Blogs With Jupyter](https://github.com/fastai/fastpages#writing-blog-posts-with-jupyter)\n",
      "\n",
      "- [Writing Blogs With Markdown](https://github.com/fastai/fastpages#writing-blog-posts-with-markdown)\n",
      "\n",
      "- [Writing Blog Posts With Word](https://github.com/fastai/fastpages#writing-blog-posts-with-microsoft-word)\n",
      "\n",
      "- [(Optional) Preview Your Blog Locally](_fastpages_docs/DEVELOPMENT.md)\n",
      "\n",
      "Note: you may want to remove example blog posts from the `_posts`,  `_notebooks` or `_word` folders (but leave them empty, don't delete these folders) if you don't want these blog posts to appear on your site.\n",
      "\n",
      "Please use the [nbdev & blogging channel](https://forums.fast.ai/c/fastai-users/nbdev/48) in the fastai forums for any questions or feature requests.\n",
      "\n",
      "end of README.md\n"
     ]
    }
   ],
   "source": [
    "# You must run cells above to define project\n",
    "echo \"Navigate to project, then navigate to area wwhere files were cloned\"\n",
    "\n",
    "cd $project\n",
    "echo \"show the contents of README.md\"\n",
    "echo \"\"\n",
    "\n",
    "cat README.md  # show contents of file, in this case markdown\n",
    "echo \"\"\n",
    "echo \"end of README.md\"\n"
   ]
  },
  {
   "cell_type": "markdown",
   "metadata": {},
   "source": [
    "### Env, Git and GitHub\n",
    "> Env(ironment) is used to capture things like path to Code or Home directory.  Git and GitHub is NOT Only used to exchange code between individuals, it is often used to exchange code through servers, in our case deployment for Website.   All tools we use have a behind the scenes hav relationship with the system they run on (MacOS, Windows, Linus) or a relationship with servers which they are connected to (ie GitHub).  There is an \"env\" command in bash.  There are environment files and setting files (.git/config) for Git.  They both use a key/value concept.\n",
    "\n",
    "- \"env\" show setting for your shell\n",
    "- \"git clone\" sets up a director of files\n",
    "- \"cd $project\" allows user to move inside that directory of files\n",
    "- \".git\" is a hidden directory that is used by git to establish relationship between machine and the git server on GitHub.  "
   ]
  },
  {
   "cell_type": "code",
   "execution_count": 25,
   "metadata": {
    "vscode": {
     "languageId": "shellscript"
    }
   },
   "outputs": [
    {
     "name": "stdout",
     "output_type": "stream",
     "text": [
      "Show the shell environment variables, key on left of equal value on right\n",
      "\n",
      "MANPATH=/opt/local/share/man:/opt/homebrew/share/man::\n",
      "SHELL=/bin/zsh\n",
      "HOMEBREW_REPOSITORY=/opt/homebrew\n",
      "TMPDIR=/var/folders/2n/s4c2yyjx7wdb5w0336x9ttv00000gn/T/\n",
      "CONDA_SHLVL=1\n",
      "PYTHONUNBUFFERED=1\n",
      "CONDA_PROMPT_MODIFIER=(base) \n",
      "OLDPWD=/Users/nikhilchakravarthula/vscode/Blog1/_notebooks\n",
      "ORIGINAL_XDG_CURRENT_DESKTOP=undefined\n",
      "MallocNanoZone=0\n",
      "PYDEVD_USE_FRAME_EVAL=NO\n",
      "PYTHONIOENCODING=utf-8\n",
      "USER=nikhilchakravarthula\n",
      "COMMAND_MODE=unix2003\n",
      "CONDA_EXE=/Users/nikhilchakravarthula/opt/anaconda3/bin/conda\n",
      "SSH_AUTH_SOCK=/private/tmp/com.apple.launchd.hO1SIcL92a/Listeners\n",
      "__CF_USER_TEXT_ENCODING=0x1F5:0x0:0x0\n",
      "JPY_PARENT_PID=6575\n",
      "PAGER=cat\n",
      "VSCODE_AMD_ENTRYPOINT=vs/workbench/api/node/extensionHostProcess\n",
      "ELECTRON_RUN_AS_NODE=1\n",
      "JUPYTER_PATH=/Users/nikhilchakravarthula/.vscode/extensions/ms-toolsai.jupyter-2022.7.1102252217/temp/jupyter\n",
      "_CE_CONDA=\n",
      "PATH=/Users/nikhilchakravarthula/opt/anaconda3/bin:/Users/nikhilchakravarthula/opt/anaconda3/condabin:/opt/local/bin:/opt/local/sbin:/opt/homebrew/bin:/opt/homebrew/sbin:/Library/Frameworks/Python.framework/Versions/2.7/bin:/Library/Frameworks/Python.framework/Versions/3.10/bin:/usr/local/bin:/usr/bin:/bin:/usr/sbin:/sbin:/Library/Apple/usr/bin\n",
      "CONDA_PREFIX=/Users/nikhilchakravarthula/opt/anaconda3\n",
      "__CFBundleIdentifier=com.microsoft.VSCode\n",
      "PWD=/Users/nikhilchakravarthula/vscode/Blog1\n",
      "notebooks=/Users/nikhilchakravarthula/vscode/Blog1/_notebooks\n",
      "VSCODE_HANDLES_UNCAUGHT_ERRORS=true\n",
      "project_repo=https://github.com/nikhilc3/Blog1.git\n",
      "project=/Users/nikhilchakravarthula/vscode/Blog1\n",
      "project_dir=/Users/nikhilchakravarthula/vscode\n",
      "XPC_FLAGS=0x0\n",
      "PS1=[PEXP\\[\\]ECT_PROMPT>\n",
      "_CE_M=\n",
      "XPC_SERVICE_NAME=0\n",
      "SHLVL=1\n",
      "HOME=/Users/nikhilchakravarthula\n",
      "APPLICATION_INSIGHTS_NO_DIAGNOSTIC_CHANNEL=1\n",
      "VSCODE_NLS_CONFIG={\"locale\":\"en-us\",\"availableLanguages\":{},\"_languagePackSupport\":true}\n",
      "HOMEBREW_PREFIX=/opt/homebrew\n",
      "PYTHONPATH=/Users/nikhilchakravarthula/.vscode/extensions/ms-toolsai.jupyter-2022.7.1102252217/pythonFiles:/Users/nikhilchakravarthula/.vscode/extensions/ms-toolsai.jupyter-2022.7.1102252217/pythonFiles/lib/python\n",
      "CONDA_PYTHON_EXE=/Users/nikhilchakravarthula/opt/anaconda3/bin/python\n",
      "LOGNAME=nikhilchakravarthula\n",
      "LC_CTYPE=UTF-8\n",
      "VSCODE_IPC_HOOK=/Users/nikhilchakravarthula/Library/Application Support/Code/1.70.2-main.sock\n",
      "VSCODE_CODE_CACHE_PATH=/Users/nikhilchakravarthula/Library/Application Support/Code/CachedData/e4503b30fc78200f846c62cf8091b76ff5547662\n",
      "CONDA_DEFAULT_ENV=base\n",
      "VSCODE_PID=1609\n",
      "posts=/Users/nikhilchakravarthula/vscode/Blog1/_posts\n",
      "INFOPATH=/opt/homebrew/share/info:\n",
      "HOMEBREW_CELLAR=/opt/homebrew/Cellar\n",
      "VSCODE_CWD=/\n",
      "_=/usr/bin/env\n"
     ]
    }
   ],
   "source": [
    "# This command has no dependencies\n",
    "\n",
    "echo \"Show the shell environment variables, key on left of equal value on right\"\n",
    "echo \"\"\n",
    "\n",
    "env"
   ]
  },
  {
   "cell_type": "code",
   "execution_count": 26,
   "metadata": {
    "vscode": {
     "languageId": "shellscript"
    }
   },
   "outputs": [
    {
     "name": "stdout",
     "output_type": "stream",
     "text": [
      "\n",
      "show the secrets of .git\n",
      "total 64\n",
      "-rw-r--r--   1 nikhilchakravarthula  staff     23 Aug 30 14:00 HEAD\n",
      "-rw-r--r--   1 nikhilchakravarthula  staff    307 Aug 30 14:00 config\n",
      "-rw-r--r--   1 nikhilchakravarthula  staff     73 Aug 30 14:00 description\n",
      "drwxr-xr-x  15 nikhilchakravarthula  staff    480 Aug 30 14:00 hooks\n",
      "-rw-r--r--   1 nikhilchakravarthula  staff  12594 Aug 30 14:00 index\n",
      "drwxr-xr-x   3 nikhilchakravarthula  staff     96 Aug 30 14:00 info\n",
      "drwxr-xr-x   4 nikhilchakravarthula  staff    128 Aug 30 14:00 logs\n",
      "drwxr-xr-x   4 nikhilchakravarthula  staff    128 Aug 30 14:00 objects\n",
      "-rw-r--r--   1 nikhilchakravarthula  staff    411 Aug 30 14:00 packed-refs\n",
      "drwxr-xr-x   5 nikhilchakravarthula  staff    160 Aug 30 14:00 refs\n",
      "\n",
      "look at config file\n",
      "[core]\n",
      "\trepositoryformatversion = 0\n",
      "\tfilemode = true\n",
      "\tbare = false\n",
      "\tlogallrefupdates = true\n",
      "\tignorecase = true\n",
      "\tprecomposeunicode = true\n",
      "[remote \"origin\"]\n",
      "\turl = https://github.com/nikhilc3/Blog1.git\n",
      "\tfetch = +refs/heads/*:refs/remotes/origin/*\n",
      "[branch \"master\"]\n",
      "\tremote = origin\n",
      "\tmerge = refs/heads/master\n"
     ]
    }
   ],
   "source": [
    "# This command has dependencies on project\n",
    "\n",
    "cd $project\n",
    "\n",
    "echo \"\"\n",
    "echo \"show the secrets of .git\"\n",
    "cd .git\n",
    "ls -l\n",
    "\n",
    "echo \"\"\n",
    "echo \"look at config file\"\n",
    "cat config"
   ]
  }
 ],
 "metadata": {
  "kernelspec": {
   "display_name": "Bash",
   "language": "bash",
   "name": "bash"
  },
  "language_info": {
   "codemirror_mode": "shell",
   "file_extension": ".sh",
   "mimetype": "text/x-sh",
   "name": "bash"
  },
  "orig_nbformat": 4,
  "vscode": {
   "interpreter": {
    "hash": "8b82d5009c68ba5675978267e2b13a671f2a7143d61273c5a3813c97e0b2493d"
   }
  }
 },
 "nbformat": 4,
 "nbformat_minor": 2
}
