{
 "cells": [
  {
   "cell_type": "markdown",
   "metadata": {},
   "source": [
    "# \"College board corrections\"\n",
    "\n",
    "- toc: true\n",
    "- comments: true\n",
    "- layout: post"
   ]
  },
  {
   "cell_type": "markdown",
   "metadata": {},
   "source": [
    "# Corrections For college board\n",
    "| Question Number | What I got Wrong/Improvement |\n",
    "| - | - |\n",
    "| 11 | I Answered B when the correct answer was A. I was confused on how to do this one, next time I should read over it better.|\n",
    "| 17 | Correct answer was A and D but I selected A and C So i got the question wrong, It is D because of the statement shown there.   |\n",
    "| 19 | I did not know how to do it at all.|\n",
    "| 26 | For this one I did not read the question correctly, the correct answer is A but I selected B This option is incorrect. Since the parameter p is a positive integer, the robot can only end up in one of four possible squares in the grid: in the starting position, in the position two squares above facing up, in the position two squares above and two squares to the right facing right, or in the position two squares to the right facing left. The position shown is not one of the possible ending positions. |\n",
    "| 32 | I selected D but the answer is C. College board really explained detaily and I understand what I did wrong. |\n",
    "| 36 | For this question I did a silly mistake and was not reading the question correctly, The correct answer is A because the variable is initally set to 0. |\n",
    "| 38 | Correct answer is C and I selected D. It is C beacuseThe REPEAT UNTIL statement subtracts 2 from the parameter number until the condition number ≤ 0 is true. After this REPEAT loop ends, the value of number is either 0 (if the original number was even) or –1 (if the original number was odd). |\n",
    "| 40 | I answered A but the correct answer to the question is B. |\n",
    "| 41 | I thought there was 1 answer I did not read it correctly, but the correct answer is both  A and D I should have read the question more carefully next time. |\n",
    "| 43 | I answered A because I thought the simulations can only be built on real world object but I was wrong, the correct answer is C beacuse it make some simplifying assumptions.|\n",
    "| 44 | Answer is D and not B beacuse for D  Although actual customer data is not available in the bank’s simulation, it can give information that relates the average customer wait time for each option. |\n",
    "| 48 |  Answer is A and not D because In the current program, line 7 is performed for each value in the list numbers. If lines 7 and 8 were interchanged, the average would be calculated only once. |\n",
    "\n"
   ]
  }
 ],
 "metadata": {
  "kernelspec": {
   "display_name": "Python 3.9.12 ('base')",
   "language": "python",
   "name": "python3"
  },
  "language_info": {
   "name": "python",
   "version": "3.9.12"
  },
  "orig_nbformat": 4,
  "vscode": {
   "interpreter": {
    "hash": "b39cc0b7d7b7baa8a40a102196f269dabc963c0136c1c82ab9b0b53a6e35bbf2"
   }
  }
 },
 "nbformat": 4,
 "nbformat_minor": 2
}
