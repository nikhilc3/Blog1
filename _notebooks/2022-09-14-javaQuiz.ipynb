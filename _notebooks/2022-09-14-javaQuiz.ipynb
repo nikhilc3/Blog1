{
 "cells": [
  {
   "cell_type": "markdown",
   "metadata": {},
   "source": [
    "# JavaQuiz Blog Hack\n",
    "> My java quiz\n",
    "- toc: true\n",
    "- comments: true\n",
    "- permalink: /Notebooks/javaQuiz\n",
    "- categories: [Notebooks]\n"
   ]
  },
  {
   "cell_type": "code",
   "execution_count": null,
   "metadata": {
    "vscode": {
     "languageId": "html"
    }
   },
   "outputs": [],
   "source": [
    "<h1> Design of the quiz</h1>\n",
    "<p> I am planning the design to be about basketball and the three questions are going to be about the MVP in basketball\n",
    "    and how stephen curry looks like and the best player on the Lakers at this momment who did the best overall. I will \n",
    "    make a thing where if the person gets it wrong i will let the person choose if they want to try again or \n",
    "    move onto next question and I will do this with a function try again and next question. Then I will create a variable\n",
    "    questions and put all my if statements such as if player clicks correct move to correct screen or if person clicks\n",
    "    incorrect go to the incorrect slide. I will get all my images from google. \n",
    "</p>\n",
    "<h1> Review Running example</h1>\n",
    "<p> Something I can do to imporve this program is to tell the person who is taking the quiz if it is incorrect or not instead\n",
    "    of the person clicking all the answers to find the right one. Another thing is to create a final page saying\n",
    "    that you finished the quiz. \n",
    "<h1>  quiz Purpose and function</h1>\n",
    "<p> The purpose of this quiz is about basketball and asks about the MVP of the year 2022 and few other questions. \n",
    "    If you get the question wrong you have the option to retry again or move onto the next question.\n",
    "</p>\n",
    "\n",
    "<h1>Managing Complexity</h1>\n",
    "<p>Some things I did to manage complexity is to plan out everything before I did it and if any error comes up I look through\n",
    "    the whole code and try to run it and see how it would run and then I would fix it from there.\n",
    "    Another thing is I would ask a partner for help If I am stuck on a problem with my code. I would also check all my functions\n",
    "    and see if they are correct and my variables match my screen and button or text names. \n",
    "\n",
    "\n",
    "<h1> Problems that occured</h1>\n",
    "<p>Some problems that occured during the process was my not getting the right variable names and like capitlization\n",
    "    of the buttons or the screen name so I had to go through everything and look closely at everything and match every\n",
    "    screen button and text \"Id\" into the code. Another problem that occured was that it would not let me see the blocks\n",
    "    so i restarted my computer and the code and it worked. Another problem was the thing was stuck in a loop and\n",
    "    the question would not move to the next screen so I removed the loop and fixed it from there. \n",
    "</p>"
   ]
  }
 ],
 "metadata": {
  "kernelspec": {
   "display_name": "Python 3.10.5 64-bit",
   "language": "python",
   "name": "python3"
  },
  "language_info": {
   "name": "python",
   "version": "3.10.5"
  },
  "orig_nbformat": 4,
  "vscode": {
   "interpreter": {
    "hash": "aee8b7b246df8f9039afb4144a1f6fd8d2ca17a180786b69acc140d282b71a49"
   }
  }
 },
 "nbformat": 4,
 "nbformat_minor": 2
}
