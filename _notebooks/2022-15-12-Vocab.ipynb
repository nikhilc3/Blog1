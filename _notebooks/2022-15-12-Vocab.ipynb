{
 "cells": [
  {
   "cell_type": "markdown",
   "metadata": {},
   "source": [
    "# \"Vocab\"\n",
    "\n",
    "- toc: true\n",
    "- comments: true\n",
    "- layout: post\n",
    "- author: Nikhil Chakravarthula"
   ]
  },
  {
   "cell_type": "markdown",
   "metadata": {},
   "source": [
    "Variables: A variable is a named container that stores a value that can be changed or updated.\n",
    "\n"
   ]
  },
  {
   "cell_type": "code",
   "execution_count": 1,
   "metadata": {},
   "outputs": [
    {
     "name": "stdout",
     "output_type": "stream",
     "text": [
      "6\n"
     ]
    }
   ],
   "source": [
    "x=6\n",
    "print(x)"
   ]
  },
  {
   "cell_type": "markdown",
   "metadata": {},
   "source": [
    "Data Sorts: Various types of information that can be kept in variables, including numbers, texts, booleans, and objects."
   ]
  },
  {
   "cell_type": "code",
   "execution_count": 2,
   "metadata": {},
   "outputs": [
    {
     "name": "stdout",
     "output_type": "stream",
     "text": [
      "hello world\n"
     ]
    }
   ],
   "source": [
    "x = \"hello world\"\n",
    "print(x)"
   ]
  },
  {
   "cell_type": "markdown",
   "metadata": {},
   "source": [
    "The term \"assignment operators\" refers to operators that are used to give a variable a value."
   ]
  },
  {
   "cell_type": "code",
   "execution_count": 3,
   "metadata": {},
   "outputs": [
    {
     "name": "stdout",
     "output_type": "stream",
     "text": [
      "4\n"
     ]
    }
   ],
   "source": [
    "four = 4\n",
    "print(four)"
   ]
  },
  {
   "cell_type": "markdown",
   "metadata": {},
   "source": [
    "Lists, 2D Lists, Dictionaries, and Class: Methods for structuring data in a more complicated manner. Managing Complexity using Variables."
   ]
  },
  {
   "cell_type": "code",
   "execution_count": 4,
   "metadata": {},
   "outputs": [
    {
     "name": "stdout",
     "output_type": "stream",
     "text": [
      "[1, 2, 3, 4, 5]\n"
     ]
    }
   ],
   "source": [
    "MyList = [1,2,3,4,5]\n",
    "print(MyList)"
   ]
  },
  {
   "cell_type": "markdown",
   "metadata": {},
   "source": [
    "Algorithms: A list of guidelines for resolving issues.\n",
    "\n",
    "An example of a sorting algorithm would be to locate the greatest integer in a list.\n",
    "\n",
    "Three different forms of control flow structures exist in programming: sequence, selection, and iteration.\n",
    "\n",
    "Consider making a loop that prints out each number in a sequence from 1 to 10.\n",
    "\n",
    "Truth, Boolean Expressions and Selection, Comparison Operators, Boolean Expressions, and Iteration Tables: Values are evaluated using expressions, and values are compared using comparison operators. Example: True if (5 > 3)\n",
    "\n",
    "Upper, Lower, Concatenation, Length, Characters, Strings, and Traversing Concatenation is the act of joining strings together. Upper and lower are functions for changing the case of characters. Traversing strings is the act of iterating over each character in a string. Characters are individual letters, digits, and symbols. Strings are combinations of characters. Example: \"Hello World\" is a string. 11 length \"HELLO WORLD,\" in uppercase.\n",
    "\n",
    "Nested Selection Statements and Python's If, Elif, and Else conditionals are control statements that let you run code based on certain circumstances. Example: if (x > 0) print (\"x is greater than 0\") if x equals 0, print (\"x is equal to 0\") if not: print (\"x is less than 0\")\n",
    "\n",
    "Python's For and While loops with Range and List allow you to iterate through a list of items or a range of numbers. Example: For x in the (0, 10) range: print(x)\n",
    "\n",
    "Combining conditionals and loops to achieve Break, Continue Control statements that let you skip an iteration or exit a loop. For instance, if x > 10: Break x += 1 if x == 5\n",
    "\n",
    "Procedure Abstraction: A method for making complicated jobs simpler by dividing them into smaller, more manageable tasks.\n",
    "\n",
    "Python definition procedures are a way to specify a set of instructions that will be carried out when a specific procedure is invoked.\n",
    "\n",
    "Arguments provided to a procedure when it is invoked are known as parameters.\n",
    "\n",
    "Return Values: A value that is given back following the completion of an operation.\n",
    "\n",
    "Selection: Based on particular conditions, the execution of specific code is permitted by the selection type of control flow.\n",
    "\n",
    "Lists are data structures that enable the storage of numerous values in a single variable.\n",
    "\n",
    "Iteration: This sort of control flow enables the repeated execution of a piece of code.\n",
    "\n",
    "A logical operator is a sort of operator used in computer science that conducts a logical operation on two or more values or variables, such as a comparison or boolean operation. The logical operators AND, OR, NOT, XOR, and NAND are a few examples.\n",
    "\n"
   ]
  }
 ],
 "metadata": {
  "kernelspec": {
   "display_name": "Python 3.9.12 ('base')",
   "language": "python",
   "name": "python3"
  },
  "language_info": {
   "codemirror_mode": {
    "name": "ipython",
    "version": 3
   },
   "file_extension": ".py",
   "mimetype": "text/x-python",
   "name": "python",
   "nbconvert_exporter": "python",
   "pygments_lexer": "ipython3",
   "version": "3.9.12"
  },
  "orig_nbformat": 4,
  "vscode": {
   "interpreter": {
    "hash": "b39cc0b7d7b7baa8a40a102196f269dabc963c0136c1c82ab9b0b53a6e35bbf2"
   }
  }
 },
 "nbformat": 4,
 "nbformat_minor": 2
}
