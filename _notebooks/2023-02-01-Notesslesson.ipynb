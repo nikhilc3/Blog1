{
 "cells": [
  {
   "cell_type": "markdown",
   "metadata": {},
   "source": [
    "\n",
    "Earlier we talked about beneficial and harmful effects of computing. Such conversation often lead to conversations on computer bias, particularly when bias creates a harmful effect.\n",
    "\n",
    "As programmers, you now have the possibility of creating algorithms. It has been said, “Humans are error-prone and biased”. So, does that mean algorithms and the computers they run on are better?\n",
    "\n",
    "\n",
    "\n",
    "Intentional or Purposeful bias (Crossover Group Up, 10 minutes)\n",
    "Google “What age groups use Facebook” vs “… TikTok”? What does the data say? Is there purposeful exclusion in these platforms? Is it harmful? Should it be corrected? Is it good business?\n",
    "Why do virtual assistants have female voices? Amazon, Alexa Google, Apple Siri. Was this purposeful? Is it harmful? Should it be corrected? Is it good business?\n",
    "Talk about an algorithm that influences your decisions, think about these companies (ie FAANG - Facebook, Amazon, Apple,Netflix, Google)\n",
    "As Pairs (5 minutes)\n",
    "Watch the video… HP computers are racist\n",
    "Come up with some thoughts on the video and be ready to discuss them as I call on you. Here are some ideas…\n",
    "Does the owner of the computer think this was intentional?\n",
    "If yes or no, justify you conclusion.\n",
    "How do you think this happened?\n",
    "Is this harmful? Was it intended to be harmful or exclude?\n",
    "Should it be corrected?\n",
    "What would you or should you do to produce a better outcome?\n",
    "Hacks\n",
    "Write summary/thoughts/conclusions from each of the exercises above. Focus on avoiding Bias in algorithms or code you write.\n",
    "We should also have a lot of work during our adtata ino order to keep our brands in tact so we can learn howt to do the job that is in hand so that i wannt to learn the best in world person idke wheat i m prtuping but ite isfor the acsp calss and I need to whiten my teeth and everything and i need to do a lot of thing"
   ]
  }
 ],
 "metadata": {
  "kernelspec": {
   "display_name": "Python 3.9.12 ('base')",
   "language": "python",
   "name": "python3"
  },
  "language_info": {
   "name": "python",
   "version": "3.9.12"
  },
  "orig_nbformat": 4,
  "vscode": {
   "interpreter": {
    "hash": "b39cc0b7d7b7baa8a40a102196f269dabc963c0136c1c82ab9b0b53a6e35bbf2"
   }
  }
 },
 "nbformat": 4,
 "nbformat_minor": 2
}
