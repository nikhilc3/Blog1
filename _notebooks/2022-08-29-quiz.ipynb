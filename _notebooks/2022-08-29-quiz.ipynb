{
 "cells": [
  {
   "cell_type": "markdown",
   "metadata": {},
   "source": [
    "# First Python project\n",
    "> A notebook of my first python project\n",
    "- toc: true\n",
    "- comments: true\n",
    "- permalink: /Notebooks/firstpython\n",
    "- categories: [Notebooks]\n"
   ]
  },
  {
   "cell_type": "code",
   "execution_count": 4,
   "metadata": {},
   "outputs": [
    {
     "name": "stdout",
     "output_type": "stream",
     "text": [
      "That is correct\n",
      "that is not correct\n",
      "That is correct!\n",
      "that is correct\n",
      "Your test score is: 3/4\n"
     ]
    }
   ],
   "source": [
    "quiz_score = 0\n",
    "\n",
    "x = input(\"who won the superbowl this year\")\n",
    "if x == \"Rams\" or \"LA Rams\" or \"Los Angeles Rams\":\n",
    "    print(\"That is correct\")\n",
    "    quiz_score += 1\n",
    "else: \n",
    "    print(\"sorry that is not correct\")\n",
    "\n",
    "\n",
    "x = input(\"who is the quarter back on the seahawks\")\n",
    "if x == \"Drew Lock\" or x == \"drew lock\":\n",
    "     print(\"Yes you got correct!\")\n",
    "     quiz_score +=1\n",
    "else:\n",
    "    print(\"that is not correct\")\n",
    "\n",
    "x = input(\"who is the quarter back on the rams?\")\n",
    "if x == \"Matthew Stafford\" or \"matthew stafford\":\n",
    "    print(\"That is correct!\")\n",
    "    quiz_score +=1\n",
    "else:\n",
    "    print(\"That is not correct\")\n",
    "\n",
    "x = input(\"how many players are there on the field in a football game?\")\n",
    "if x == \"22\":\n",
    "    print(\"that is correct\")\n",
    "    quiz_score += 1\n",
    "else:\n",
    "    print(\"that is not correct!\")\n",
    "\n",
    "\n",
    "\n",
    "print(\"Your test score is: \" + str(quiz_score) + \"/4\")"
   ]
  }
 ],
 "metadata": {
  "kernelspec": {
   "display_name": "Python 3.10.5 64-bit",
   "language": "python",
   "name": "python3"
  },
  "language_info": {
   "codemirror_mode": {
    "name": "ipython",
    "version": 3
   },
   "file_extension": ".py",
   "mimetype": "text/x-python",
   "name": "python",
   "nbconvert_exporter": "python",
   "pygments_lexer": "ipython3",
   "version": "3.10.5"
  },
  "orig_nbformat": 4,
  "vscode": {
   "interpreter": {
    "hash": "aee8b7b246df8f9039afb4144a1f6fd8d2ca17a180786b69acc140d282b71a49"
   }
  }
 },
 "nbformat": 4,
 "nbformat_minor": 2
}
