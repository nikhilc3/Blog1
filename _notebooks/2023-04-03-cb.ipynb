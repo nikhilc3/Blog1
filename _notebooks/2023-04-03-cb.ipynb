{
 "cells": [
  {
   "cell_type": "markdown",
   "metadata": {},
   "source": [
    "# College Board 2020 Practice MCQ\n",
    "\n",
    "<br>\n",
    "\n",
    "## Score\n",
    "![Screenshot 2023-05-03 at 10 56 58 PM](https://user-images.githubusercontent.com/111464993/236122614-9f9cbefb-aba9-43f5-b8c6-b34eaf353da1.png)\n",
    "\n",
    "<br>\n",
    "<br>\n",
    "<br>\n",
    "\n",
    "## Corrections\n",
    "![Screenshot 2023-05-03 at 10 58 16 PM](https://user-images.githubusercontent.com/111464993/236122849-89936673-9f17-4629-b264-0dd6fade7dce.png)\n",
    "- Explanation: B is Wrong and C is correct because With these inputs, the OR gate will produce an output of true and the first AND gate will produce an output of false. Since only one input to the second AND gate will be true, the circuit will have an output of false.\n",
    "\n",
    "<br>\n",
    "<br>\n",
    "<br>\n",
    "\n",
    "![Screenshot 2023-05-03 at 10 59 14 PM](https://user-images.githubusercontent.com/111464993/236122984-9f5c9c7f-c326-47e8-9f9a-84fff9852985.png)\n",
    "- Explanation: A is Wrong and the correct answer is C because Program II correctly moves the robot to the gray square by moving the robot forward to the bottom right corner of the grid, rotating left, moving the robot forward to the upper right corner of the grid, rotating left, and moving forward to the gray square.\n",
    "\n",
    "<br>\n",
    "<br>\n",
    "<br>\n",
    "\n",
    "![Screenshot 2023-05-03 at 11 00 14 PM](https://user-images.githubusercontent.com/111464993/236123137-ea7a880f-b9d1-4488-a4d6-a6dbc175a8ca.png)\n",
    "- Explanation: The correct answer is A and I chose B and was wrong because The binary RGB triplet for light yellow is (11111111, 11111111, 11100000).\n",
    "\n",
    "<br>\n",
    "<br>\n",
    "<br>\n",
    "\n",
    "![Screenshot 2023-05-03 at 11 01 27 PM](https://user-images.githubusercontent.com/111464993/236123312-0b20d49a-4d9c-4e00-ae53-c9fe8528114b.png)\n",
    "- Explanation: The correct answer is A because Removing detail from the model can often speed up the runtime of a simulation. I did not really understand this question at the beggining so I guessed C. \n",
    "\n",
    "<br>\n",
    "<br>\n",
    "<br>\n",
    "\n",
    "![Screenshot 2023-05-03 at 11 03 13 PM](https://user-images.githubusercontent.com/111464993/236123528-c7efffaa-b691-474d-989e-9c9c216ea1af.png)\n",
    "- Explanation: Answer is A and not C because It is possible to have redundant routing in both configurations. In configuration II, some possible routes between computers Q and V include Q-S-V, Q-R-T-V, and Q-P-T-V. Answer C is correct because It is possible to have redundant routing in both configurations. In configuration I, some possible routes between computers Q and V include Q-P-V, Q-T-V, and Q-R-S-V. In configuration II, some possible routes between computers Q and V include Q-S-V, Q-R-T-V, and Q-P-T-V.\n",
    "\n",
    "<br>\n",
    "<br>\n",
    "<br>\n",
    "\n",
    "![Screenshot 2023-05-03 at 11 04 55 PM](https://user-images.githubusercontent.com/111464993/236123766-70e38ed2-19c1-42de-8645-8d60248013bb.png)\n",
    "- Explanation: D is incorrect because for this code segment, count is increased to 1 when \"oak\" is encountered as the last element of the list. The loop then terminates and the procedure returns the intended result 1. B is the correct answer because for this code segment, count is increased to 1 the first time \"maple\" is encountered in the list. However, count is reset to 0 when the code segment moves to the next list element. This causes the procedure to return 0 instead of the intended result 1.\n",
    "\n",
    "<br>\n",
    "<br>\n",
    "<br>\n",
    "\n",
    "![Screenshot 2023-05-03 at 11 06 16 PM](https://user-images.githubusercontent.com/111464993/236123897-fa5ec674-81d1-4810-902a-246f4b401378.png)\n",
    "- Explanation: C is incorrect because the MaxFour procedure calculates a maximum of several values (similar to the MaxTwo and MaxThree procedures), but it does not generalize this functionality to calculate the maximum of any number of values. So the correct answer is B due to he procedures MaxTwo and MaxThree are each used to determine the maximum among a group of given values. A generalization of this procedure is Max, which takes a list parameter as input to determine the maximum of any number of values.\n",
    "\n",
    "\n",
    "## Things I learned\n",
    "- I learned what Losless Data Compression is which is the algorithms allow you to reduce your file size without sacrificing any of the original data in the process. You're generally able to restore your original file if you want\n",
    "- Another Thing I learned is How to convert Decimal to Binary (already know how to do Binary To decimal, just needed a small refresher). The Steps are:\n",
    "  - Write down the number.\n",
    "  - Divide it by 2 and note the remainder.\n",
    "  - Divide the quotient obtained by 2 and note the remainder.\n",
    "  - Repeat the same process till we get 0 as the quotient.\n",
    "  - Write the values of all the remainders starting from the bottom to the top. That will be the required answer.\n",
    "- This is the definition for \"internet\" in APCSP: a computer network consisting of interconnected networks that use standardized, open (nonproprietary) communication protocols. I will need to know this for the MCQ because I got a question wrong for this because I knew what the internet was but not the definition by college board, because I did not really understand it. \n"
   ]
  }
 ],
 "metadata": {
  "kernelspec": {
   "display_name": "Python 3.9.12 ('base')",
   "language": "python",
   "name": "python3"
  },
  "language_info": {
   "name": "python",
   "version": "3.9.12"
  },
  "orig_nbformat": 4,
  "vscode": {
   "interpreter": {
    "hash": "b39cc0b7d7b7baa8a40a102196f269dabc963c0136c1c82ab9b0b53a6e35bbf2"
   }
  }
 },
 "nbformat": 4,
 "nbformat_minor": 2
}
