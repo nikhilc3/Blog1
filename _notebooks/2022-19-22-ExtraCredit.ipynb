{
 "cells": [
  {
   "cell_type": "markdown",
   "metadata": {},
   "source": [
    "# \"Extra Credit\"\n",
    "\n",
    "- toc: true\n",
    "- comments: true\n",
    "- layout: post"
   ]
  },
  {
   "cell_type": "markdown",
   "metadata": {},
   "source": [
    "# Random Password Generator"
   ]
  },
  {
   "cell_type": "code",
   "execution_count": 50,
   "metadata": {},
   "outputs": [
    {
     "name": "stdout",
     "output_type": "stream",
     "text": [
      "Your randomly generated password is:  wKts6opxiXmquYazB&^e\n",
      "Very strong password\n"
     ]
    }
   ],
   "source": [
    "import random \n",
    "\n",
    "# Characters that will be used to generate the password \n",
    "chars = 'abcdefghijklmnopqrstuvwxyzABCDEFGHIJKLMNOPQRSTUVWXYZ1234567890!@#$%^&*'\n",
    "\n",
    "# Ask user for the length of the password\n",
    "length = int(input('Enter the length of the password: '))\n",
    "\n",
    "# Generate and print the random password\n",
    "rand_pass = ''.join(random.sample(chars, length))\n",
    "print('Your randomly generated password is: ', rand_pass)\n",
    "\n",
    "# Checks how easily guessed the password is\n",
    "if len(rand_pass) > 15:\n",
    "    print(\"Very strong password\")\n",
    "elif 9 < len(rand_pass) < 15:\n",
    "    print(\"strong password\")\n",
    "elif 5 < len(rand_pass) < 9:\n",
    "    print(\"decently strong password\")\n",
    "else:\n",
    "    print(\"weak password\")"
   ]
  },
  {
   "cell_type": "markdown",
   "metadata": {},
   "source": [
    "This code generates a random password of a specified length and then checks how strong the password is based on its length.\n",
    "\n",
    "The first line imports the random module, which provides functions for generating random numbers and selecting random elements from a list.\n",
    "\n",
    "The chars string contains a list of all the characters that will be used to generate the password. This includes lowercase and uppercase letters, numbers, and special characters.\n",
    "\n",
    "The code then asks the user to enter the desired length of the password using the input function. This value is converted to an integer using the int function and stored in the length variable.\n",
    "\n",
    "The random.sample function is used to select length random characters from the chars string, and these characters are joined together using the join method of the string object to form the random password. This password is then printed to the screen.\n",
    "\n",
    "Finally, the code uses an if statement to check the length of the password and print a message indicating how strong the password is. If the password is longer than 15 characters, it is considered a very strong password. If it is between 9 and 15 characters long, it is considered a strong password. If it is between 5 and 9 characters long, it is considered a decently strong password. Otherwise, it is considered a weak password."
   ]
  },
  {
   "cell_type": "markdown",
   "metadata": {},
   "source": [
    "# Email Slicer"
   ]
  },
  {
   "cell_type": "code",
   "execution_count": 22,
   "metadata": {},
   "outputs": [
    {
     "name": "stdout",
     "output_type": "stream",
     "text": [
      "('john.doe', 'gmail.com')\n"
     ]
    }
   ],
   "source": [
    "def email_slicer(email):\n",
    "  # Split the email address at the '@' character\n",
    "  username, domain = email.split('@')\n",
    "  return username, domain\n",
    "\n",
    "# Test the email slicer\n",
    "print(email_slicer('john.doe@gmail.com')) \n"
   ]
  },
  {
   "cell_type": "markdown",
   "metadata": {},
   "source": [
    "This email slicer uses the built-in split method to split the email address at the '@' character, and returns a tuple containing the username and domain name.\n",
    "\n",
    "Note that this email slicer does not perform any validation on the input email address. It is up to you to ensure that the email address is in the correct format before calling the email slicer."
   ]
  },
  {
   "cell_type": "markdown",
   "metadata": {},
   "source": [
    "# Binary Calcualtor"
   ]
  },
  {
   "cell_type": "code",
   "execution_count": 31,
   "metadata": {},
   "outputs": [
    {
     "name": "stdout",
     "output_type": "stream",
     "text": [
      "1011\n",
      "10\n",
      "100\n",
      "Invalid operator\n"
     ]
    }
   ],
   "source": [
    "def binary_calculator(operation, num1, num2):\n",
    "  # Convert the input numbers to binary\n",
    "  num1 = bin(num1)[2:]\n",
    "  num2 = bin(num2)[2:]\n",
    "\n",
    "  # Perform the specified operation\n",
    "  if operation == '+':\n",
    "    result = int(num1, 2) + int(num2, 2)\n",
    "  elif operation == '-':\n",
    "    result = int(num1, 2) - int(num2, 2)\n",
    "  elif operation == '*':\n",
    "    result = int(num1, 2) * int(num2, 2)\n",
    "  else:\n",
    "    return \"Invalid operator\"\n",
    "\n",
    "  # Return the result as a binary string\n",
    "  return bin(result)[2:]\n",
    "\n",
    "# Test the binary calculator\n",
    "print(binary_calculator('+', 2, 9))  \n",
    "print(binary_calculator('-', 5, 3))  \n",
    "print(binary_calculator('*', 4, 1))  \n",
    "print(binary_calculator('^', 3, 5))  \n"
   ]
  },
  {
   "cell_type": "markdown",
   "metadata": {},
   "source": [
    "This calculator converts the input numbers to binary strings using the built-in bin function, performs the specified operation on the numbers, and then returns the result as a binary string using the bin function again.\n",
    "\n",
    "Note that this calculator only handles positive integers. It does not handle negative numbers or fractions."
   ]
  },
  {
   "cell_type": "markdown",
   "metadata": {},
   "source": [
    "# Adress Book"
   ]
  },
  {
   "cell_type": "code",
   "execution_count": 39,
   "metadata": {},
   "outputs": [
    {
     "name": "stdout",
     "output_type": "stream",
     "text": [
      "{'Nikhil Chakravarthula': {'phone': '415-937-3746', 'email': 'Nikhilc@yahoo.com'}, 'Prashanth Chakravarthula': {'phone': '415-341-3968', 'email': 'prashanth.chakravarthula@gmail.com'}}\n"
     ]
    }
   ],
   "source": [
    "class AddressBook:\n",
    "  def __init__(self):\n",
    "    # Initialize an empty dictionary to store the contact details\n",
    "    self.contacts = {}\n",
    "\n",
    "  def create_contact(self, name, phone, email):\n",
    "    # Add the contact details to the dictionary\n",
    "    self.contacts[name] = {'phone': phone, 'email': email}\n",
    "\n",
    "  def edit_contact(self, name, phone=None, email=None):\n",
    "    # Check if the contact exists in the dictionary\n",
    "    if name in self.contacts:\n",
    "      # Update the phone and/or email if provided\n",
    "      if phone:\n",
    "        self.contacts[name]['phone'] = phone\n",
    "      if email:\n",
    "        self.contacts[name]['email'] = email\n",
    "      return True\n",
    "    else:\n",
    "      return False\n",
    "\n",
    "  def delete_contact(self, name):\n",
    "    # Remove the contact from the dictionary if it exists\n",
    "    if name in self.contacts:\n",
    "      del self.contacts[name]\n",
    "      return True\n",
    "    else:\n",
    "      return False\n",
    "\n",
    "  def get_contacts(self):\n",
    "    # Return a copy of the contacts dictionary\n",
    "    return self.contacts.copy()\n",
    "\n",
    "# Create a new address book\n",
    "address_book = AddressBook()\n",
    "\n",
    "# Add some contacts\n",
    "address_book.create_contact('Nikhil Chakravarthula', '415-937-3746', 'nikhilchakravarthula14@gmail.com')\n",
    "address_book.create_contact('Anitha Ganjam', '510-717-7990', 'anitha.ganjam@gmail.com')\n",
    "address_book.create_contact('Prashanth Chakravarthula', '415-341-3968', 'prashanth.chakravarthula@gmail.com')\n",
    "\n",
    "# Edit a contact\n",
    "address_book.edit_contact('Nikhil Chakravarthula', email='Nikhilc@yahoo.com')\n",
    "\n",
    "# Delete a contact\n",
    "address_book.delete_contact('Anitha Ganjam')\n",
    "\n",
    "# Get the contacts\n",
    "print(address_book.get_contacts())  \n"
   ]
  },
  {
   "cell_type": "markdown",
   "metadata": {},
   "source": [
    "The AddressBook class has four methods: create_contact, edit_contact, delete_contact, and get_contacts.\n",
    "\n",
    "The __init__ method initializes an empty dictionary called contacts to store the contact details.\n",
    "\n",
    "The create_contact method takes three arguments: name, phone, and email, and adds a new contact to the contacts dictionary with these details. The contact's name is used as the key, and the phone and email are stored as a dictionary value.\n",
    "\n",
    "The edit_contact method takes three optional arguments: name, phone, and email. It checks if the contact with the specified name exists in the contacts dictionary, and if it does, it updates the phone and/or email if provided. If the contact does not exist, it returns False.\n",
    "\n",
    "The delete_contact method takes a single argument: name, and removes the contact with the specified name from the contacts dictionary if it exists. If the contact does not exist, it returns False.\n",
    "\n",
    "The get_contacts method returns a copy of the contacts dictionary.\n",
    "\n",
    "To use the AddressBook class, you can create a new instance of the class and call the various methods to create, edit, delete, and retrieve contacts."
   ]
  },
  {
   "cell_type": "markdown",
   "metadata": {},
   "source": [
    "## My own research I do."
   ]
  },
  {
   "cell_type": "code",
   "execution_count": 12,
   "metadata": {},
   "outputs": [
    {
     "name": "stdout",
     "output_type": "stream",
     "text": [
      "Requirement already satisfied: yfinance in /Users/nikhilchakravarthula/opt/anaconda3/lib/python3.9/site-packages (0.1.74)\n",
      "Requirement already satisfied: requests>=2.26 in /Users/nikhilchakravarthula/opt/anaconda3/lib/python3.9/site-packages (from yfinance) (2.27.1)\n",
      "Requirement already satisfied: pandas>=0.24.0 in /Users/nikhilchakravarthula/opt/anaconda3/lib/python3.9/site-packages (from yfinance) (1.5.2)\n",
      "Requirement already satisfied: numpy>=1.15 in /Users/nikhilchakravarthula/opt/anaconda3/lib/python3.9/site-packages (from yfinance) (1.21.5)\n",
      "Requirement already satisfied: multitasking>=0.0.7 in /Users/nikhilchakravarthula/opt/anaconda3/lib/python3.9/site-packages (from yfinance) (0.0.11)\n",
      "Requirement already satisfied: lxml>=4.5.1 in /Users/nikhilchakravarthula/opt/anaconda3/lib/python3.9/site-packages (from yfinance) (4.8.0)\n",
      "Requirement already satisfied: pytz>=2020.1 in /Users/nikhilchakravarthula/opt/anaconda3/lib/python3.9/site-packages (from pandas>=0.24.0->yfinance) (2021.3)\n",
      "Requirement already satisfied: python-dateutil>=2.8.1 in /Users/nikhilchakravarthula/opt/anaconda3/lib/python3.9/site-packages (from pandas>=0.24.0->yfinance) (2.8.2)\n",
      "Requirement already satisfied: six>=1.5 in /Users/nikhilchakravarthula/opt/anaconda3/lib/python3.9/site-packages (from python-dateutil>=2.8.1->pandas>=0.24.0->yfinance) (1.16.0)\n",
      "Requirement already satisfied: urllib3<1.27,>=1.21.1 in /Users/nikhilchakravarthula/opt/anaconda3/lib/python3.9/site-packages (from requests>=2.26->yfinance) (1.26.9)\n",
      "Requirement already satisfied: idna<4,>=2.5 in /Users/nikhilchakravarthula/opt/anaconda3/lib/python3.9/site-packages (from requests>=2.26->yfinance) (3.3)\n",
      "Requirement already satisfied: charset-normalizer~=2.0.0 in /Users/nikhilchakravarthula/opt/anaconda3/lib/python3.9/site-packages (from requests>=2.26->yfinance) (2.0.4)\n",
      "Requirement already satisfied: certifi>=2017.4.17 in /Users/nikhilchakravarthula/opt/anaconda3/lib/python3.9/site-packages (from requests>=2.26->yfinance) (2022.5.18.1)\n",
      "Note: you may need to restart the kernel to use updated packages.\n"
     ]
    }
   ],
   "source": [
    "pip install yfinance"
   ]
  },
  {
   "cell_type": "code",
   "execution_count": 16,
   "metadata": {},
   "outputs": [
    {
     "name": "stdout",
     "output_type": "stream",
     "text": [
      "[*********************100%***********************]  10 of 10 completed\n",
      "                  AAPL        AMZN        COST       GOOGL          MA  \\\n",
      "Date                                                                     \n",
      "2017-01-03   27.174751   37.683498  141.645096   40.400501  101.818062   \n",
      "2017-01-04   27.144341   37.859001  141.671692   40.388500  102.784172   \n",
      "2017-01-05   27.282379   39.022499  144.465088   40.651001  103.578041   \n",
      "2017-01-06   27.586525   39.799500  144.394135   41.260502  104.323479   \n",
      "2017-01-09   27.839207   39.846001  142.744705   41.359001  104.120163   \n",
      "...                ...         ...         ...         ...         ...   \n",
      "2021-12-27  179.289444  169.669495  559.725037  147.906494  358.211243   \n",
      "2021-12-28  178.255447  170.660995  560.887329  146.686996  358.678497   \n",
      "2021-12-29  178.344925  169.201004  563.996521  146.654999  359.185547   \n",
      "2021-12-30  177.171722  168.644501  560.162170  146.200500  358.887299   \n",
      "2021-12-31  176.545364  166.716995  563.927002  144.852005  357.227020   \n",
      "\n",
      "                   MCD        MSFT        NVDA        TSLA         WMT  \n",
      "Date                                                                    \n",
      "2017-01-03  103.605545   57.645374   25.147219   14.466000   61.081329  \n",
      "2017-01-04  103.484291   57.387459   25.733932   15.132667   61.437176  \n",
      "2017-01-05  103.674843   57.387459   25.080660   15.116667   61.570614  \n",
      "2017-01-06  104.592926   57.884880   25.415918   15.267333   60.725487  \n",
      "2017-01-09  104.307106   57.700645   26.446367   15.418667   61.125813  \n",
      "...                ...         ...         ...         ...         ...  \n",
      "2021-12-27  262.363953  339.270966  309.160950  364.646667  138.581589  \n",
      "2021-12-28  262.011841  338.082123  302.936707  362.823334  140.570328  \n",
      "2021-12-29  262.608459  338.775635  299.729706  362.063324  140.501419  \n",
      "2021-12-30  261.356506  336.170044  295.583618  356.779999  140.954285  \n",
      "2021-12-31  262.197662  333.197906  293.835236  352.260010  142.450790  \n",
      "\n",
      "[1259 rows x 10 columns]\n"
     ]
    }
   ],
   "source": [
    "import yfinance as yf\n",
    "ticker = 'AAPL', 'AMZN', 'WMT', 'GOOGL', 'MSFT', 'MCD', 'NVDA', 'TSLA', 'COST', 'MA'\n",
    "start_date = '2017-01-01' \n",
    "end_date = '2022-01-01' \n",
    "\n",
    "price = yf.download(ticker, start_date, end_date)['Adj Close']\n",
    "print(price)"
   ]
  },
  {
   "cell_type": "markdown",
   "metadata": {},
   "source": [
    "This code is using the yfinance package to download daily stock price data for a list of ticker symbols from Yahoo Finance. The yfinance package is a wrapper for the Yahoo Finance API that makes it easy to retrieve stock data.\n",
    "\n",
    "The ticker symbols for the stocks to be downloaded are specified as a tuple of strings: 'AAPL', 'AMZN', 'WMT', 'GOOGL', 'MSFT', 'MCD', 'NVDA', 'TSLA', 'COST', 'MA'.\n",
    "\n",
    "The start and end dates for the data to be downloaded are specified as strings in the format 'YYYY-MM-DD': '2017-01-01' and '2022-01-01', respectively.\n",
    "\n",
    "The yf.download() function is then called with the ticker symbols, start date, and end date as arguments, and the resulting data is stored in a variable called price. The ['Adj Close'] attribute is used to select only the \"Adjusted Close\" price column from the data.\n",
    "\n",
    "Finally, the price data is printed to the console using the print() function."
   ]
  }
 ],
 "metadata": {
  "kernelspec": {
   "display_name": "Python 3.9.12 ('base')",
   "language": "python",
   "name": "python3"
  },
  "language_info": {
   "codemirror_mode": {
    "name": "ipython",
    "version": 3
   },
   "file_extension": ".py",
   "mimetype": "text/x-python",
   "name": "python",
   "nbconvert_exporter": "python",
   "pygments_lexer": "ipython3",
   "version": "3.9.12"
  },
  "orig_nbformat": 4,
  "vscode": {
   "interpreter": {
    "hash": "b39cc0b7d7b7baa8a40a102196f269dabc963c0136c1c82ab9b0b53a6e35bbf2"
   }
  }
 },
 "nbformat": 4,
 "nbformat_minor": 2
}
