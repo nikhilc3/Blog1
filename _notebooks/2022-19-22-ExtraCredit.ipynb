{
 "cells": [
  {
   "cell_type": "markdown",
   "metadata": {},
   "source": [
    "# \"Extra Credit\"\n",
    "\n",
    "- toc: true\n",
    "- comments: true\n",
    "- layout: post\n",
    "- author: Nikhil Chakravarthula"
   ]
  },
  {
   "cell_type": "markdown",
   "metadata": {},
   "source": [
    "# Random Password Generator"
   ]
  },
  {
   "cell_type": "code",
   "execution_count": 50,
   "metadata": {},
   "outputs": [
    {
     "name": "stdout",
     "output_type": "stream",
     "text": [
      "Your randomly generated password is:  wKts6opxiXmquYazB&^e\n",
      "Very strong password\n"
     ]
    }
   ],
   "source": [
    "import random \n",
    "\n",
    "# Characters that will be used to generate the password \n",
    "chars = 'abcdefghijklmnopqrstuvwxyzABCDEFGHIJKLMNOPQRSTUVWXYZ1234567890!@#$%^&*'\n",
    "\n",
    "# Ask user for the length of the password\n",
    "length = int(input('Enter the length of the password: '))\n",
    "\n",
    "# Generate and print the random password\n",
    "rand_pass = ''.join(random.sample(chars, length))\n",
    "print('Your randomly generated password is: ', rand_pass)\n",
    "\n",
    "# Checks how easily guessed the password is\n",
    "if len(rand_pass) > 15:\n",
    "    print(\"Very strong password\")\n",
    "elif 9 < len(rand_pass) < 15:\n",
    "    print(\"strong password\")\n",
    "elif 5 < len(rand_pass) < 9:\n",
    "    print(\"decently strong password\")\n",
    "else:\n",
    "    print(\"weak password\")"
   ]
  },
  {
   "cell_type": "markdown",
   "metadata": {},
   "source": [
    "# Email Slicer"
   ]
  },
  {
   "cell_type": "code",
   "execution_count": 22,
   "metadata": {},
   "outputs": [
    {
     "name": "stdout",
     "output_type": "stream",
     "text": [
      "('john.doe', 'gmail.com')\n"
     ]
    }
   ],
   "source": [
    "def email_slicer(email):\n",
    "  # Split the email address at the '@' character\n",
    "  username, domain = email.split('@')\n",
    "  return username, domain\n",
    "\n",
    "# Test the email slicer\n",
    "print(email_slicer('john.doe@gmail.com')) \n"
   ]
  },
  {
   "cell_type": "markdown",
   "metadata": {},
   "source": [
    "This email slicer uses the built-in split method to split the email address at the '@' character, and returns a tuple containing the username and domain name.\n",
    "\n",
    "Note that this email slicer does not perform any validation on the input email address. It is up to you to ensure that the email address is in the correct format before calling the email slicer."
   ]
  },
  {
   "cell_type": "markdown",
   "metadata": {},
   "source": [
    "# Binary Calcualtor"
   ]
  },
  {
   "cell_type": "code",
   "execution_count": 31,
   "metadata": {},
   "outputs": [
    {
     "name": "stdout",
     "output_type": "stream",
     "text": [
      "1011\n",
      "10\n",
      "100\n",
      "Invalid operator\n"
     ]
    }
   ],
   "source": [
    "def binary_calculator(operation, num1, num2):\n",
    "  # Convert the input numbers to binary\n",
    "  num1 = bin(num1)[2:]\n",
    "  num2 = bin(num2)[2:]\n",
    "\n",
    "  # Perform the specified operation\n",
    "  if operation == '+':\n",
    "    result = int(num1, 2) + int(num2, 2)\n",
    "  elif operation == '-':\n",
    "    result = int(num1, 2) - int(num2, 2)\n",
    "  elif operation == '*':\n",
    "    result = int(num1, 2) * int(num2, 2)\n",
    "  else:\n",
    "    return \"Invalid operator\"\n",
    "\n",
    "  # Return the result as a binary string\n",
    "  return bin(result)[2:]\n",
    "\n",
    "# Test the binary calculator\n",
    "print(binary_calculator('+', 2, 9))  \n",
    "print(binary_calculator('-', 5, 3))  \n",
    "print(binary_calculator('*', 4, 1))  \n",
    "print(binary_calculator('^', 3, 5))  \n"
   ]
  },
  {
   "cell_type": "markdown",
   "metadata": {},
   "source": [
    "This calculator converts the input numbers to binary strings using the built-in bin function, performs the specified operation on the numbers, and then returns the result as a binary string using the bin function again.\n",
    "\n",
    "Note that this calculator only handles positive integers. It does not handle negative numbers or fractions."
   ]
  },
  {
   "cell_type": "markdown",
   "metadata": {},
   "source": [
    "# Adress Book"
   ]
  },
  {
   "cell_type": "code",
   "execution_count": 39,
   "metadata": {},
   "outputs": [
    {
     "name": "stdout",
     "output_type": "stream",
     "text": [
      "{'Nikhil Chakravarthula': {'phone': '415-937-3746', 'email': 'Nikhilc@yahoo.com'}, 'Prashanth Chakravarthula': {'phone': '415-341-3968', 'email': 'prashanth.chakravarthula@gmail.com'}}\n"
     ]
    }
   ],
   "source": [
    "class AddressBook:\n",
    "  def __init__(self):\n",
    "    # Initialize an empty dictionary to store the contact details\n",
    "    self.contacts = {}\n",
    "\n",
    "  def create_contact(self, name, phone, email):\n",
    "    # Add the contact details to the dictionary\n",
    "    self.contacts[name] = {'phone': phone, 'email': email}\n",
    "\n",
    "  def edit_contact(self, name, phone=None, email=None):\n",
    "    # Check if the contact exists in the dictionary\n",
    "    if name in self.contacts:\n",
    "      # Update the phone and/or email if provided\n",
    "      if phone:\n",
    "        self.contacts[name]['phone'] = phone\n",
    "      if email:\n",
    "        self.contacts[name]['email'] = email\n",
    "      return True\n",
    "    else:\n",
    "      return False\n",
    "\n",
    "  def delete_contact(self, name):\n",
    "    # Remove the contact from the dictionary if it exists\n",
    "    if name in self.contacts:\n",
    "      del self.contacts[name]\n",
    "      return True\n",
    "    else:\n",
    "      return False\n",
    "\n",
    "  def get_contacts(self):\n",
    "    # Return a copy of the contacts dictionary\n",
    "    return self.contacts.copy()\n",
    "\n",
    "# Create a new address book\n",
    "address_book = AddressBook()\n",
    "\n",
    "# Add some contacts\n",
    "address_book.create_contact('Nikhil Chakravarthula', '415-937-3746', 'nikhilchakravarthula14@gmail.com')\n",
    "address_book.create_contact('Anitha Ganjam', '510-717-7990', 'anitha.ganjam@gmail.com')\n",
    "address_book.create_contact('Prashanth Chakravarthula', '415-341-3968', 'prashanth.chakravarthula@gmail.com')\n",
    "\n",
    "# Edit a contact\n",
    "address_book.edit_contact('Nikhil Chakravarthula', email='Nikhilc@yahoo.com')\n",
    "\n",
    "# Delete a contact\n",
    "address_book.delete_contact('Anitha Ganjam')\n",
    "\n",
    "# Get the contacts\n",
    "print(address_book.get_contacts())  \n"
   ]
  },
  {
   "cell_type": "markdown",
   "metadata": {},
   "source": [
    "The AddressBook class has four methods: create_contact, edit_contact, delete_contact, and get_contacts.\n",
    "\n",
    "The __init__ method initializes an empty dictionary called contacts to store the contact details.\n",
    "\n",
    "The create_contact method takes three arguments: name, phone, and email, and adds a new contact to the contacts dictionary with these details. The contact's name is used as the key, and the phone and email are stored as a dictionary value.\n",
    "\n",
    "The edit_contact method takes three optional arguments: name, phone, and email. It checks if the contact with the specified name exists in the contacts dictionary, and if it does, it updates the phone and/or email if provided. If the contact does not exist, it returns False.\n",
    "\n",
    "The delete_contact method takes a single argument: name, and removes the contact with the specified name from the contacts dictionary if it exists. If the contact does not exist, it returns False.\n",
    "\n",
    "The get_contacts method returns a copy of the contacts dictionary.\n",
    "\n",
    "To use the AddressBook class, you can create a new instance of the class and call the various methods to create, edit, delete, and retrieve contacts."
   ]
  },
  {
   "cell_type": "markdown",
   "metadata": {},
   "source": [
    "## Extra research"
   ]
  },
  {
   "cell_type": "code",
   "execution_count": 54,
   "metadata": {},
   "outputs": [
    {
     "name": "stdout",
     "output_type": "stream",
     "text": [
      "         Date       Open       High        Low      Close  Adj Close  \\\n",
      "0  2020-01-02  74.059998  75.150002  73.797501  75.087502  73.561539   \n",
      "1  2020-01-03  74.287498  75.144997  74.125000  74.357498  72.846367   \n",
      "2  2020-01-06  73.447502  74.989998  73.187500  74.949997  73.426819   \n",
      "3  2020-01-07  74.959999  75.224998  74.370003  74.597504  73.081505   \n",
      "4  2020-01-08  74.290001  76.110001  74.290001  75.797501  74.257095   \n",
      "\n",
      "      Volume  \n",
      "0  135480400  \n",
      "1  146322800  \n",
      "2  118387200  \n",
      "3  108872000  \n",
      "4  132079200  \n"
     ]
    }
   ],
   "source": [
    "import pandas as pd\n",
    "\n",
    "# Use the `pandas_datareader` library to import stock data from Yahoo Finance\n",
    "df = pd.read_csv('https://query1.finance.yahoo.com/v7/finance/download/AAPL?period1=1577836800&period2=1609459199&interval=1d&events=history')\n",
    "\n",
    "# Display the first 5 rows of the dataframe\n",
    "print(df.head())\n"
   ]
  },
  {
   "cell_type": "markdown",
   "metadata": {},
   "source": [
    "This will import the stock data for the specified ticker (in this case, Apple Inc.'s ticker symbol is AAPL) and create a pandas DataFrame with the data. The head() function is used to display the first 5 rows of the DataFrame."
   ]
  }
 ],
 "metadata": {
  "kernelspec": {
   "display_name": "Python 3.9.12 ('base')",
   "language": "python",
   "name": "python3"
  },
  "language_info": {
   "codemirror_mode": {
    "name": "ipython",
    "version": 3
   },
   "file_extension": ".py",
   "mimetype": "text/x-python",
   "name": "python",
   "nbconvert_exporter": "python",
   "pygments_lexer": "ipython3",
   "version": "3.9.12"
  },
  "orig_nbformat": 4,
  "vscode": {
   "interpreter": {
    "hash": "b39cc0b7d7b7baa8a40a102196f269dabc963c0136c1c82ab9b0b53a6e35bbf2"
   }
  }
 },
 "nbformat": 4,
 "nbformat_minor": 2
}
