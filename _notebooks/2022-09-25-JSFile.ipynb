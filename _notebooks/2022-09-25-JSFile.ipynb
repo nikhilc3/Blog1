{
 "cells": [
  {
   "cell_type": "markdown",
   "metadata": {},
   "source": [
    "# JS\n",
    "> A tutorial of fastpages for Jupyter notebooks.\n",
    "\n",
    "- toc: true \n",
    "- badges: true\n",
    "- comments: true\n",
    "- categories: [Notebooks]"
   ]
  },
  {
   "cell_type": "code",
   "execution_count": 2,
   "metadata": {},
   "outputs": [
    {
     "name": "stdout",
     "output_type": "stream",
     "text": [
      "Nikhil\n"
     ]
    }
   ],
   "source": [
    "console.log(\"Nikhil\")"
   ]
  },
  {
   "cell_type": "code",
   "execution_count": 4,
   "metadata": {},
   "outputs": [
    {
     "name": "stdout",
     "output_type": "stream",
     "text": [
      "Nikhil\n"
     ]
    }
   ],
   "source": [
    "var msg = \"Nikhil\";\n",
    "console.log(msg);"
   ]
  },
  {
   "cell_type": "code",
   "execution_count": 6,
   "metadata": {},
   "outputs": [
    {
     "name": "stdout",
     "output_type": "stream",
     "text": [
      "Nikhil\n"
     ]
    }
   ],
   "source": [
    "function logIt(output) {\n",
    "    console.log(output);\n",
    "}\n",
    "logIt(msg);"
   ]
  },
  {
   "cell_type": "code",
   "execution_count": 7,
   "metadata": {},
   "outputs": [
    {
     "name": "stdout",
     "output_type": "stream",
     "text": [
      "Reuse of logIT\n",
      "Hello, Students!\n",
      "2022\n"
     ]
    }
   ],
   "source": [
    "console.log(\"Reuse of logIT\")\n",
    "logIt(\"Hello, Students!\");\n",
    "logIt(2022)"
   ]
  },
  {
   "cell_type": "code",
   "execution_count": 8,
   "metadata": {},
   "outputs": [
    {
     "name": "stdout",
     "output_type": "stream",
     "text": [
      "Looking at dynamic nature of types in JavaScript\n",
      "string ; hello\n",
      "number ; 2020\n",
      "object ; [ 1, 2, 3 ]\n"
     ]
    }
   ],
   "source": [
    "function logItType(output) {\n",
    "    console.log(typeof output, \";\", output);\n",
    "}\n",
    "console.log(\"Looking at dynamic nature of types in JavaScript\")\n",
    "logItType(\"hello\"); // String\n",
    "logItType(2020);    // Number\n",
    "logItType([1, 2, 3]);  // Object is generic for this Array, which similar to Python List"
   ]
  },
  {
   "cell_type": "code",
   "execution_count": 9,
   "metadata": {},
   "outputs": [
    {
     "name": "stdout",
     "output_type": "stream",
     "text": [
      "object ; Person { name: 'Mr M', ghID: 'jm1021', classOf: 1977, role: '' }\n",
      "string ; {\"name\":\"Mr M\",\"ghID\":\"jm1021\",\"classOf\":1977,\"role\":\"\"}\n",
      "object ; Person { name: 'Mr M', ghID: 'jm1021', classOf: 1977, role: 'Teacher' }\n",
      "string ; {\"name\":\"Mr M\",\"ghID\":\"jm1021\",\"classOf\":1977,\"role\":\"Teacher\"}\n"
     ]
    }
   ],
   "source": [
    "function Person(name, ghID, classOf) {\n",
    "    this.name = name;\n",
    "    this.ghID = ghID;\n",
    "    this.classOf = classOf;\n",
    "    this.role = \"\";\n",
    "}\n",
    "\n",
    "// define a setter for role in Person data\n",
    "Person.prototype.setRole = function(role) {\n",
    "    this.role = role;\n",
    "}\n",
    "\n",
    "// define a JSON conversion \"method\" associated with Person\n",
    "Person.prototype.toJSON = function() {\n",
    "    const obj = {name: this.name, ghID: this.ghID, classOf: this.classOf, role: this.role};\n",
    "    const json = JSON.stringify(obj);\n",
    "    return json;\n",
    "}\n",
    "\n",
    "// make a new Person and assign to variable teacher\n",
    "var teacher = new Person(\"Mr M\", \"jm1021\", 1977);  // object type is easy to work with in JavaScript\n",
    "logItType(teacher);  // before role\n",
    "logItType(teacher.toJSON());  // ok to do this even though role is not yet defined\n",
    "\n",
    "// output of Object and JSON/string associated with Teacher\n",
    "teacher.setRole(\"Teacher\");   // set the role\n",
    "logItType(teacher); \n",
    "logItType(teacher.toJSON());"
   ]
  },
  {
   "cell_type": "code",
   "execution_count": 11,
   "metadata": {},
   "outputs": [
    {
     "name": "stdout",
     "output_type": "stream",
     "text": [
      "object ; [\n",
      "  Person {\n",
      "    name: 'Mr M',\n",
      "    ghID: 'jm1021',\n",
      "    classOf: 1977,\n",
      "    role: 'Teacher'\n",
      "  },\n",
      "  Person {\n",
      "    name: 'Nikhil',\n",
      "    ghID: 'Chakravarthula',\n",
      "    classOf: 2022,\n",
      "    role: 'Student'\n",
      "  },\n",
      "  Person {\n",
      "    name: 'Matti',\n",
      "    ghID: 'Uknown',\n",
      "    classOf: 2022,\n",
      "    role: 'Student'\n",
      "  },\n",
      "  Person {\n",
      "    name: 'Vyaan',\n",
      "    ghID: 'gauthum',\n",
      "    classOf: 2022,\n",
      "    role: 'Student'\n",
      "  },\n",
      "  Person { name: 'N/A', ghID: 'N/A', classOf: 2022, role: 'Student' }\n",
      "]\n",
      "string ; Mr M\n",
      "string ; {\"name\":\"Mr M\",\"ghID\":\"jm1021\",\"classOf\":1977,\"role\":\"Teacher\"}\n",
      "object ; { name: 'Mr M', ghID: 'jm1021', classOf: 1977, role: 'Teacher' }\n"
     ]
    }
   ],
   "source": [
    "var students = [ \n",
    "    new Person(\"Nikhil\", \"Chakravarthula\", 2022),\n",
    "    new Person(\"Matti\", \"Uknown\", 2022),\n",
    "    new Person(\"Vyaan\", \"gauthum\", 2022),\n",
    "    new Person(\"N/A\", \"N/A\", 2022)\n",
    "    \n",
    "];\n",
    "\n",
    "// define a classroom and build Classroom objects and json\n",
    "function Classroom(teacher, students){ // 1 teacher, many student\n",
    "    // start Classroom with Teacher\n",
    "    teacher.setRole(\"Teacher\");\n",
    "    this.teacher = teacher;\n",
    "    this.classroom = [teacher];\n",
    "    // add each Student to Classroom\n",
    "    this.students = students;\n",
    "    this.students.forEach(student => { student.setRole(\"Student\"); this.classroom.push(student); });\n",
    "    // build json/string format of Classroom\n",
    "    this.json = [];\n",
    "    this.classroom.forEach(person => this.json.push(person.toJSON()));\n",
    "}\n",
    "\n",
    "// make a CompSci classroom from formerly defined teacher and students\n",
    "compsci = new Classroom(teacher, students);\n",
    "\n",
    "// output of Objects and JSON in CompSci classroom\n",
    "logItType(compsci.classroom);  // constructed classroom object\n",
    "logItType(compsci.classroom[0].name);  // abstract 1st objects name\n",
    "logItType(compsci.json[0]);  // show json conversion of 1st object to string\n",
    "logItType(JSON.parse(compsci.json[0]));  // show JSON.parse inverse of JSON.stringify"
   ]
  },
  {
   "cell_type": "code",
   "execution_count": 12,
   "metadata": {},
   "outputs": [
    {
     "data": {
      "text/html": [
       "<div style='display:inline-block;border: 2px solid grey;box-shadow: 0.8em 0.4em 0.4em grey;'><table><tr><th><mark>Name</mark></th><th><mark>GitHub ID</mark></th><th><mark>Class Of</mark></th><th><mark>Role</mark></th></tr><tr><td>Mr M</td><td>jm1021</td><td>1977</td><td>Teacher</td><tr><tr><td>Nikhil</td><td>Chakravarthula</td><td>2022</td><td>Student</td><tr><tr><td>Matti</td><td>Uknown</td><td>2022</td><td>Student</td><tr><tr><td>Vyaan</td><td>gauthum</td><td>2022</td><td>Student</td><tr><tr><td>N/A</td><td>N/A</td><td>2022</td><td>Student</td><tr></table></div>"
      ]
     },
     "execution_count": 12,
     "metadata": {},
     "output_type": "execute_result"
    }
   ],
   "source": [
    "Classroom.prototype._toHtml = function() {\n",
    "    // HTML Style is build using inline structure\n",
    "    var style = (\n",
    "      \"display:inline-block;\" +\n",
    "      \"border: 2px solid grey;\" +\n",
    "      \"box-shadow: 0.8em 0.4em 0.4em grey;\"\n",
    "    );\n",
    "  \n",
    "    // HTML Body of Table is build as a series of concatenations (+=)\n",
    "    var body = \"\";\n",
    "    // Heading for Array Columns\n",
    "    body += \"<tr>\";\n",
    "    body += \"<th><mark>\" + \"Name\" + \"</mark></th>\";\n",
    "    body += \"<th><mark>\" + \"GitHub ID\" + \"</mark></th>\";\n",
    "    body += \"<th><mark>\" + \"Class Of\" + \"</mark></th>\";\n",
    "    body += \"<th><mark>\" + \"Role\" + \"</mark></th>\";\n",
    "    body += \"</tr>\";\n",
    "    // Data of Array, iterate through each row of compsci.classroom \n",
    "    for (var row of compsci.classroom) {\n",
    "      // tr for each row, a new line\n",
    "      body += \"<tr>\";\n",
    "      // td for each column of data\n",
    "      body += \"<td>\" + row.name + \"</td>\";\n",
    "      body += \"<td>\" + row.ghID + \"</td>\";\n",
    "      body += \"<td>\" + row.classOf + \"</td>\";\n",
    "      body += \"<td>\" + row.role + \"</td>\";\n",
    "      // tr to end line\n",
    "      body += \"<tr>\";\n",
    "    }\n",
    "  \n",
    "     // Build and HTML fragment of div, table, table body\n",
    "    return (\n",
    "      \"<div style='\" + style + \"'>\" +\n",
    "        \"<table>\" +\n",
    "          body +\n",
    "        \"</table>\" +\n",
    "      \"</div>\"\n",
    "    );\n",
    "  \n",
    "  };\n",
    "  \n",
    "  // IJavaScript HTML processor receive parameter of defined HTML fragment\n",
    "  $$.html(compsci._toHtml());"
   ]
  }
 ],
 "metadata": {
  "kernelspec": {
   "display_name": "JavaScript (Node.js)",
   "language": "javascript",
   "name": "javascript"
  },
  "language_info": {
   "file_extension": ".js",
   "mimetype": "application/javascript",
   "name": "javascript",
   "version": "18.9.0"
  },
  "orig_nbformat": 4,
  "vscode": {
   "interpreter": {
    "hash": "aee8b7b246df8f9039afb4144a1f6fd8d2ca17a180786b69acc140d282b71a49"
   }
  }
 },
 "nbformat": 4,
 "nbformat_minor": 2
}
