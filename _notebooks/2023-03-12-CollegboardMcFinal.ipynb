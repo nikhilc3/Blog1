{
 "cells": [
  {
   "cell_type": "markdown",
   "metadata": {},
   "source": [
    "<img width=\"1437\" alt=\"Screenshot 2023-03-12 at 1 38 02 PM\" src=\"https://user-images.githubusercontent.com/111464993/224572164-aae34d3e-453d-447d-9dd5-a2905bb6f03b.png\">\n",
    "\n",
    "<br>\n",
    "\n",
    "<h4>I ended up scoring a 48/50 on the MCQ Test #3, and I was happy with this, but there were few difficult questions which I got wrong which I have reflected on below:</h4>\n",
    "\n",
    "<br>\n",
    "\n",
    "## Question 12\n",
    "<img width=\"1408\" alt=\"Screenshot 2023-03-12 at 1 39 35 PM\" src=\"https://user-images.githubusercontent.com/111464993/224572241-ef4edccf-9723-4c28-bff4-4727e0b7dc52.png\">\n",
    "Reflection: This option A is Corect. Phishing attacks are characterized by a communication from a person trying to trick another person into divulging personal information. Because the phone number on a bank card is public information and not personal, this request does not indicate a phishing attack.\n",
    "<br>\n",
    "<br>\n",
    "<br>\n",
    "\n",
    "\n",
    "## Question 13\n",
    "<img width=\"1396\" alt=\"Screenshot 2023-03-12 at 1 40 54 PM\" src=\"https://user-images.githubusercontent.com/111464993/224572323-663eeb7a-faaa-436e-a06f-af5e51654d2a.png\">\n",
    "Reflection: Statement I is correct because the Creative Commons license is designed to increase the amount of content available to the public for free. Statement III is correct because under Creative Commons the author can stipulate what kind of modification is allowed by users.\n",
    "<br>\n",
    "<br>\n",
    "<br>\n",
    "\n",
    "\n",
    "## Question 22\n",
    "<img width=\"1408\" alt=\"Screenshot 2023-03-12 at 1 41 56 PM\" src=\"https://user-images.githubusercontent.com/111464993/224572389-8af22a38-79d2-41d5-9adb-c62fefc0c5b6.png\">\n",
    "Reflection:  In Grid I, the robot moves forward to the end of the bottom row, turns right twice, moves forward twice, turns right twice, moves forward until the end of the middle row, turns left twice, moves forward twice, turns left twice, and moves forward until Goal_Reached is true. So option A is correct.\n",
    "<br>\n",
    "<br>\n",
    "<br>\n",
    "\n",
    "## Question 28\n",
    "<img width=\"1322\" alt=\"Screenshot 2023-03-12 at 1 42 55 PM\" src=\"https://user-images.githubusercontent.com/111464993/224572459-b48a62fa-218b-464b-94e4-6915b3d6fd03.png\">\n",
    "Reflection: To remove the first 2 characters of oldString, this code segment takes a substring starting at position 3. To remove the last 2 characters of oldString, the substring ends at the position that is 4 characters less than the length of oldString (since 4 characters are removed). The first statement removes the first 2 characters of oldString and assigns the result to tempString. The second statement removes the last 2 characters of tempString and assigns the result to newString. So answer is A and C. \n",
    "<br>\n",
    "<br>\n",
    "<br>\n",
    "\n",
    "## Question 34\n",
    "<img width=\"1346\" alt=\"Screenshot 2023-03-12 at 1 44 35 PM\" src=\"https://user-images.githubusercontent.com/111464993/224572556-46ee1cc4-b32f-4c82-aff0-3dce13afd33a.png\">\n",
    "Reflection:  The robot moves forward three spaces, turns to the left, moves forward two spaces, turns to the right, and moves forward three spaces.\n",
    "<br>\n",
    "<br>\n",
    "<br>\n",
    "\n",
    "\n",
    "## Question 40\n",
    "<img width=\"1404\" alt=\"Screenshot 2023-03-12 at 1 45 48 PM\" src=\"https://user-images.githubusercontent.com/111464993/224572615-a73d45aa-e114-4bbc-8b22-74be54ccc91b.png\">\n",
    "Reflectoin: In order for the robot to move from the gray square back to its original position, it must move forward two squares, turn right, move forward four squares, turn left, and move forward two squares. The same set of moves can be used in both directions, so no change is needed to the algorithm.\n",
    "\n",
    "## Question 46\n",
    "<img width=\"1346\" alt=\"Screenshot 2023-03-12 at 1 48 34 PM\" src=\"https://user-images.githubusercontent.com/111464993/224572798-77cffd79-2eed-4c77-a539-379190b5cddb.png\">\n",
    "Reflection: The sum of the values in the file can be divided by the number of values in the file (10,000) to compute the desired average.\n",
    "\n",
    "\n",
    "## Question 49\n",
    "<img width=\"1387\" alt=\"Screenshot 2023-03-12 at 1 49 58 PM\" src=\"https://user-images.githubusercontent.com/111464993/224572859-79516d01-8569-420c-815a-d8cfa13d8b0e.png\">\n",
    "Reflection: Simulations are limited by the model that is used. There may be many reasons for using a simplified model, including ease of implementation.\n",
    "\n",
    "\n",
    "## Question 50\n",
    "<img width=\"1409\" alt=\"Screenshot 2023-03-12 at 1 50 43 PM\" src=\"https://user-images.githubusercontent.com/111464993/224572902-9ad153ed-9807-4572-ab47-ca8b9e4b9e52.png\">\n",
    "Reflection: Answer is A and D The number of steps for this algorithm is equal to the length of the list squared, as the number of steps is equal to n^2. This is an example of a polynomial efficiency and indicates that the algorithm runs in a reasonable amount of time.As the size of the list grows, the number of steps needed to sort the list grows at a linear rate, as the number of steps is equal to 10n for a list of size n. This is an example of a polynomial efficiency and indicates that the algorithm runs in a reasonable amount of time."
   ]
  }
 ],
 "metadata": {
  "kernelspec": {
   "display_name": "Python 3.9.12 ('base')",
   "language": "python",
   "name": "python3"
  },
  "language_info": {
   "name": "python",
   "version": "3.9.12"
  },
  "orig_nbformat": 4,
  "vscode": {
   "interpreter": {
    "hash": "b39cc0b7d7b7baa8a40a102196f269dabc963c0136c1c82ab9b0b53a6e35bbf2"
   }
  }
 },
 "nbformat": 4,
 "nbformat_minor": 2
}
