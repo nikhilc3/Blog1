{
 "cells": [
  {
   "cell_type": "markdown",
   "metadata": {},
   "source": [
    "# \"OOP Hacks\"\n",
    "\n",
    "- toc: true\n",
    "- comments: true\n",
    "- layout: post"
   ]
  },
  {
   "cell_type": "code",
   "execution_count": 3,
   "metadata": {},
   "outputs": [
    {
     "name": "stdout",
     "output_type": "stream",
     "text": [
      "JSON ready string:\n",
      " {\"name\": \"Nikhil Chakravarthula\", \"uid\": \"toby\", \"dob\": \"06-08-2007\", \"classOf\": 2025, \"age\": 15} \n",
      "\n",
      "Raw Variables of object:\n",
      " {'_name': 'Nikhil Chakravarthula', '_uid': 'toby', '_password': 'sha256$7BBZmo1GO1EXFYog$54b62df017fa8f0cbd73aea9593b41e005319bc51d5b318f8a000f28c0a2a7ab', '_dob': datetime.date(2007, 6, 8), '_classOf': 2025} \n",
      "\n",
      "Raw Attributes and Methods of object:\n",
      " ['__class__', '__delattr__', '__dict__', '__dir__', '__doc__', '__eq__', '__format__', '__ge__', '__getattribute__', '__gt__', '__hash__', '__init__', '__init_subclass__', '__le__', '__lt__', '__module__', '__ne__', '__new__', '__reduce__', '__reduce_ex__', '__repr__', '__setattr__', '__sizeof__', '__str__', '__subclasshook__', '__weakref__', '_classOf', '_dob', '_name', '_password', '_uid', 'age', 'classOf', 'dictionary', 'dob', 'is_uid', 'name', 'set_password', 'uid'] \n",
      "\n",
      "Representation to Re-Create the object:\n",
      " User(name=Nikhil Chakravarthula, uid=toby, password=sha256$7BBZmo1GO1EXFYog$54b62df017fa8f0cbd73aea9593b41e005319bc51d5b318f8a000f28c0a2a7ab,dob=2007-06-08, classOf=2025) \n",
      "\n"
     ]
    }
   ],
   "source": [
    "from werkzeug.security import generate_password_hash, check_password_hash\n",
    "import json\n",
    "\n",
    "class User:    \n",
    "\n",
    "    def __init__(self, name, uid, password, dob, classOf):\n",
    "        self._name = name    # variables with self prefix become part of the object, \n",
    "        self._uid = uid\n",
    "        self.set_password(password)\n",
    "        self._dob = dob\n",
    "        self._classOf = classOf\n",
    "    \n",
    "    @property\n",
    "    def name(self):\n",
    "        return self._name\n",
    "    \n",
    "    @name.setter\n",
    "    def name(self, name):\n",
    "        self._name = name\n",
    "    \n",
    "    @property\n",
    "    def uid(self):\n",
    "        return self._uid\n",
    "    \n",
    "    @uid.setter\n",
    "    def uid(self, uid):\n",
    "        self._uid = uid\n",
    "        \n",
    "    def is_uid(self, uid):\n",
    "        return self._uid == uid\n",
    "    \n",
    "    @property\n",
    "    def dob(self):\n",
    "        dob_string = self._dob.strftime('%m-%d-%Y')\n",
    "        return dob_string\n",
    "    \n",
    "    @dob.setter\n",
    "    def dob(self, dob):\n",
    "        self._dob = dob\n",
    "        \n",
    "    @property\n",
    "    def classOf(self):\n",
    "        return self._classOf\n",
    "    \n",
    "    @classOf.setter\n",
    "    def classOf(self, classOf):\n",
    "        self._classOf = classOf\n",
    "        \n",
    "    @property\n",
    "    def age(self):\n",
    "        today = date.today()\n",
    "        return today.year - self._dob.year - ((today.month, today.day) < (self._dob.month, self._dob.day))\n",
    "    \n",
    "    @property\n",
    "    def dictionary(self):\n",
    "        dict = {\n",
    "            \"name\" : self.name,\n",
    "            \"uid\" : self.uid,\n",
    "            \"dob\" : self.dob,\n",
    "            \"classOf\" : self.classOf,\n",
    "            \"age\" : self.age\n",
    "        }\n",
    "        return dict\n",
    "    \n",
    "    def set_password(self, password):\n",
    "        \"\"\"Create a hashed password.\"\"\"\n",
    "        self._password = generate_password_hash(password, method='sha256')\n",
    "\n",
    "        def is_password(self, password):\"\"\"Check against hashed password.\"\"\"\n",
    "        result = check_password_hash(self._password, password)\n",
    "        return result\n",
    "    \n",
    "    def __str__(self):\n",
    "        return json.dumps(self.dictionary)\n",
    "    \n",
    "    def __repr__(self):\n",
    "        return f'User(name={self._name}, uid={self._uid}, password={self._password},dob={self._dob}, classOf={self._classOf})'\n",
    "    \n",
    "\n",
    "if __name__ == \"__main__\":\n",
    "    u1 = User(name='Nikhil Chakravarthula', uid='toby', password='123toby', dob=date(2007, 6, 8), classOf=2025)\n",
    "    print(\"JSON ready string:\\n\", u1, \"\\n\") \n",
    "    print(\"Raw Variables of object:\\n\", vars(u1), \"\\n\") \n",
    "    print(\"Raw Attributes and Methods of object:\\n\", dir(u1), \"\\n\")\n",
    "    print(\"Representation to Re-Create the object:\\n\", repr(u1), \"\\n\") \n",
    "\n"
   ]
  },
  {
   "cell_type": "markdown",
   "metadata": {},
   "source": [
    "This code defines a class User that represents a user of some system.\n",
    "\n",
    "The init method is the constructor for the class and is called when an object of the class is created. It takes in several arguments, such as name, uid, password, dob (date of birth), and classOf and assigns them to instance variables with the self prefix. These instance variables are associated with the object and can be accessed and modified through the object's methods.\n",
    "\n",
    "The class also has several properties, which are methods decorated with @property. These properties allow for read-only access to the instance variables without allowing direct modification. For example, the name property returns the value of self._name, but does not allow the user to directly change the value of self._name. To change the value, the class also has setter methods, which are decorated with @name.setter.\n",
    "\n",
    "The class also has methods such as is_uid, set_password, and is_password that perform specific tasks such as checking if a given uid matches the object's uid, setting a hashed password for the object, and checking if a given password matches the object's hashed password.\n",
    "\n",
    "The str method is a special method that is called when the object is passed to the print() function or when the str() function is called on the object. It returns a JSON ready string representation of the object.\n",
    "\n",
    "The repr method is another special method that is called when the repr() function is called on the object. It returns a string that can be used to re-create the object.\n",
    "\n",
    "Finally, the code has a few print statements that demonstrate how to use these methods. For example, print(\"JSON ready string:\\n\", u1, \"\\n\") prints the JSON ready string representation of the object u1."
   ]
  },
  {
   "cell_type": "code",
   "execution_count": 1,
   "metadata": {},
   "outputs": [
    {
     "name": "stdout",
     "output_type": "stream",
     "text": [
      "18\n"
     ]
    }
   ],
   "source": [
    "from datetime import date\n",
    "\n",
    "def calculate_age(born):\n",
    "    today = date.today()\n",
    "    return today.year - born.year - ((today.month, today.day) < (born.month, born.day))\n",
    "\n",
    "dob = date(2004, 12, 31)\n",
    "age = calculate_age(dob)\n",
    "print(age)"
   ]
  },
  {
   "cell_type": "code",
   "execution_count": 2,
   "metadata": {},
   "outputs": [
    {
     "name": "stdout",
     "output_type": "stream",
     "text": [
      "{\"make\": \"Tesla\", \"model\": \"Model X\", \"price\": \"$110,000\", \"year\": \"2016\"}\n"
     ]
    }
   ],
   "source": [
    "import json\n",
    "\n",
    "class Car:\n",
    "    def __init__(self, make, model, price, year):\n",
    "        self._make = make\n",
    "        self._model = model\n",
    "        self._price = price\n",
    "        self._year = year\n",
    "\n",
    "    @property\n",
    "    def make(self):\n",
    "        return self._make\n",
    "\n",
    "    @make.setter\n",
    "    def make(self, make):\n",
    "        self._make = make\n",
    "\n",
    "    @property\n",
    "    def model(self):\n",
    "        return self._model\n",
    "\n",
    "    @model.setter\n",
    "    def model(self, model):\n",
    "        self._model = model\n",
    "\n",
    "    @property\n",
    "    def price(self):\n",
    "        return self._price\n",
    "\n",
    "    @price.setter\n",
    "    def price(self, price):\n",
    "        self._price = price\n",
    "\n",
    "    @property\n",
    "    def year(self):\n",
    "        return self._year\n",
    "\n",
    "    @year.setter\n",
    "    def year(self, year):\n",
    "        self._year = year\n",
    "\n",
    "    def calculate_depreciation(self, years):\n",
    "        depreciation = 0.9**years * self._price\n",
    "        return depreciation\n",
    "\n",
    "    @property\n",
    "    def dictionary(self):\n",
    "        car_dict = {\n",
    "            \"make\": self.make,\n",
    "            \"model\": self.model,\n",
    "            \"price\": self.price,\n",
    "            \"year\": self.year\n",
    "        }\n",
    "        return car_dict\n",
    "\n",
    "    def __str__(self):\n",
    "        return json.dumps(self.dictionary)\n",
    "\n",
    "if __name__ == \"__main__\":\n",
    "    car1 = Car(make=\"Tesla\", model=\"Model X\", price=\"$110,000\", year=\"2016\")\n",
    "    print(car1)\n"
   ]
  },
  {
   "cell_type": "markdown",
   "metadata": {},
   "source": [
    "This code defines a class called Car that represents a car object.\n",
    "\n",
    "The init method is the constructor for the class and is called when an object of the class is created. It takes in four arguments, such as make, model, price, and year and assigns them to instance variables with the self prefix. These instance variables are associated with the object and can be accessed and modified through the object's methods.\n",
    "\n",
    "The class also has several properties, which are methods decorated with @property. These properties allow for read-only access to the instance variables without allowing direct modification. For example, the make property returns the value of self._make, but does not allow the user to directly change the value of self._make. To change the value, the class also has setter methods, which are decorated with @make.setter.\n",
    "\n",
    "The class also has a method called calculate_depreciation, which takes in a single argument years and calculates the depreciation of the car based on that many years using the formula: 0.9^years * self._price\n",
    "\n",
    "The class also has a property called dictionary that returns a dictionary representation of the car's attributes, make, model, price, and year.\n",
    "\n",
    "The str method is a special method that is called when the object is passed to the print() function or when the str() function is called on the object. It uses the json.dumps() function to return a JSON string representation of the object.\n",
    "\n",
    "Finally, the code has a simple test that creates a Car object, car1, and prints it, to see the object in the form of json string."
   ]
  }
 ],
 "metadata": {
  "kernelspec": {
   "display_name": "Python 3.9.12 ('base')",
   "language": "python",
   "name": "python3"
  },
  "language_info": {
   "codemirror_mode": {
    "name": "ipython",
    "version": 3
   },
   "file_extension": ".py",
   "mimetype": "text/x-python",
   "name": "python",
   "nbconvert_exporter": "python",
   "pygments_lexer": "ipython3",
   "version": "3.9.12"
  },
  "orig_nbformat": 4,
  "vscode": {
   "interpreter": {
    "hash": "b39cc0b7d7b7baa8a40a102196f269dabc963c0136c1c82ab9b0b53a6e35bbf2"
   }
  }
 },
 "nbformat": 4,
 "nbformat_minor": 2
}
