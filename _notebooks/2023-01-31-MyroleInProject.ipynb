{
 "cells": [
  {
   "cell_type": "markdown",
   "metadata": {},
   "source": [
    "# \"College board requirements our project\"\n",
    "\n",
    "- toc: true\n",
    "- comments: true\n",
    "- layout: post "
   ]
  },
  {
   "cell_type": "markdown",
   "metadata": {},
   "source": [
    "\n",
    "## Requriements for college Board Backend\n",
    "### Program function and purpose\n",
    "- The purpose of my program is to help users login to the website.\n",
    "- (functionality): My program works so users can log in and go to the website.\n",
    "- The user first registers by inputing their username and password, then they can log in through the log in area. \n",
    "- the output of the program is that the user gets access to the website. \n",
    "\n",
    "### Data Abstraction\n",
    "- My data is collected in a database with a class titled database. The data within this class is portrayed in this SQlite table titled database.\n",
    "- The data represented in this database are the id, username, and password that users have inputted in their register.\n",
    "<br>\n",
    "<img width=\"826\" alt=\"Screenshot 2023-02-27 at 11 14 18 PM\" src=\"https://user-images.githubusercontent.com/111464993/221780818-68633536-5281-4bf0-a0c4-0c8a26f9f049.png\">\n",
    "<br>\n",
    "<img width=\"563\" alt=\"Screenshot 2023-02-27 at 11 14 00 PM\" src=\"https://user-images.githubusercontent.com/111464993/221780746-f0ec00a7-e156-41d3-9e46-9f1174c26d6a.png\">\n",
    "\n",
    "### Managing Complexity\n",
    "- without the use of a class and other things the code would be very unorganized and would not function because we needed to use inbuilt functions like flask form.\n",
    "\n",
    "<img width=\"923\" alt=\"Screenshot 2023-02-27 at 11 16 45 PM\" src=\"https://user-images.githubusercontent.com/111464993/221781318-1dd613d3-1fe1-49d3-91b0-42df09508389.png\">\n",
    "<br>\n",
    "<img width=\"636\" alt=\"Screenshot 2023-02-27 at 11 17 01 PM\" src=\"https://user-images.githubusercontent.com/111464993/221781374-a5fca7f1-dd91-44e1-ae3c-7565b8db954c.png\">\n",
    "<br>\n",
    "<img width=\"892\" alt=\"Screenshot 2023-02-27 at 11 17 06 PM\" src=\"https://user-images.githubusercontent.com/111464993/221781392-5e1bf771-c562-4c96-9453-cf22bf82788d.png\">\n",
    "\n",
    "### Procedural Abstraction\n",
    "- A token verification and creation of the token is crucial in procedural abstraction because it creates the token only if it is valid and sends to client.\n",
    "<img width=\"494\" alt=\"Screenshot 2023-02-27 at 11 19 20 PM\" src=\"https://user-images.githubusercontent.com/111464993/221781839-0404ab0d-0fdd-4c97-87a4-6aff1b9df531.png\">\n",
    "\n",
    "<img width=\"582\" alt=\"Screenshot 2023-02-27 at 11 20 55 PM\" src=\"https://user-images.githubusercontent.com/111464993/221782149-e46259aa-e55a-400d-84ff-151c61641e7a.png\">\n",
    "\n",
    "### Algorithm Implentation\n",
    "- this describes the process input going to the backend database and sent back to the frontend. \n",
    "<img width=\"357\" alt=\"Screenshot 2023-02-27 at 11 21 43 PM\" src=\"https://user-images.githubusercontent.com/111464993/221782291-58b196d0-def0-468b-af23-457002e7ccd2.png\">\n",
    "\n",
    "\n",
    "### Testing \n",
    "- First Call: User inputs their registration information and clicks register.\n",
    "* conditions being tested: checks if data is valid and and can be added to the database if has correct length of characters or digits\n",
    "* Data will be stored so user can use it for their log in.\n",
    "\n",
    "- Second Call: If users enter invalid data into the field token is created and you will be loged in.\n",
    "* conditions being tested: checks if token or data is valid and then creates the token.\n",
    "* result: if token is valid it allows you to go to the endpoint\n",
    "\n",
    "<img width=\"494\" alt=\"Screenshot 2023-02-27 at 11 19 20 PM\" src=\"https://user-images.githubusercontent.com/111464993/221781839-0404ab0d-0fdd-4c97-87a4-6aff1b9df531.png\">\n",
    "\n",
    "<img width=\"582\" alt=\"Screenshot 2023-02-27 at 11 20 55 PM\" src=\"https://user-images.githubusercontent.com/111464993/221782149-e46259aa-e55a-400d-84ff-151c61641e7a.png\">\n",
    "\n",
    "<img width=\"961\" alt=\"Screenshot 2023-02-27 at 11 25 46 PM\" src=\"https://user-images.githubusercontent.com/111464993/221783162-a61e5097-ce31-4e05-95e0-766a90a00d0e.png\">\n",
    "\n",
    "\n"
   ]
  },
  {
   "cell_type": "markdown",
   "metadata": {},
   "source": []
  }
 ],
 "metadata": {
  "kernelspec": {
   "display_name": "Python 3.9.12 ('base')",
   "language": "python",
   "name": "python3"
  },
  "language_info": {
   "name": "python",
   "version": "3.9.12"
  },
  "orig_nbformat": 4,
  "vscode": {
   "interpreter": {
    "hash": "b39cc0b7d7b7baa8a40a102196f269dabc963c0136c1c82ab9b0b53a6e35bbf2"
   }
  }
 },
 "nbformat": 4,
 "nbformat_minor": 2
}
