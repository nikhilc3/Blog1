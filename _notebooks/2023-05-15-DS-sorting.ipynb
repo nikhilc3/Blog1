{
 "cells": [
  {
   "attachments": {},
   "cell_type": "markdown",
   "metadata": {},
   "source": [
    "# Sorting Algorithms\n",
    "> Working with Data Structures and manipulating data.\n",
    "\n",
    "- toc: true\n",
    "- categories: []\n",
    "- type: pbl\n",
    "- week: 34"
   ]
  },
  {
   "attachments": {},
   "cell_type": "markdown",
   "metadata": {},
   "source": [
    "[wget link](https://raw.githubusercontent.com/nighthawkcoders/APCSP/master/_notebooks/2023-05-15-DS-sorting.ipynb)"
   ]
  },
  {
   "cell_type": "code",
   "execution_count": 6,
   "metadata": {},
   "outputs": [
    {
     "name": "stdout",
     "output_type": "stream",
     "text": [
      "Random List\n",
      "[90, 43, 17, 98, 69, 33, 32, 90, 14, 100]\n"
     ]
    }
   ],
   "source": [
    "import random\n",
    "\n",
    "numbers = []\n",
    "for i in range(10):\n",
    "    numbers.append(random.randint(0,100))\n",
    "print(\"Random List\")\n",
    "print(numbers)"
   ]
  },
  {
   "attachments": {},
   "cell_type": "markdown",
   "metadata": {},
   "source": [
    "# Warm Up\n",
    "\n",
    "> Discuss with a partner... \n",
    "What are some strategies you would use to sort this list? (Don't worry about writing code for now)\n",
    "- Find the smallest number and then the next smallest number until the list is sorted."
   ]
  },
  {
   "attachments": {},
   "cell_type": "markdown",
   "metadata": {},
   "source": [
    "# Explore\n",
    "\n",
    "Get into groups of 3\n",
    "\n",
    "We will be focusing on 4 algorithms today.\n",
    "\n",
    "We will look at the first one together, Bubble Sort\n",
    "\n",
    "![](images/bubble-sort.png)\n",
    "\n",
    "What is happening with this sort?\n",
    "- It compares the first number to the next, and if the difference is less than one, it swaps. Then it continues in the same manner. It cycles through the list, comparing each item until the list is sorted.\n",
    "\n",
    "\n",
    "In your groups you will each choose to be an expert on a sorting algorithm. Merge, Selection, and Insertion.\n",
    "Take about 5 minutes to read about your algorithm (Geek for Geeks linked below) and be ready to explain it to your other group members. \n",
    "\n",
    "[Merge](https://www.geeksforgeeks.org/merge-sort/#)\n",
    "\n",
    "[Selection](https://www.geeksforgeeks.org/selection-sort/)\n",
    "\n",
    "[Insertion](https://www.geeksforgeeks.org/insertion-sort/)"
   ]
  },
  {
   "attachments": {},
   "cell_type": "markdown",
   "metadata": {},
   "source": [
    "# Sorting Words\n",
    "> Sorting strings works in the same way as integers. Using your expertise algorithm, sort the following list of random words."
   ]
  },
  {
   "cell_type": "code",
   "execution_count": 7,
   "metadata": {},
   "outputs": [
    {
     "name": "stdout",
     "output_type": "stream",
     "text": [
      "Random List:\n",
      "['Nguyen', 'overlength', 'wretchlessly', 'premious', 'casemented', 'buccaneerish', 'undiscomfited', 'Cryptobranchiata', 'phytonomy', 'muff']\n",
      "Sorted List:\n",
      "['Cryptobranchiata', 'Nguyen', 'buccaneerish', 'casemented', 'muff', 'overlength', 'phytonomy', 'premious', 'undiscomfited', 'wretchlessly']\n"
     ]
    },
    {
     "name": "stderr",
     "output_type": "stream",
     "text": [
      "[nltk_data] Downloading package words to\n",
      "[nltk_data]     /Users/nikhilchakravarthula/nltk_data...\n",
      "[nltk_data]   Package words is already up-to-date!\n"
     ]
    }
   ],
   "source": [
    "import nltk\n",
    "import random\n",
    "from nltk.corpus import words\n",
    "\n",
    "# Download the word list (only required once)\n",
    "nltk.download('words')  \n",
    "english_words = words.words()\n",
    "\n",
    "def new_words():\n",
    "    random_words = []\n",
    "    for i in range(10):\n",
    "        random_words.append(english_words[random.randint(0, len(english_words))])\n",
    "    return random_words\n",
    "\n",
    "random_list = new_words()\n",
    "print(\"Random List:\")\n",
    "print(random_list)\n",
    "\n",
    "# Sorting the list\n",
    "sorted_list = sorted(random_list)\n",
    "print(\"Sorted List:\")\n",
    "print(sorted_list)\n"
   ]
  },
  {
   "attachments": {},
   "cell_type": "markdown",
   "metadata": {},
   "source": [
    "## Discuss \n",
    "Answer the following with your group.\n",
    "\n",
    "- When should you use each algorithm? What makes an algorithm the right choice?\n",
    "- Given the following lists...\n",
    "- [0, 2, 6, 4, 8, 10]: Bubble or Insertion because you only need to swap two values that are adjacent.\n",
    "- [Elephant, Banana, Cat, Dog, Apple]: Selection because it runs the least amount of steps because it would only need to move 4 things or 4 steps\n",
    "- [29, 13, 83, 47, 32, 78, 100, 60, 65, 15, 24, 9, 40, 68, 53, 8, 90, 58, 39, 32, 34, 91, 74, 94, 49, 87, 34, 87, 23, 17, 27, 2, 38, 58, 84, 15, 9, 46, 74, 40, 44, 8, 55, 28, 81, 92, 81, 88, 53, 38, 19, 21, 9, 54, 21, 67, 3, 41, 3, 74, 13, 71, 70, 45, 5, 36, 80, 64, 97, 86, 73, 74, 94, 79, 49, 32, 20, 68, 64, 69, 1, 77, 31, 56, 100, 80, 48, 75, 85, 93, 67, 57, 26, 56, 43, 53, 59, 28, 67, 50]: Merge because it scales betters with larger inputs."
   ]
  },
  {
   "attachments": {},
   "cell_type": "markdown",
   "metadata": {},
   "source": [
    "## HACKS\n",
    "> Provided below is a Bubble Sort Algorithm sorting a list of dictionaries based off of selected key.\n",
    "\n",
    "- Now it's time to do some coding...\n",
    "\n",
    "- Run code and then research and answer these questions...\n",
    "    - Is a list and/or dictionary in python considered a primitive or collection type?  Why?\n",
    "    - Is the list passed into bubble sort \"pass-by-value\" or \"pass-by-reference? Describe why in relation to output.\n",
    "\n",
    "- Implement new cell(s) and/or organize cells to do the following.\n",
    "    - Create your own list\n",
    "    - Use your expertise sorting algorithm (selection, insertion, merge). Note, I got my bubble sort from Geek for Geeks and made modifications. Each student in a group should have a unique algorithm.\n",
    "    - Test your list with my bubble sort\n",
    "    - Test my list with your new sort\n",
    "    - Research analysis on sorting: comparisons, swaps, time.  Build this into your hacks.\n",
    "    - Find a better way to print the data, key first, then other elements in viewable form.\n",
    "\n",
    "Use the code below to help guide your adventure"
   ]
  },
  {
   "cell_type": "code",
   "execution_count": 8,
   "metadata": {},
   "outputs": [
    {
     "name": "stdout",
     "output_type": "stream",
     "text": [
      "Original\n",
      "[{'name': 'Risa', 'age': 18, 'city': 'New York'}, {'name': 'John', 'age': 63, 'city': 'Eugene'}, {'name': 'Shekar', 'age': 18, 'city': 'San Francisco'}, {'name': 'Ryan', 'age': 21, 'city': 'Los Angeles'}]\n",
      "name\n",
      "[{'name': 'John', 'age': 63, 'city': 'Eugene'}, {'name': 'Risa', 'age': 18, 'city': 'New York'}, {'name': 'Ryan', 'age': 21, 'city': 'Los Angeles'}, {'name': 'Shekar', 'age': 18, 'city': 'San Francisco'}]\n",
      "age\n",
      "[{'name': 'Risa', 'age': 18, 'city': 'New York'}, {'name': 'Shekar', 'age': 18, 'city': 'San Francisco'}, {'name': 'Ryan', 'age': 21, 'city': 'Los Angeles'}, {'name': 'John', 'age': 63, 'city': 'Eugene'}]\n",
      "city\n",
      "[{'name': 'John', 'age': 63, 'city': 'Eugene'}, {'name': 'Ryan', 'age': 21, 'city': 'Los Angeles'}, {'name': 'Risa', 'age': 18, 'city': 'New York'}, {'name': 'Shekar', 'age': 18, 'city': 'San Francisco'}]\n"
     ]
    }
   ],
   "source": [
    "\"\"\"\n",
    "* Creator: Nighthawk Coding Society\n",
    "Bubble Sort of a List of Dictionaries with optimizations, every key in row 0 is used to sort and resort list.\n",
    "\"\"\"\n",
    "\n",
    "# bubble sorts a list of dictionaries, base off of provided key\n",
    "def bubbleSort(list, key):\n",
    "    n = len(list) - 1  # list are indexed 0 to n-1, len is n\n",
    "    \n",
    "    # Traverse through list with i index\n",
    "    for i in range(n):\n",
    "        swapped = False  # optimize code, so it exits if now swaps on inner loop\n",
    "\n",
    "        # Inner traversal using j index\n",
    "        for j in range(n-i):  # n-i as positions on right are in order in bubble\n",
    " \n",
    "            # Swap if the element KeyN is greater KeyN1\n",
    "            keyN = list[j].get(key)\n",
    "            keyN1 = list[j+1].get(key)\n",
    "            if keyN > keyN1:\n",
    "                swapped = True\n",
    "                list[j], list[j + 1] = list[j + 1], list[j]  # single line swap\n",
    "         \n",
    "        if not swapped:  # if no swaps on inner pass, list is sorted\n",
    "            return  # exit function\n",
    "    \n",
    "\n",
    "if __name__ == \"__main__\":\n",
    "    # list/dictionary sample\n",
    "    list_of_people = [\n",
    "    {\"name\": \"Risa\", \"age\": 18, \"city\": \"New York\"},\n",
    "    {\"name\": \"John\", \"age\": 63, \"city\": \"Eugene\"},\n",
    "    {\"name\": \"Shekar\", \"age\": 18, \"city\": \"San Francisco\"},\n",
    "    {\"name\": \"Ryan\", \"age\": 21, \"city\": \"Los Angeles\"}\n",
    "    ]\n",
    "    \n",
    "    # assuming uniform keys, pick 1st row as source of keys\n",
    "    key_row = list_of_people[0]\n",
    "\n",
    "    # print list as defined\n",
    "    print(\"Original\")\n",
    "    print(list_of_people)\n",
    "    \n",
    "    for key in key_row:  # finds each key in the row\n",
    "        print(key)\n",
    "        bubbleSort(list_of_people, key)  # sort list of people\n",
    "        print(list_of_people)"
   ]
  },
  {
   "cell_type": "markdown",
   "metadata": {},
   "source": [
    "# Hacks\n",
    "\n",
    "1. Is a list and/or dictionary in python considered a primitive or collection type? Why?\n",
    "In Python, both lists and dictionaries are considered collection types. They are not primitives because they hold multiple values within a single variable. Primitives are basic data types that cannot be broken down further and typically hold a single value, like integers, floats, booleans, and strings. Lists and dictionaries, on the other hand, are collections that can store multiple values, which can be of different types and can be added or removed dynamically.\n",
    "\n",
    "2. Is the list passed into bubble sort \"pass-by-value\" or \"pass-by-reference? Describe why in relation to output.\n",
    "The list in Python is passed by reference, not by value. This means when you pass a list to a function, you're actually passing a reference to the list, not a new copy of the list. Therefore, if you modify the list in the function, the changes will reflect in the original list. In the case of the bubble sort algorithm, the list gets sorted within the function, and these changes are apparent in the original list because of pass-by-reference."
   ]
  },
  {
   "cell_type": "code",
   "execution_count": 9,
   "metadata": {},
   "outputs": [
    {
     "name": "stdout",
     "output_type": "stream",
     "text": [
      "My Original List\n",
      "[{'name': 'Anna', 'age': 32, 'city': 'Houston'}, {'name': 'Sam', 'age': 25, 'city': 'Dallas'}, {'name': 'Jake', 'age': 42, 'city': 'Austin'}, {'name': 'Emily', 'age': 35, 'city': 'San Antonio'}]\n",
      "Sorting by: name\n",
      "[{'name': 'Anna', 'age': 32, 'city': 'Houston'}, {'name': 'Emily', 'age': 35, 'city': 'San Antonio'}, {'name': 'Jake', 'age': 42, 'city': 'Austin'}, {'name': 'Sam', 'age': 25, 'city': 'Dallas'}]\n",
      "Sorting by: age\n",
      "[{'name': 'Sam', 'age': 25, 'city': 'Dallas'}, {'name': 'Anna', 'age': 32, 'city': 'Houston'}, {'name': 'Emily', 'age': 35, 'city': 'San Antonio'}, {'name': 'Jake', 'age': 42, 'city': 'Austin'}]\n",
      "Sorting by: city\n",
      "[{'name': 'Jake', 'age': 42, 'city': 'Austin'}, {'name': 'Sam', 'age': 25, 'city': 'Dallas'}, {'name': 'Anna', 'age': 32, 'city': 'Houston'}, {'name': 'Emily', 'age': 35, 'city': 'San Antonio'}]\n",
      "\n",
      "Mort's Original List\n",
      "[{'name': 'John', 'age': 63, 'city': 'Eugene'}, {'name': 'Ryan', 'age': 21, 'city': 'Los Angeles'}, {'name': 'Risa', 'age': 18, 'city': 'New York'}, {'name': 'Shekar', 'age': 18, 'city': 'San Francisco'}]\n",
      "Sorting by: name\n",
      "[{'name': 'John', 'age': 63, 'city': 'Eugene'}, {'name': 'Risa', 'age': 18, 'city': 'New York'}, {'name': 'Ryan', 'age': 21, 'city': 'Los Angeles'}, {'name': 'Shekar', 'age': 18, 'city': 'San Francisco'}]\n",
      "Sorting by: age\n",
      "[{'name': 'Risa', 'age': 18, 'city': 'New York'}, {'name': 'Shekar', 'age': 18, 'city': 'San Francisco'}, {'name': 'Ryan', 'age': 21, 'city': 'Los Angeles'}, {'name': 'John', 'age': 63, 'city': 'Eugene'}]\n",
      "Sorting by: city\n",
      "[{'name': 'John', 'age': 63, 'city': 'Eugene'}, {'name': 'Ryan', 'age': 21, 'city': 'Los Angeles'}, {'name': 'Risa', 'age': 18, 'city': 'New York'}, {'name': 'Shekar', 'age': 18, 'city': 'San Francisco'}]\n"
     ]
    }
   ],
   "source": [
    "# insertion sort for a list of dictionaries, based off the provided key \n",
    "def insertionSort(list, key):\n",
    "    for i in range(1, len(list)):\n",
    "        current_value = list[i]\n",
    "        position = i\n",
    "        while position > 0 and list[position - 1][key] > current_value[key]:\n",
    "            list[position] = list[position - 1]\n",
    "            position = position - 1\n",
    "        list[position] = current_value\n",
    "\n",
    "if __name__ == \"__main__\":\n",
    "    # my list of dictionaries\n",
    "    my_list_of_people = [\n",
    "        {\"name\": \"Anna\", \"age\": 32, \"city\": \"Houston\"},\n",
    "        {\"name\": \"Sam\", \"age\": 25, \"city\": \"Dallas\"},\n",
    "        {\"name\": \"Jake\", \"age\": 42, \"city\": \"Austin\"},\n",
    "        {\"name\": \"Emily\", \"age\": 35, \"city\": \"San Antonio\"}\n",
    "    ]\n",
    "    \n",
    "    # print my list as defined\n",
    "    print(\"My Original List\")\n",
    "    print(my_list_of_people)\n",
    "    \n",
    "    for key in my_list_of_people[0]:  # finds each key in the row\n",
    "        print(f\"Sorting by: {key}\")\n",
    "        insertionSort(my_list_of_people, key)  # sort list of people\n",
    "        print(my_list_of_people)\n",
    "\n",
    "    # print your list as defined\n",
    "    print(\"\\nMort's Original List\")\n",
    "    print(list_of_people)\n",
    "    \n",
    "    for key in list_of_people[0]:  # finds each key in the row\n",
    "        print(f\"Sorting by: {key}\")\n",
    "        bubbleSort(list_of_people, key)  # sort list of people\n",
    "        print(list_of_people)\n"
   ]
  },
  {
   "cell_type": "markdown",
   "metadata": {},
   "source": [
    "## Analysis\n",
    "Bubble Sort:\n",
    "- Comparisons: Bubble Sort makes n*(n-1)/2 comparisons in the worst and average cases, where n is the length of the list.\n",
    "- Swaps: The same number of swaps as comparisons can occur in the worst case, i.e., n*(n-1)/2. In the best case, where the list is already sorted, no swaps are needed.\n",
    "- Time complexity: Bubble Sort has a time complexity of O(n^2) for both average and worst cases. The best case (when the list is already sorted) is O(n), as the algorithm can be optimized to stop early if no swaps are made during a complete pass.\n",
    "\n",
    "<br>\n",
    "\n",
    "Insertion Sort:\n",
    "- Comparisons: Insertion Sort makes n*(n-1)/2 comparisons in the worst case (when the list is sorted in reverse order). In the best case, where the list is already sorted, it makes n-1 comparisons.\n",
    "- Swaps: The number of swaps matches the number of comparisons for both worst and best cases.\n",
    "- Time complexity: Insertion Sort also has a time complexity of O(n^2) for the worst case and average case, but the best case is O(n), which occurs when the list is already sorted.\n"
   ]
  },
  {
   "cell_type": "code",
   "execution_count": 10,
   "metadata": {},
   "outputs": [
    {
     "name": "stdout",
     "output_type": "stream",
     "text": [
      "name: John\n",
      "age: 63\n",
      "city: Eugene\n",
      "\n",
      "name: Ryan\n",
      "age: 21\n",
      "city: Los Angeles\n",
      "\n",
      "name: Risa\n",
      "age: 18\n",
      "city: New York\n",
      "\n",
      "name: Shekar\n",
      "age: 18\n",
      "city: San Francisco\n",
      "\n"
     ]
    }
   ],
   "source": [
    "for person in list_of_people:\n",
    "    for key, value in person.items():\n",
    "        print(f\"{key}: {value}\")\n",
    "    print()\n"
   ]
  }
 ],
 "metadata": {
  "kernelspec": {
   "display_name": "Python 3.9.12 ('base')",
   "language": "python",
   "name": "python3"
  },
  "language_info": {
   "codemirror_mode": {
    "name": "ipython",
    "version": 3
   },
   "file_extension": ".py",
   "mimetype": "text/x-python",
   "name": "python",
   "nbconvert_exporter": "python",
   "pygments_lexer": "ipython3",
   "version": "3.9.12"
  },
  "orig_nbformat": 4,
  "vscode": {
   "interpreter": {
    "hash": "b39cc0b7d7b7baa8a40a102196f269dabc963c0136c1c82ab9b0b53a6e35bbf2"
   }
  }
 },
 "nbformat": 4,
 "nbformat_minor": 2
}
