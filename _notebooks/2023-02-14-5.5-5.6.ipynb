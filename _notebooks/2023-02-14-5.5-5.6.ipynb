{
 "cells": [
  {
   "cell_type": "markdown",
   "metadata": {},
   "source": [
    "## 5.5 Legal and Ethical Concerns\n",
    "\n",
    "\n",
    "The MIT license for open source software allows for unrestricted use, modification, and distribution of the code, including creating and distributing closed source versions. On the other hand, the GPL license permits users to do anything with their project except distribute closed source versions.\n",
    "\n",
    "Software licenses play a vital role in protecting software from being copyrighted by others, preventing unauthorized use, and safeguarding digital rights to protect, play, and distribute content. Legal and ethical concerns may arise from issues such as theft, phishing, and illegal downloading of files.\n",
    "\n",
    "For my personal blog, I opted for the MIT license because I intend for it to be public, and this license allows others to access and view my code.\n",
    "\n",
    "In both the frontend and backend of our project, we selected the MIT license because it enables us to make our website public, and we hope that other users can utilize our website to assist with their own websites.\n",
    "\n",
    "\n",
    "\n"
   ]
  },
  {
   "cell_type": "markdown",
   "metadata": {},
   "source": [
    "## 5.6 Safe Computing\n",
    "\n",
    "Using public and private keys in our APCSP class helps to enhance the security of our project and keep Personally Identifiable Information (PII) safe and private, thereby ensuring safety.\n",
    "\n",
    "A strong password is one that contains a variety of symbols and is not easily guessable, while a weak password may consist of just a name or a few numbers. Additional authentication steps, such as facial recognition or email, can also be employed to improve security.\n",
    "\n",
    "Symmetric keys are used for both encryption and decryption, whereas asymmetric keys use a public and private key.\n",
    "\n",
    "An example of encryption that we utilized involves port numbers.\n",
    "\n",
    "Beware of text messages requesting you to confirm an account and providing a link. Scammers can use this tactic to obtain your personal information once you input it on the fraudulent site."
   ]
  },
  {
   "cell_type": "markdown",
   "metadata": {},
   "source": [
    "Cryptocurrency: A digital currency that uses encryption techniques to regulate the generation of units of currency and verify the transfer of funds. Unlike traditional currency, which is backed by a government, cryptocurrency is decentralized and operates independently of a central bank.\n",
    "Now, let's create a table outlining the pros and cons of investing in cryptocurrency:\n",
    "Pros\n",
    "Cons\n",
    "Potential for high returns\n",
    "High volatility and risk\n",
    "Decentralized and transparent\n",
    "Lack of regulation and security\n",
    "Can be traded 24/7\n",
    "Limited merchant acceptance\n",
    "Potential for anonymity\n",
    "Limited understanding and adoption\n",
    "\n",
    "Next, let's look at a real example of someone who made money on cryptocurrency:\n",
    "In 2010, a man named Laszlo Hanyecz famously traded 10,000 bitcoins for two pizzas, which at the time was worth around $41. Today, those same 10,000 bitcoins would be worth over $300 million. This example illustrates the incredible potential for high returns that can be achieved through investing in cryptocurrency.\n",
    "On the other hand, there have also been many instances of people losing money on cryptocurrency investments. For example, in late 2017, the value of Bitcoin reached an all-time high of nearly $20,000, only to crash down to under $4,000 a year later. This high volatility and risk are important factors to consider when investing in cryptocurrency.\n",
    "Overall, while there is potential for significant gains in cryptocurrency investments, it is important to weigh the risks and carefully consider whether it is the right investment choice for your individual financial situation.\n",
    "\n"
   ]
  }
 ],
 "metadata": {
  "kernelspec": {
   "display_name": "Python 3.9.12 ('base')",
   "language": "python",
   "name": "python3"
  },
  "language_info": {
   "name": "python",
   "version": "3.9.12"
  },
  "orig_nbformat": 4,
  "vscode": {
   "interpreter": {
    "hash": "b39cc0b7d7b7baa8a40a102196f269dabc963c0136c1c82ab9b0b53a6e35bbf2"
   }
  }
 },
 "nbformat": 4,
 "nbformat_minor": 2
}
